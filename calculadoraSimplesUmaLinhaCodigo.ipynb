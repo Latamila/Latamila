{
  "nbformat": 4,
  "nbformat_minor": 0,
  "metadata": {
    "colab": {
      "provenance": [],
      "authorship_tag": "ABX9TyOP6sp9n1SaMrG3K6Gkk34H",
      "include_colab_link": true
    },
    "kernelspec": {
      "name": "python3",
      "display_name": "Python 3"
    },
    "language_info": {
      "name": "python"
    }
  },
  "cells": [
    {
      "cell_type": "markdown",
      "metadata": {
        "id": "view-in-github",
        "colab_type": "text"
      },
      "source": [
        "<a href=\"https://colab.research.google.com/github/Latamila/Latamila/blob/main/calculadoraSimplesUmaLinhaCodigo.ipynb\" target=\"_parent\"><img src=\"https://colab.research.google.com/assets/colab-badge.svg\" alt=\"Open In Colab\"/></a>"
      ]
    },
    {
      "cell_type": "code",
      "execution_count": 2,
      "metadata": {
        "colab": {
          "base_uri": "https://localhost:8080/"
        },
        "id": "faY9lNV8RtVo",
        "outputId": "03e8918d-db97-4da8-da0e-3bcec69cd710"
      },
      "outputs": [
        {
          "output_type": "stream",
          "name": "stdout",
          "text": [
            "Bem-vindo ao calculador de Área de Paralelogramo\n",
            "Insira o comprimento da base: 10\n",
            "Insira a altura: 15\n",
            "A área do paralelograma é:  150.00\n"
          ]
        }
      ],
      "source": [
        "print(\"Bem-vindo ao calculador de Área de Paralelogramo\")\n",
        "base = float(input(\"Insira o comprimento da base: \"))\n",
        "altura = float(input(\"Insira a altura: \"))\n",
        "area = base * altura\n",
        "print('A área do paralelograma é: ', f'{area:.2f}')"
      ]
    },
    {
      "cell_type": "code",
      "source": [
        "print('Bem-vindo à Calculadora')\n",
        "primeiro_numero = float(input('Insira o primeiro numero: '))\n",
        "segundo_numero = float(input('Insira o segundo numero: '))\n",
        "operador = input('Seleciona uma operacao (+, -, *, /): ')\n",
        "if operador == '+':\n",
        "  resultado = primeiro_numero + segundo_numero\n",
        "  print(\"O resultado é: \", resultado)\n",
        "elif operador == '-':\n",
        "  resultado = primeiro_numero - segundo_numero\n",
        "  print(\"O resultado é: \", resultado)\n",
        "elif operador == '*':\n",
        "  resultado = primeiro_numero * segundo_numero\n",
        "  print(\"O resultado é: \", resultado)\n",
        "elif operador == '/':\n",
        "  resultado = primeiro_numero / segundo_numero\n",
        "  print(\"O resultado é: \", resultado)\n",
        "else:\n",
        "  print('Operacao inválida')\n",
        "\n"
      ],
      "metadata": {
        "colab": {
          "base_uri": "https://localhost:8080/"
        },
        "id": "P0sFM4NMSK__",
        "outputId": "4287e19a-9c2f-48ed-bffa-cdb93ceb961f"
      },
      "execution_count": 9,
      "outputs": [
        {
          "output_type": "stream",
          "name": "stdout",
          "text": [
            "Bem-vindo à Calculadora\n",
            "Insira o primeiro numero: 12\n",
            "Insira o segundo numero: 2\n",
            "Seleciona uma operacao (+, -, *, /): /\n",
            "O resultado é:  6.0\n"
          ]
        }
      ]
    },
    {
      "cell_type": "markdown",
      "source": [
        "## PODEMOS FAZER UMA CALCULADORA AINDA MAIS SIMPLES"
      ],
      "metadata": {
        "id": "z4hcvIshYetG"
      }
    },
    {
      "cell_type": "code",
      "source": [
        "print('Bem-vindo à Calculadora')\n",
        "primeiro_numero = float(input('Insira o primeiro numero: '))\n",
        "segundo_numero = float(input('Insira o segundo numero: '))\n",
        "operador = input('Seleciona uma operacao (+, -, *, /): ')\n",
        "\n",
        "calculadora_simples = lambda x, y, operador: (lambda f: f(x, y))(lambda a, b: a + b if operador == '+' else (a - b if operador == '-' else (a * b if operador == '*' else (a / b if operador == '/' else 'Operação inválida'))))\n",
        "resultado = calculadora_simples(primeiro_numero, segundo_numero, operador)\n",
        "print(f'{resultado:.2f}')"
      ],
      "metadata": {
        "colab": {
          "base_uri": "https://localhost:8080/"
        },
        "id": "y_qhAFcUXhMe",
        "outputId": "a7597fe7-a871-4a8e-a40d-8a6ea4efec86"
      },
      "execution_count": 19,
      "outputs": [
        {
          "output_type": "stream",
          "name": "stdout",
          "text": [
            "Bem-vindo à Calculadora\n",
            "Insira o primeiro numero: 10\n",
            "Insira o segundo numero: 20\n",
            "Seleciona uma operacao (+, -, *, /): *\n",
            "200.00\n"
          ]
        }
      ]
    },
    {
      "cell_type": "markdown",
      "source": [
        "#A calculadora simples foi feita com a função anonima lambda.\n",
        "\n",
        "Chama a função primeiro passando os parametros x (primeiro numero), y (segundo numero), operador (operador). coloque os 2 pontos para iniciar a função.\n",
        "#lambda x, y, operador:\n",
        "Passe como será a estrutura da função e o modelo do calculo. Escreva de novo lambda como função\n",
        "\n",
        "#(lambda f: f(x,y))\n",
        "Vai ser uma função que itera entre x e y.\n",
        "fecha essas declarações.\n",
        "\n",
        "#(lambda a, b: a + b\n",
        "Se o operador for o + , faça uma adição\n",
        "\n",
        "\n",
        "#else\n",
        "se nao,\n",
        "(a - b se o operador for o -, faça uma subtração\n",
        "\n",
        "#else\n",
        "se nao,\n",
        "(a * b se o operador for o -, faça uma multiplicação\n",
        "\n",
        "#else\n",
        "se nao,\n",
        "(a / b se o operador for o / faça uma divisão\n",
        "\n",
        "#else\n",
        "printa operação inválida\n"
      ],
      "metadata": {
        "id": "Yt0KtjVtaOQ8"
      }
    },
    {
      "cell_type": "code",
      "source": [],
      "metadata": {
        "id": "a7QFMfJHYXAS"
      },
      "execution_count": null,
      "outputs": []
    }
  ]
}