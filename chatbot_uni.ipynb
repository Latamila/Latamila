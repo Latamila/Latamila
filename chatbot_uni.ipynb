{
  "nbformat": 4,
  "nbformat_minor": 0,
  "metadata": {
    "colab": {
      "provenance": [],
      "authorship_tag": "ABX9TyP6iM5R8FM7d3pO4YJyP9Gr",
      "include_colab_link": true
    },
    "kernelspec": {
      "name": "python3",
      "display_name": "Python 3"
    },
    "language_info": {
      "name": "python"
    }
  },
  "cells": [
    {
      "cell_type": "markdown",
      "metadata": {
        "id": "view-in-github",
        "colab_type": "text"
      },
      "source": [
        "<a href=\"https://colab.research.google.com/github/Latamila/Latamila/blob/main/chatbot_uni.ipynb\" target=\"_parent\"><img src=\"https://colab.research.google.com/assets/colab-badge.svg\" alt=\"Open In Colab\"/></a>"
      ]
    },
    {
      "cell_type": "code",
      "execution_count": 1,
      "metadata": {
        "colab": {
          "base_uri": "https://localhost:8080/"
        },
        "id": "TM1lSQtA00yi",
        "outputId": "c9f9efa7-8d68-455e-db5d-df5fc468932d"
      },
      "outputs": [
        {
          "output_type": "stream",
          "name": "stdout",
          "text": [
            "Looking in indexes: https://pypi.org/simple, https://us-python.pkg.dev/colab-wheels/public/simple/\n",
            "Requirement already satisfied: chatterbot in /usr/local/lib/python3.7/dist-packages (1.0.8)\n",
            "Requirement already satisfied: python-dateutil<2.9,>=2.8 in /usr/local/lib/python3.7/dist-packages (from chatterbot) (2.8.2)\n",
            "Requirement already satisfied: mathparse<0.2,>=0.1 in /usr/local/lib/python3.7/dist-packages (from chatterbot) (0.1.2)\n",
            "Requirement already satisfied: pytz in /usr/local/lib/python3.7/dist-packages (from chatterbot) (2022.5)\n",
            "Requirement already satisfied: sqlalchemy<1.4,>=1.3 in /usr/local/lib/python3.7/dist-packages (from chatterbot) (1.3.24)\n",
            "Requirement already satisfied: six>=1.5 in /usr/local/lib/python3.7/dist-packages (from python-dateutil<2.9,>=2.8->chatterbot) (1.15.0)\n"
          ]
        }
      ],
      "source": [
        "!pip install chatterbot"
      ]
    },
    {
      "cell_type": "code",
      "source": [
        "!pip install chatterbot_corpus"
      ],
      "metadata": {
        "colab": {
          "base_uri": "https://localhost:8080/"
        },
        "id": "Qv3VIzIi02R4",
        "outputId": "7bbc7a9b-f726-4388-ae32-6ffc21fe9d12"
      },
      "execution_count": 2,
      "outputs": [
        {
          "output_type": "stream",
          "name": "stdout",
          "text": [
            "Looking in indexes: https://pypi.org/simple, https://us-python.pkg.dev/colab-wheels/public/simple/\n",
            "Requirement already satisfied: chatterbot_corpus in /usr/local/lib/python3.7/dist-packages (1.2.0)\n",
            "Requirement already satisfied: PyYAML<4.0,>=3.12 in /usr/local/lib/python3.7/dist-packages (from chatterbot_corpus) (3.13)\n"
          ]
        }
      ]
    },
    {
      "cell_type": "code",
      "source": [
        "import os "
      ],
      "metadata": {
        "id": "UfWPjx2106wI"
      },
      "execution_count": 3,
      "outputs": []
    },
    {
      "cell_type": "code",
      "source": [
        "from chatterbot import ChatBot\n",
        "from chatterbot.trainers import ListTrainer\n",
        "from spacy.cli import download\n",
        "\n",
        "download('en_core_web_sm')\n",
        "\n",
        "class ENGSM:\n",
        "  ISO_639_1 = 'en_core_web_sm'"
      ],
      "metadata": {
        "colab": {
          "base_uri": "https://localhost:8080/"
        },
        "id": "SohSm67L1Bd1",
        "outputId": "14fae351-9953-4112-ec38-026741acbdb4"
      },
      "execution_count": 4,
      "outputs": [
        {
          "output_type": "stream",
          "name": "stdout",
          "text": [
            "\u001b[38;5;2m✔ Download and installation successful\u001b[0m\n",
            "You can now load the package via spacy.load('en_core_web_sm')\n"
          ]
        }
      ]
    },
    {
      "cell_type": "code",
      "source": [
        " chatbot = ChatBot('camila',\n",
        "                   tagger_language = ENGSM,\n",
        "                   storage_adapter='chatterbot.storage.SQLStorageAdapter',\n",
        "                   logic_adapters=[\n",
        "        {\n",
        "            'import_path': 'chatterbot.logic.BestMatch',\n",
        "            'default_response': 'Eu não entendi. Me fala em poucas palavras, sua solicitação.',\n",
        "            'maximum_similarity_threshold': 0.90\n",
        "        }\n",
        "    ]\n",
        " )"
      ],
      "metadata": {
        "id": "4zXDIMXc1GxW"
      },
      "execution_count": 5,
      "outputs": []
    },
    {
      "cell_type": "code",
      "source": [
        "conversa2=[\n",
        "    'vai fazer entrega hoje',\n",
        "    'Ola. Estamos fazendo entregas. Caso queira pedir agora,é só enviar o número do pedido. 1-Mixto Quente. 2.EggBacon. 3-EggFrango. 4.X-tudo.',\n",
        "    'boa tarde',\n",
        "    'Ola. Estamos fazendo entregas. Caso queira pedir agora,é só enviar o número do pedido. 1-Mixto Quente. 2.EggBacon. 3-EggFrango. 4.X-tudo.',\n",
        "    'bom dia',\n",
        "    'Ola. Estamos fazendo entregas. Caso queira pedir agora,é só enviar o número do pedido. 1-Mixto Quente. 2.EggBacon. 3-EggFrango. 4.X-tudo.',\n",
        "    'boa noite',\n",
        "    'Ola. Estamos fazendo entregas. Caso queira pedir agora,é só enviar o número do pedido. 1-Mixto Quente. 2.EggBacon. 3-EggFrango. 4.X-tudo.',\n",
        "    'oi',\n",
        "    'Ola. Estamos fazendo entregas. Caso queira pedir agora,é só enviar o número do pedido. 1-Mixto Quente. 2.EggBacon. 3-EggFrango. 4.X-tudo.',\n",
        "    '1',\n",
        "    'Isso.Mais algum?Pode inserir o número do outro pedido!',\n",
        "    '2',\n",
        "    'Anotado.Mais algum?Pode inserir o número do outro pedido! Ou digite fechar',\n",
        "    '3',\n",
        "    'Excelente escolha.Mais algum?Pode inserir o número do outro pedido! Ou digite fechar',\n",
        "    '4',\n",
        "    'Maravilha.Mais algum?Pode inserir o número do outro pedido! Ou digite fechar',\n",
        "    'fechar',\n",
        "    'Perfeito. Seu pagamento sera por cartão, dinheiro ou pix?',\n",
        "    'cartão',\n",
        "    'Nosso entregador levará a maquininha.',\n",
        "    'dinheiro',\n",
        "    'Opa, nosso entregador troco para até 100 reais.',\n",
        "    'pix',\n",
        "    'Bem rapidinho. Minha chave pix é o 317116847',\n",
        "    'ok',\n",
        "    'te ajudo com algo mais?',\n",
        "    'tem refrigerante?',\n",
        "    'Tem sim. Coca por 10,90 e Guaraná por 8,20. Todos de 2 litros. Responda 5-Coca ou 6-Guaraná para inserir um dos refri. Ou DIGITE NAO',\n",
        "    'sim',\n",
        "    'Combinado',\n",
        "\n",
        "]"
      ],
      "metadata": {
        "id": "8yYxk-zp1PYJ"
      },
      "execution_count": 6,
      "outputs": []
    },
    {
      "cell_type": "code",
      "source": [
        "trainer = ListTrainer(chatbot)\n",
        "trainer.train(conversa2)"
      ],
      "metadata": {
        "colab": {
          "base_uri": "https://localhost:8080/"
        },
        "id": "vAn2utm73CSg",
        "outputId": "959c90af-0fbd-4d05-9004-f7c13d8bd933"
      },
      "execution_count": 7,
      "outputs": [
        {
          "output_type": "stream",
          "name": "stdout",
          "text": [
            "List Trainer: [####################] 100%\n"
          ]
        }
      ]
    },
    {
      "cell_type": "code",
      "source": [
        "chatbot.get_response('oi')"
      ],
      "metadata": {
        "colab": {
          "base_uri": "https://localhost:8080/"
        },
        "id": "gaX62vYQ1Tyh",
        "outputId": "34bfe956-281e-47b7-ddc7-12e7f993bc30"
      },
      "execution_count": 8,
      "outputs": [
        {
          "output_type": "execute_result",
          "data": {
            "text/plain": [
              "<Statement text:Ola. Estamos fazendo entregas. Caso queira pedir agora,é só enviar o número do pedido. 1-Mixto Quente. 2.EggBacon. 3-EggFrango. 4.X-tudo.>"
            ]
          },
          "metadata": {},
          "execution_count": 8
        }
      ]
    },
    {
      "cell_type": "code",
      "source": [
        "chatbot.get_response('boa noite')"
      ],
      "metadata": {
        "colab": {
          "base_uri": "https://localhost:8080/"
        },
        "id": "NtzHrHAk20hx",
        "outputId": "160a9ac7-4ed2-45e0-d86b-aad358078520"
      },
      "execution_count": 9,
      "outputs": [
        {
          "output_type": "execute_result",
          "data": {
            "text/plain": [
              "<Statement text:Ola. Estamos fazendo entregas. Caso queira pedir agora,é só enviar o número do pedido. 1-Mixto Quente. 2.EggBacon. 3-EggFrango. 4.X-tudo.>"
            ]
          },
          "metadata": {},
          "execution_count": 9
        }
      ]
    },
    {
      "cell_type": "code",
      "source": [
        "chatbot.get_response('3')"
      ],
      "metadata": {
        "colab": {
          "base_uri": "https://localhost:8080/"
        },
        "id": "2LW6xdwu3IWH",
        "outputId": "dfb8b929-58a8-413e-da13-373d5c9cee9e"
      },
      "execution_count": 10,
      "outputs": [
        {
          "output_type": "execute_result",
          "data": {
            "text/plain": [
              "<Statement text:Excelente escolha.Mais algum?Pode inserir o número do outro pedido! Ou digite fechar>"
            ]
          },
          "metadata": {},
          "execution_count": 10
        }
      ]
    },
    {
      "cell_type": "code",
      "source": [
        "def start():\n",
        "  print('Olá bem vindo ao Recanto Sanduba')\n",
        "  while True:\n",
        "    mensagem = input('Deixe aqui sua mensagem: ')\n",
        "    if mensagem == 'nao':\n",
        "      nome = input('Posso saber como se chama: ')\n",
        "      endereco= input('E seu endereço de entrega: ')\n",
        "      print(f'{os.linesep}{nome}, Maravilha.Em aproximadamente, 30 minutos estaremos enviando seu pedido. Excelente experiência gastronômica conosco hoje{os.linesep}A entrega será feito no endereço: {endereco}{os.linesep}Até daqui a pouco.')\n",
        "      break\n",
        "    resposta = chatbot.get_response(mensagem)\n",
        "    print(resposta)"
      ],
      "metadata": {
        "id": "FMHbxyRW3Lwn"
      },
      "execution_count": 11,
      "outputs": []
    },
    {
      "cell_type": "code",
      "source": [
        "start()"
      ],
      "metadata": {
        "colab": {
          "base_uri": "https://localhost:8080/"
        },
        "id": "yeW1tg2T4xtH",
        "outputId": "6a626d4e-7f5f-44e3-a949-6d33219321dd"
      },
      "execution_count": 12,
      "outputs": [
        {
          "output_type": "stream",
          "name": "stdout",
          "text": [
            "Olá bem vindo ao Recanto Sanduba\n",
            "Deixe aqui sua mensagem: boa tarde\n",
            "Ola. Estamos fazendo entregas. Caso queira pedir agora,é só enviar o número do pedido. 1-Mixto Quente. 2.EggBacon. 3-EggFrango. 4.X-tudo.\n",
            "Deixe aqui sua mensagem: 3\n",
            "Excelente escolha.Mais algum?Pode inserir o número do outro pedido! Ou digite fechar\n",
            "Deixe aqui sua mensagem: nao\n",
            "Posso saber como se chama: camila veloso\n",
            "E seu endereço de entrega: r. e, 543 bairro campinho\n",
            "\n",
            "camila veloso, Maravilha.Em aproximadamente, 30 minutos estaremos enviando seu pedido. Excelente experiência gastronômica conosco hoje\n",
            "A entrega será feito no endereço: r. e, 543 bairro campinho\n",
            "Até daqui a pouco.\n"
          ]
        }
      ]
    },
    {
      "cell_type": "code",
      "source": [],
      "metadata": {
        "id": "ZQYXmyg58oat"
      },
      "execution_count": null,
      "outputs": []
    }
  ]
}