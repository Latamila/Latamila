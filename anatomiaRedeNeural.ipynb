{
  "nbformat": 4,
  "nbformat_minor": 0,
  "metadata": {
    "colab": {
      "provenance": [],
      "authorship_tag": "ABX9TyPXWGkfgH8N3Tco7xSHz0uE",
      "include_colab_link": true
    },
    "kernelspec": {
      "name": "python3",
      "display_name": "Python 3"
    },
    "language_info": {
      "name": "python"
    },
    "widgets": {
      "application/vnd.jupyter.widget-state+json": {
        "fd6e073a430b44f29fc00448513c5933": {
          "model_module": "@jupyter-widgets/controls",
          "model_name": "HBoxModel",
          "model_module_version": "1.5.0",
          "state": {
            "_dom_classes": [],
            "_model_module": "@jupyter-widgets/controls",
            "_model_module_version": "1.5.0",
            "_model_name": "HBoxModel",
            "_view_count": null,
            "_view_module": "@jupyter-widgets/controls",
            "_view_module_version": "1.5.0",
            "_view_name": "HBoxView",
            "box_style": "",
            "children": [
              "IPY_MODEL_f01dd2004bd645eb8f86008c370dcf02",
              "IPY_MODEL_cb2dc126d2ff40e3aae4f7321948aed4",
              "IPY_MODEL_13bd555a800d4319ac5fe999ad3516cb"
            ],
            "layout": "IPY_MODEL_6a8d9b4d57a44072a171059e6fd130ab"
          }
        },
        "f01dd2004bd645eb8f86008c370dcf02": {
          "model_module": "@jupyter-widgets/controls",
          "model_name": "HTMLModel",
          "model_module_version": "1.5.0",
          "state": {
            "_dom_classes": [],
            "_model_module": "@jupyter-widgets/controls",
            "_model_module_version": "1.5.0",
            "_model_name": "HTMLModel",
            "_view_count": null,
            "_view_module": "@jupyter-widgets/controls",
            "_view_module_version": "1.5.0",
            "_view_name": "HTMLView",
            "description": "",
            "description_tooltip": null,
            "layout": "IPY_MODEL_416e327381f34126b4d6f23ae6539752",
            "placeholder": "​",
            "style": "IPY_MODEL_704203c8d9d1444fb58a57b60b257a55",
            "value": "Epoch 99: 100%"
          }
        },
        "cb2dc126d2ff40e3aae4f7321948aed4": {
          "model_module": "@jupyter-widgets/controls",
          "model_name": "FloatProgressModel",
          "model_module_version": "1.5.0",
          "state": {
            "_dom_classes": [],
            "_model_module": "@jupyter-widgets/controls",
            "_model_module_version": "1.5.0",
            "_model_name": "FloatProgressModel",
            "_view_count": null,
            "_view_module": "@jupyter-widgets/controls",
            "_view_module_version": "1.5.0",
            "_view_name": "ProgressView",
            "bar_style": "success",
            "description": "",
            "description_tooltip": null,
            "layout": "IPY_MODEL_5f6a1131aece46919df08a8a3fd783af",
            "max": 4,
            "min": 0,
            "orientation": "horizontal",
            "style": "IPY_MODEL_d161f008d68941e2832ac8f57778b2c1",
            "value": 4
          }
        },
        "13bd555a800d4319ac5fe999ad3516cb": {
          "model_module": "@jupyter-widgets/controls",
          "model_name": "HTMLModel",
          "model_module_version": "1.5.0",
          "state": {
            "_dom_classes": [],
            "_model_module": "@jupyter-widgets/controls",
            "_model_module_version": "1.5.0",
            "_model_name": "HTMLModel",
            "_view_count": null,
            "_view_module": "@jupyter-widgets/controls",
            "_view_module_version": "1.5.0",
            "_view_name": "HTMLView",
            "description": "",
            "description_tooltip": null,
            "layout": "IPY_MODEL_e44e77e7070140a1a386a00cd324ee93",
            "placeholder": "​",
            "style": "IPY_MODEL_92b6b25fff034e2aa4417c02968a4d75",
            "value": " 4/4 [00:00&lt;00:00, 92.25it/s, loss=0.251, v_num=0]"
          }
        },
        "6a8d9b4d57a44072a171059e6fd130ab": {
          "model_module": "@jupyter-widgets/base",
          "model_name": "LayoutModel",
          "model_module_version": "1.2.0",
          "state": {
            "_model_module": "@jupyter-widgets/base",
            "_model_module_version": "1.2.0",
            "_model_name": "LayoutModel",
            "_view_count": null,
            "_view_module": "@jupyter-widgets/base",
            "_view_module_version": "1.2.0",
            "_view_name": "LayoutView",
            "align_content": null,
            "align_items": null,
            "align_self": null,
            "border": null,
            "bottom": null,
            "display": "inline-flex",
            "flex": null,
            "flex_flow": "row wrap",
            "grid_area": null,
            "grid_auto_columns": null,
            "grid_auto_flow": null,
            "grid_auto_rows": null,
            "grid_column": null,
            "grid_gap": null,
            "grid_row": null,
            "grid_template_areas": null,
            "grid_template_columns": null,
            "grid_template_rows": null,
            "height": null,
            "justify_content": null,
            "justify_items": null,
            "left": null,
            "margin": null,
            "max_height": null,
            "max_width": null,
            "min_height": null,
            "min_width": null,
            "object_fit": null,
            "object_position": null,
            "order": null,
            "overflow": null,
            "overflow_x": null,
            "overflow_y": null,
            "padding": null,
            "right": null,
            "top": null,
            "visibility": null,
            "width": "100%"
          }
        },
        "416e327381f34126b4d6f23ae6539752": {
          "model_module": "@jupyter-widgets/base",
          "model_name": "LayoutModel",
          "model_module_version": "1.2.0",
          "state": {
            "_model_module": "@jupyter-widgets/base",
            "_model_module_version": "1.2.0",
            "_model_name": "LayoutModel",
            "_view_count": null,
            "_view_module": "@jupyter-widgets/base",
            "_view_module_version": "1.2.0",
            "_view_name": "LayoutView",
            "align_content": null,
            "align_items": null,
            "align_self": null,
            "border": null,
            "bottom": null,
            "display": null,
            "flex": null,
            "flex_flow": null,
            "grid_area": null,
            "grid_auto_columns": null,
            "grid_auto_flow": null,
            "grid_auto_rows": null,
            "grid_column": null,
            "grid_gap": null,
            "grid_row": null,
            "grid_template_areas": null,
            "grid_template_columns": null,
            "grid_template_rows": null,
            "height": null,
            "justify_content": null,
            "justify_items": null,
            "left": null,
            "margin": null,
            "max_height": null,
            "max_width": null,
            "min_height": null,
            "min_width": null,
            "object_fit": null,
            "object_position": null,
            "order": null,
            "overflow": null,
            "overflow_x": null,
            "overflow_y": null,
            "padding": null,
            "right": null,
            "top": null,
            "visibility": null,
            "width": null
          }
        },
        "704203c8d9d1444fb58a57b60b257a55": {
          "model_module": "@jupyter-widgets/controls",
          "model_name": "DescriptionStyleModel",
          "model_module_version": "1.5.0",
          "state": {
            "_model_module": "@jupyter-widgets/controls",
            "_model_module_version": "1.5.0",
            "_model_name": "DescriptionStyleModel",
            "_view_count": null,
            "_view_module": "@jupyter-widgets/base",
            "_view_module_version": "1.2.0",
            "_view_name": "StyleView",
            "description_width": ""
          }
        },
        "5f6a1131aece46919df08a8a3fd783af": {
          "model_module": "@jupyter-widgets/base",
          "model_name": "LayoutModel",
          "model_module_version": "1.2.0",
          "state": {
            "_model_module": "@jupyter-widgets/base",
            "_model_module_version": "1.2.0",
            "_model_name": "LayoutModel",
            "_view_count": null,
            "_view_module": "@jupyter-widgets/base",
            "_view_module_version": "1.2.0",
            "_view_name": "LayoutView",
            "align_content": null,
            "align_items": null,
            "align_self": null,
            "border": null,
            "bottom": null,
            "display": null,
            "flex": "2",
            "flex_flow": null,
            "grid_area": null,
            "grid_auto_columns": null,
            "grid_auto_flow": null,
            "grid_auto_rows": null,
            "grid_column": null,
            "grid_gap": null,
            "grid_row": null,
            "grid_template_areas": null,
            "grid_template_columns": null,
            "grid_template_rows": null,
            "height": null,
            "justify_content": null,
            "justify_items": null,
            "left": null,
            "margin": null,
            "max_height": null,
            "max_width": null,
            "min_height": null,
            "min_width": null,
            "object_fit": null,
            "object_position": null,
            "order": null,
            "overflow": null,
            "overflow_x": null,
            "overflow_y": null,
            "padding": null,
            "right": null,
            "top": null,
            "visibility": null,
            "width": null
          }
        },
        "d161f008d68941e2832ac8f57778b2c1": {
          "model_module": "@jupyter-widgets/controls",
          "model_name": "ProgressStyleModel",
          "model_module_version": "1.5.0",
          "state": {
            "_model_module": "@jupyter-widgets/controls",
            "_model_module_version": "1.5.0",
            "_model_name": "ProgressStyleModel",
            "_view_count": null,
            "_view_module": "@jupyter-widgets/base",
            "_view_module_version": "1.2.0",
            "_view_name": "StyleView",
            "bar_color": null,
            "description_width": ""
          }
        },
        "e44e77e7070140a1a386a00cd324ee93": {
          "model_module": "@jupyter-widgets/base",
          "model_name": "LayoutModel",
          "model_module_version": "1.2.0",
          "state": {
            "_model_module": "@jupyter-widgets/base",
            "_model_module_version": "1.2.0",
            "_model_name": "LayoutModel",
            "_view_count": null,
            "_view_module": "@jupyter-widgets/base",
            "_view_module_version": "1.2.0",
            "_view_name": "LayoutView",
            "align_content": null,
            "align_items": null,
            "align_self": null,
            "border": null,
            "bottom": null,
            "display": null,
            "flex": null,
            "flex_flow": null,
            "grid_area": null,
            "grid_auto_columns": null,
            "grid_auto_flow": null,
            "grid_auto_rows": null,
            "grid_column": null,
            "grid_gap": null,
            "grid_row": null,
            "grid_template_areas": null,
            "grid_template_columns": null,
            "grid_template_rows": null,
            "height": null,
            "justify_content": null,
            "justify_items": null,
            "left": null,
            "margin": null,
            "max_height": null,
            "max_width": null,
            "min_height": null,
            "min_width": null,
            "object_fit": null,
            "object_position": null,
            "order": null,
            "overflow": null,
            "overflow_x": null,
            "overflow_y": null,
            "padding": null,
            "right": null,
            "top": null,
            "visibility": null,
            "width": null
          }
        },
        "92b6b25fff034e2aa4417c02968a4d75": {
          "model_module": "@jupyter-widgets/controls",
          "model_name": "DescriptionStyleModel",
          "model_module_version": "1.5.0",
          "state": {
            "_model_module": "@jupyter-widgets/controls",
            "_model_module_version": "1.5.0",
            "_model_name": "DescriptionStyleModel",
            "_view_count": null,
            "_view_module": "@jupyter-widgets/base",
            "_view_module_version": "1.2.0",
            "_view_name": "StyleView",
            "description_width": ""
          }
        }
      }
    }
  },
  "cells": [
    {
      "cell_type": "markdown",
      "metadata": {
        "id": "view-in-github",
        "colab_type": "text"
      },
      "source": [
        "<a href=\"https://colab.research.google.com/github/Latamila/Latamila/blob/main/anatomiaRedeNeural.ipynb\" target=\"_parent\"><img src=\"https://colab.research.google.com/assets/colab-badge.svg\" alt=\"Open In Colab\"/></a>"
      ]
    },
    {
      "cell_type": "code",
      "execution_count": 1,
      "metadata": {
        "colab": {
          "base_uri": "https://localhost:8080/"
        },
        "id": "61YvKQC4mPaj",
        "outputId": "a4810549-4771-4994-eab0-0da5300ca405"
      },
      "outputs": [
        {
          "output_type": "stream",
          "name": "stdout",
          "text": [
            "Versão da Linguagem Python Usada Neste Jupyter Notebook:  3.10.12\n"
          ]
        }
      ],
      "source": [
        "from platform import python_version\n",
        "print('Versão da Linguagem Python Usada Neste Jupyter Notebook: ', python_version())"
      ]
    },
    {
      "cell_type": "code",
      "source": [
        "!pip install -q -U watermark"
      ],
      "metadata": {
        "colab": {
          "base_uri": "https://localhost:8080/"
        },
        "id": "SuIZq9D_owqn",
        "outputId": "0891ccd7-7b71-40e0-dec8-fe94f6797a65"
      },
      "execution_count": 2,
      "outputs": [
        {
          "output_type": "stream",
          "name": "stdout",
          "text": [
            "\u001b[?25l     \u001b[90m━━━━━━━━━━━━━━━━━━━━━━━━━━━━━━━━━━━━━━━━\u001b[0m \u001b[32m0.0/1.6 MB\u001b[0m \u001b[31m?\u001b[0m eta \u001b[36m-:--:--\u001b[0m\r\u001b[2K     \u001b[91m━━━\u001b[0m\u001b[91m╸\u001b[0m\u001b[90m━━━━━━━━━━━━━━━━━━━━━━━━━━━━━━━━━━━━\u001b[0m \u001b[32m0.2/1.6 MB\u001b[0m \u001b[31m4.4 MB/s\u001b[0m eta \u001b[36m0:00:01\u001b[0m\r\u001b[2K     \u001b[91m━━━━━━━━━━━━━━━━━━━━━━━━━━━━━━━━\u001b[0m\u001b[91m╸\u001b[0m\u001b[90m━━━━━━━\u001b[0m \u001b[32m1.3/1.6 MB\u001b[0m \u001b[31m18.7 MB/s\u001b[0m eta \u001b[36m0:00:01\u001b[0m\r\u001b[2K     \u001b[90m━━━━━━━━━━━━━━━━━━━━━━━━━━━━━━━━━━━━━━━━\u001b[0m \u001b[32m1.6/1.6 MB\u001b[0m \u001b[31m17.5 MB/s\u001b[0m eta \u001b[36m0:00:00\u001b[0m\n",
            "\u001b[?25h"
          ]
        }
      ]
    },
    {
      "cell_type": "code",
      "source": [
        "!pip install -q torch==1.13.0"
      ],
      "metadata": {
        "colab": {
          "base_uri": "https://localhost:8080/"
        },
        "id": "YilRV9TBo4bi",
        "outputId": "a00c6a15-101d-4838-b97b-a2c96eca279e"
      },
      "execution_count": 3,
      "outputs": [
        {
          "output_type": "stream",
          "name": "stdout",
          "text": [
            "\u001b[2K     \u001b[90m━━━━━━━━━━━━━━━━━━━━━━━━━━━━━━━━━━━━━━━\u001b[0m \u001b[32m890.1/890.1 MB\u001b[0m \u001b[31m1.8 MB/s\u001b[0m eta \u001b[36m0:00:00\u001b[0m\n",
            "\u001b[2K     \u001b[90m━━━━━━━━━━━━━━━━━━━━━━━━━━━━━━━━━━━━━━\u001b[0m \u001b[32m849.3/849.3 kB\u001b[0m \u001b[31m40.4 MB/s\u001b[0m eta \u001b[36m0:00:00\u001b[0m\n",
            "\u001b[2K     \u001b[90m━━━━━━━━━━━━━━━━━━━━━━━━━━━━━━━━━━━━━━━\u001b[0m \u001b[32m557.1/557.1 MB\u001b[0m \u001b[31m2.8 MB/s\u001b[0m eta \u001b[36m0:00:00\u001b[0m\n",
            "\u001b[2K     \u001b[90m━━━━━━━━━━━━━━━━━━━━━━━━━━━━━━━━━━━━━━━\u001b[0m \u001b[32m317.1/317.1 MB\u001b[0m \u001b[31m2.9 MB/s\u001b[0m eta \u001b[36m0:00:00\u001b[0m\n",
            "\u001b[2K     \u001b[90m━━━━━━━━━━━━━━━━━━━━━━━━━━━━━━━━━━━━━━━━\u001b[0m \u001b[32m21.0/21.0 MB\u001b[0m \u001b[31m61.3 MB/s\u001b[0m eta \u001b[36m0:00:00\u001b[0m\n",
            "\u001b[?25h\u001b[31mERROR: pip's dependency resolver does not currently take into account all the packages that are installed. This behaviour is the source of the following dependency conflicts.\n",
            "torchaudio 2.0.2+cu118 requires torch==2.0.1, but you have torch 1.13.0 which is incompatible.\n",
            "torchdata 0.6.1 requires torch==2.0.1, but you have torch 1.13.0 which is incompatible.\n",
            "torchtext 0.15.2 requires torch==2.0.1, but you have torch 1.13.0 which is incompatible.\n",
            "torchvision 0.15.2+cu118 requires torch==2.0.1, but you have torch 1.13.0 which is incompatible.\u001b[0m\u001b[31m\n",
            "\u001b[0m"
          ]
        }
      ]
    },
    {
      "cell_type": "code",
      "source": [
        "!pip install -q pytorch-lightning==1.8.3"
      ],
      "metadata": {
        "colab": {
          "base_uri": "https://localhost:8080/"
        },
        "id": "TZPapNXxo9RR",
        "outputId": "5849479d-28c4-4b21-f4dc-a706635e2734"
      },
      "execution_count": 4,
      "outputs": [
        {
          "output_type": "stream",
          "name": "stdout",
          "text": [
            "\u001b[2K     \u001b[90m━━━━━━━━━━━━━━━━━━━━━━━━━━━━━━━━━━━━━━━\u001b[0m \u001b[32m798.9/798.9 kB\u001b[0m \u001b[31m3.6 MB/s\u001b[0m eta \u001b[36m0:00:00\u001b[0m\n",
            "\u001b[2K     \u001b[90m━━━━━━━━━━━━━━━━━━━━━━━━━━━━━━━━━━━━━━━\u001b[0m \u001b[32m101.7/101.7 kB\u001b[0m \u001b[31m7.1 MB/s\u001b[0m eta \u001b[36m0:00:00\u001b[0m\n",
            "\u001b[2K     \u001b[90m━━━━━━━━━━━━━━━━━━━━━━━━━━━━━━━━━━━━━━━\u001b[0m \u001b[32m805.2/805.2 kB\u001b[0m \u001b[31m8.3 MB/s\u001b[0m eta \u001b[36m0:00:00\u001b[0m\n",
            "\u001b[2K     \u001b[90m━━━━━━━━━━━━━━━━━━━━━━━━━━━━━━━━━━━━━━━━\u001b[0m \u001b[32m88.3/88.3 kB\u001b[0m \u001b[31m6.4 MB/s\u001b[0m eta \u001b[36m0:00:00\u001b[0m\n",
            "\u001b[?25h  Preparing metadata (setup.py) ... \u001b[?25l\u001b[?25hdone\n",
            "\u001b[2K     \u001b[90m━━━━━━━━━━━━━━━━━━━━━━━━━━━━━━━━━━━━━━━\u001b[0m \u001b[32m764.8/764.8 kB\u001b[0m \u001b[31m9.5 MB/s\u001b[0m eta \u001b[36m0:00:00\u001b[0m\n",
            "\u001b[2K     \u001b[90m━━━━━━━━━━━━━━━━━━━━━━━━━━━━━━━━━━━━━━\u001b[0m \u001b[32m763.4/763.4 kB\u001b[0m \u001b[31m13.4 MB/s\u001b[0m eta \u001b[36m0:00:00\u001b[0m\n",
            "\u001b[2K     \u001b[90m━━━━━━━━━━━━━━━━━━━━━━━━━━━━━━━━━━━━━━\u001b[0m \u001b[32m761.3/761.3 kB\u001b[0m \u001b[31m15.3 MB/s\u001b[0m eta \u001b[36m0:00:00\u001b[0m\n",
            "\u001b[2K     \u001b[90m━━━━━━━━━━━━━━━━━━━━━━━━━━━━━━━━━━━━━━\u001b[0m \u001b[32m731.6/731.6 kB\u001b[0m \u001b[31m13.6 MB/s\u001b[0m eta \u001b[36m0:00:00\u001b[0m\n",
            "\u001b[2K     \u001b[90m━━━━━━━━━━━━━━━━━━━━━━━━━━━━━━━━━━━━━━\u001b[0m \u001b[32m731.1/731.1 kB\u001b[0m \u001b[31m16.9 MB/s\u001b[0m eta \u001b[36m0:00:00\u001b[0m\n",
            "\u001b[2K     \u001b[90m━━━━━━━━━━━━━━━━━━━━━━━━━━━━━━━━━━━━━━\u001b[0m \u001b[32m729.2/729.2 kB\u001b[0m \u001b[31m18.9 MB/s\u001b[0m eta \u001b[36m0:00:00\u001b[0m\n",
            "\u001b[2K     \u001b[90m━━━━━━━━━━━━━━━━━━━━━━━━━━━━━━━━━━━━━━\u001b[0m \u001b[32m728.8/728.8 kB\u001b[0m \u001b[31m21.4 MB/s\u001b[0m eta \u001b[36m0:00:00\u001b[0m\n",
            "\u001b[2K     \u001b[90m━━━━━━━━━━━━━━━━━━━━━━━━━━━━━━━━━━━━━━\u001b[0m \u001b[32m519.2/519.2 kB\u001b[0m \u001b[31m16.1 MB/s\u001b[0m eta \u001b[36m0:00:00\u001b[0m\n",
            "\u001b[?25h  Building wheel for fire (setup.py) ... \u001b[?25l\u001b[?25hdone\n"
          ]
        }
      ]
    },
    {
      "cell_type": "code",
      "source": [
        "import gc\n",
        "import types\n",
        "import pkg_resources\n",
        "import torch\n",
        "import pytorch_lightning as pl\n",
        "from torch import nn, optim\n",
        "from torch.autograd import Variable\n",
        "from torch.utils.data import DataLoader\n",
        "from pytorch_lightning.callbacks import ModelCheckpoint\n",
        "from pytorch_lightning.utilities.types import TRAIN_DATALOADERS\n",
        "import warnings\n",
        "warnings.filterwarnings(\"ignore\")"
      ],
      "metadata": {
        "id": "uCbTHPM0pC3R"
      },
      "execution_count": 5,
      "outputs": []
    },
    {
      "cell_type": "code",
      "source": [
        "%reload_ext watermark\n",
        "%watermark -a 'Data Science Camila' --iversions"
      ],
      "metadata": {
        "colab": {
          "base_uri": "https://localhost:8080/"
        },
        "id": "72NBBz2Dp4uB",
        "outputId": "a82dba1a-d860-4a08-9920-7c6d35cbb4da"
      },
      "execution_count": 6,
      "outputs": [
        {
          "output_type": "stream",
          "name": "stdout",
          "text": [
            "Author: Data Science Camila\n",
            "\n",
            "pytorch_lightning: 1.8.3\n",
            "torch            : 1.13.0\n",
            "\n"
          ]
        }
      ]
    },
    {
      "cell_type": "markdown",
      "source": [
        "**Verificando o ambiente de desenvolvimento**"
      ],
      "metadata": {
        "id": "y2ZvqkzAqHjr"
      }
    },
    {
      "cell_type": "code",
      "source": [
        "processing_device = \"cuda\" if torch.cuda.is_available() else \"cpu\""
      ],
      "metadata": {
        "id": "u_Hz7hIaqDbo"
      },
      "execution_count": 7,
      "outputs": []
    },
    {
      "cell_type": "code",
      "source": [
        "print(processing_device)"
      ],
      "metadata": {
        "colab": {
          "base_uri": "https://localhost:8080/"
        },
        "id": "tpxIw6rZqVtG",
        "outputId": "708fad40-ff58-44ec-9f91-ec87d1376d85"
      },
      "execution_count": 8,
      "outputs": [
        {
          "output_type": "stream",
          "name": "stdout",
          "text": [
            "cpu\n"
          ]
        }
      ]
    },
    {
      "cell_type": "code",
      "source": [
        "#verificando se GPU pode ser usada\n",
        "torch_aval = torch.cuda.is_available()"
      ],
      "metadata": {
        "id": "mrLn3BOVqXLq"
      },
      "execution_count": 9,
      "outputs": []
    },
    {
      "cell_type": "code",
      "source": [
        "print(torch_aval)"
      ],
      "metadata": {
        "colab": {
          "base_uri": "https://localhost:8080/"
        },
        "id": "SfxwxA3hqiup",
        "outputId": "3338c394-8b3d-4e6c-fd5c-720d93d14c0c"
      },
      "execution_count": 10,
      "outputs": [
        {
          "output_type": "stream",
          "name": "stdout",
          "text": [
            "False\n"
          ]
        }
      ]
    },
    {
      "cell_type": "code",
      "source": [
        "#labels para relatorio de verificação\n",
        "lable_1 = 'visao geral do ambiente'\n",
        "lable_2 = 'se nvidia-smi nao for encontrado, entao CUDA nao esta disponivel'\n",
        "lable_3 = 'fim de checagem'"
      ],
      "metadata": {
        "id": "AHZeoKqhqkNN"
      },
      "execution_count": 11,
      "outputs": []
    },
    {
      "cell_type": "code",
      "source": [
        "#funcaoo para verificar o que esta importado nesta sessao\n",
        "def get_imports():\n",
        "  for name, val in globals().items():\n",
        "    if isinstance(val, types.ModuleType):\n",
        "      name = val.__name__.split(\".\")[0]\n",
        "\n",
        "    elif isinstance(val, type):\n",
        "      name = val.__module__.split(\".\")[0]\n",
        "\n",
        "    poorly_named_packages = {\"PIL\": \"Pillow\", \"sklearn\":\"scikit-learn\"}\n",
        "\n",
        "    if name in poorly_named_packages.keys():\n",
        "      name = poorly_named_packages[name]\n",
        "\n",
        "    yield name"
      ],
      "metadata": {
        "id": "IAJ4YKmDq6YF"
      },
      "execution_count": 12,
      "outputs": []
    },
    {
      "cell_type": "code",
      "source": [
        "#imports nesta sessao\n",
        "imports = list(set(get_imports()))\n",
        "print(imports)"
      ],
      "metadata": {
        "colab": {
          "base_uri": "https://localhost:8080/"
        },
        "id": "iw-zqbkir-iE",
        "outputId": "140c016d-d010-493e-9c2e-625a44c30542"
      },
      "execution_count": 13,
      "outputs": [
        {
          "output_type": "stream",
          "name": "stdout",
          "text": [
            "['Out', '_i6', 'types', '_oh', '_iii', '_ih', '_exit_code', '_i13', '_i12', '___', '_i8', '__doc__', 'In', '__loader__', '_i9', 'python_version', '_i3', '_i7', '_i1', 'lable_3', 'gc', '_i5', 'exit', '_i11', 'pytorch_lightning', 'processing_device', 'warnings', 'builtins', 'pkg_resources', '_dh', '_i4', '__', '_', '__package__', 'torch_aval', '_i10', 'lable_1', 'TRAIN_DATALOADERS', '__name__', '_ii', 'get_imports', '_i2', '_i', 'lable_2', '__spec__', 'get_ipython', 'torch', 'quit']\n"
          ]
        }
      ]
    },
    {
      "cell_type": "code",
      "source": [
        "#loop para verificar os requerimentos\n",
        "requirements = []\n",
        "for m in pkg_resources.working_set:\n",
        "  if m.project_name in imports and m.project_name!=\"pip\":\n",
        "    requirements.append((m.project_name, m.version))"
      ],
      "metadata": {
        "id": "mXqcWst3sJYK"
      },
      "execution_count": 14,
      "outputs": []
    },
    {
      "cell_type": "code",
      "source": [
        "print(requirements)"
      ],
      "metadata": {
        "colab": {
          "base_uri": "https://localhost:8080/"
        },
        "id": "sTjEtzPfsqZZ",
        "outputId": "ebf4da8f-1354-43a0-f050-460bf4a203eb"
      },
      "execution_count": 15,
      "outputs": [
        {
          "output_type": "stream",
          "name": "stdout",
          "text": [
            "[('torch', '2.0.1+cu118')]\n"
          ]
        }
      ]
    },
    {
      "cell_type": "code",
      "source": [
        "pasta_dados = r'dados'"
      ],
      "metadata": {
        "id": "hitTzgcZssyi"
      },
      "execution_count": 16,
      "outputs": []
    },
    {
      "cell_type": "code",
      "source": [
        "print(f'{lable_1:-^100}')\n",
        "print()\n",
        "print(f'Pasta de dados: ', requirements)\n",
        "print(f'Versoes dos pacotes requeridos: ', requirements)\n",
        "print(f'Dispositivo que sera usado para treinar o modelo: ', processing_device)\n",
        "print(f'CUDA está disponivel?', torch_aval)\n",
        "print('Versao do pytorch:', torch.__version__)\n",
        "print('Versao do lightning: ', pl.__version__)\n",
        "print()\n",
        "print(f'{lable_2:-^100}')\n",
        "!nvidia-smi\n",
        "gc.collect()\n",
        "print()\n",
        "print(f'Limpando a Memoria da GPU(se dispnivel):', torch.cuda.empty_cache())\n",
        "print(f'{lable_3:-^100}')"
      ],
      "metadata": {
        "colab": {
          "base_uri": "https://localhost:8080/"
        },
        "id": "wh4JABGaubXi",
        "outputId": "c9eb4b7b-e6e1-46de-ddcb-08424e13380f"
      },
      "execution_count": 17,
      "outputs": [
        {
          "output_type": "stream",
          "name": "stdout",
          "text": [
            "--------------------------------------visao geral do ambiente---------------------------------------\n",
            "\n",
            "Pasta de dados:  [('torch', '2.0.1+cu118')]\n",
            "Versoes dos pacotes requeridos:  [('torch', '2.0.1+cu118')]\n",
            "Dispositivo que sera usado para treinar o modelo:  cpu\n",
            "CUDA está disponivel? False\n",
            "Versao do pytorch: 1.13.0+cu117\n",
            "Versao do lightning:  1.8.3\n",
            "\n",
            "------------------se nvidia-smi nao for encontrado, entao CUDA nao esta disponivel------------------\n",
            "/bin/bash: line 1: nvidia-smi: command not found\n",
            "\n",
            "Limpando a Memoria da GPU(se dispnivel): None\n",
            "------------------------------------------fim de checagem-------------------------------------------\n"
          ]
        }
      ]
    },
    {
      "cell_type": "code",
      "source": [
        "#dados de entrada\n",
        "dados_entrada = [Variable(torch.Tensor([0,0])),\n",
        "                 Variable(torch.Tensor([0,1])),\n",
        "                 Variable(torch.Tensor([1,0])),\n",
        "                 Variable(torch.Tensor([1,1]))]"
      ],
      "metadata": {
        "id": "20LP79qByVJA"
      },
      "execution_count": 18,
      "outputs": []
    },
    {
      "cell_type": "code",
      "source": [
        "#Dados de saida\n",
        "dados_saida = [Variable(torch.Tensor([0])),\n",
        "               Variable(torch.Tensor([1])),\n",
        "               Variable(torch.Tensor([1])),\n",
        "               Variable(torch.Tensor([0]))]"
      ],
      "metadata": {
        "id": "9N58blw3EAt9"
      },
      "execution_count": 19,
      "outputs": []
    },
    {
      "cell_type": "code",
      "source": [
        "type(dados_entrada)"
      ],
      "metadata": {
        "colab": {
          "base_uri": "https://localhost:8080/"
        },
        "id": "1dlK_HDVE-OE",
        "outputId": "64da7162-1b54-415c-a278-40d6253997d2"
      },
      "execution_count": 20,
      "outputs": [
        {
          "output_type": "execute_result",
          "data": {
            "text/plain": [
              "list"
            ]
          },
          "metadata": {},
          "execution_count": 20
        }
      ]
    },
    {
      "cell_type": "code",
      "source": [
        "type(dados_saida)"
      ],
      "metadata": {
        "colab": {
          "base_uri": "https://localhost:8080/"
        },
        "id": "B-9LFmhAFA_B",
        "outputId": "8a3222ff-f5e7-4d04-f0cc-e6714e95fda6"
      },
      "execution_count": 22,
      "outputs": [
        {
          "output_type": "execute_result",
          "data": {
            "text/plain": [
              "list"
            ]
          },
          "metadata": {},
          "execution_count": 22
        }
      ]
    },
    {
      "cell_type": "code",
      "source": [
        "dados_final = list(zip(dados_entrada, dados_saida))"
      ],
      "metadata": {
        "id": "V7c5b5SpFHV4"
      },
      "execution_count": 23,
      "outputs": []
    },
    {
      "cell_type": "code",
      "source": [
        "dados_final"
      ],
      "metadata": {
        "colab": {
          "base_uri": "https://localhost:8080/"
        },
        "id": "853FeEIhFQPn",
        "outputId": "f6adbe7c-e29c-49e5-a050-b971e1410edd"
      },
      "execution_count": 24,
      "outputs": [
        {
          "output_type": "execute_result",
          "data": {
            "text/plain": [
              "[(tensor([0., 0.]), tensor([0.])),\n",
              " (tensor([0., 1.]), tensor([1.])),\n",
              " (tensor([1., 0.]), tensor([1.])),\n",
              " (tensor([1., 1.]), tensor([0.]))]"
            ]
          },
          "metadata": {},
          "execution_count": 24
        }
      ]
    },
    {
      "cell_type": "code",
      "source": [
        "type(dados_final)"
      ],
      "metadata": {
        "colab": {
          "base_uri": "https://localhost:8080/"
        },
        "id": "10A5VM3sFRKN",
        "outputId": "83fd3049-b8ce-48c6-ed49-acd697781c57"
      },
      "execution_count": 25,
      "outputs": [
        {
          "output_type": "execute_result",
          "data": {
            "text/plain": [
              "list"
            ]
          },
          "metadata": {},
          "execution_count": 25
        }
      ]
    },
    {
      "cell_type": "code",
      "source": [
        "loader_treinamento = DataLoader(dados_final, batch_size = 1)"
      ],
      "metadata": {
        "id": "pW0rH5yCFTtY"
      },
      "execution_count": 26,
      "outputs": []
    },
    {
      "cell_type": "code",
      "source": [
        "type(loader_treinamento)"
      ],
      "metadata": {
        "colab": {
          "base_uri": "https://localhost:8080/"
        },
        "id": "SOfYWpj_GUbn",
        "outputId": "1e8b7eda-382c-4e8c-a962-2bcfc4d097e7"
      },
      "execution_count": 27,
      "outputs": [
        {
          "output_type": "execute_result",
          "data": {
            "text/plain": [
              "torch.utils.data.dataloader.DataLoader"
            ]
          },
          "metadata": {},
          "execution_count": 27
        }
      ]
    },
    {
      "cell_type": "code",
      "source": [
        "class SimpleNet(pl.LightningModule):\n",
        "  #metodo construtor\n",
        "  #usado para inicializar os parametros do modelo\n",
        "  def __init__(self):\n",
        "    super(SimpleNet, self).__init__()\n",
        "\n",
        "    self.input_layer = nn.Linear(2,4)\n",
        "    self.output_layer = nn.Linear(4,1)\n",
        "    self.sigmoid = nn.Sigmoid()\n",
        "    self.loss = nn.MSELoss()\n",
        "#metodo da passada para frente(forward)\n",
        "  def forward(self, input):\n",
        "    x = self.input_layer(input)\n",
        "    x = self.sigmoid(x)\n",
        "    output = self.output_layer(x)\n",
        "    return output\n",
        "#metodo de otimizacao\n",
        "  def configure_optimizers(self):\n",
        "    params = self.parameters()\n",
        "    optimizer = optim.Adam(params = params, lr = 0.01)\n",
        "    return optimizer\n",
        "#metodo das passadas de treinamento\n",
        "  def training_step(self, batch, batch_idx):\n",
        "    entrada, saida = batch\n",
        "    outputs = self(entrada)\n",
        "    loss = self.loss(outputs, saida)\n",
        "    return loss"
      ],
      "metadata": {
        "id": "tKyJV_W8GWQr"
      },
      "execution_count": 28,
      "outputs": []
    },
    {
      "cell_type": "markdown",
      "source": [
        "**Compreendendo as dimensoes em nn.Linear   (2,4)\n",
        "\n",
        "Especificação da função: torch.nn.Linear(in_features, out_features, bias=True)\n",
        "\n",
        "in_features: tamanho da matriz dos dados de entrada. em nosso exemplo 2 x 4\n",
        "\n",
        "out_features: tamanho da matriz dos dados de saida. em nosso exemplo valor 4 x 1.\n",
        "\n",
        "bias: valor aditivo (padrao igual a True)\n",
        "\n",
        "Para que a multiplicação de matrizes aconteça, usamos a primeira dimensão de input e a primeira dimensao de output. Em nosso exemplo 2 x 4.\n",
        "\n",
        "Cada valor de entrada será multiplicado por um valor de peso e ao final o modelo aprende os valores ideais dos pesos que repressenta a relação entre dados de entrada e saida.\n",
        "\n",
        "Observe que usamos batch_size igual a 1 e nesse caso cada registro é uma unidade, o que influencia na dimensão das matrizes dos dados.\n"
      ],
      "metadata": {
        "id": "KR_08tV9KwZZ"
      }
    },
    {
      "cell_type": "code",
      "source": [
        "#loop de treinamento\n",
        "#cria o modelo\n",
        "modelo = SimpleNet()"
      ],
      "metadata": {
        "id": "Tn1IlPweKf0w"
      },
      "execution_count": 29,
      "outputs": []
    },
    {
      "cell_type": "code",
      "source": [
        "#cria o checkpoint pelo callback\n",
        "checkpoint_callback = ModelCheckpoint()"
      ],
      "metadata": {
        "id": "gEK5a8yFNgCW"
      },
      "execution_count": 31,
      "outputs": []
    },
    {
      "cell_type": "code",
      "source": [
        "#cria o trainer\n",
        "trainer = pl.Trainer(devices = 1,\n",
        "                     accelerator = 'cpu',\n",
        "                     max_epochs = 100,\n",
        "                     callbacks = [checkpoint_callback])"
      ],
      "metadata": {
        "colab": {
          "base_uri": "https://localhost:8080/"
        },
        "id": "QpjdViBtNMWR",
        "outputId": "b815937a-0375-4215-8fca-f4dc5a567615"
      },
      "execution_count": 32,
      "outputs": [
        {
          "output_type": "stream",
          "name": "stderr",
          "text": [
            "INFO:pytorch_lightning.utilities.rank_zero:GPU available: False, used: False\n",
            "INFO:pytorch_lightning.utilities.rank_zero:TPU available: False, using: 0 TPU cores\n",
            "INFO:pytorch_lightning.utilities.rank_zero:IPU available: False, using: 0 IPUs\n",
            "INFO:pytorch_lightning.utilities.rank_zero:HPU available: False, using: 0 HPUs\n"
          ]
        }
      ]
    },
    {
      "cell_type": "code",
      "source": [
        "trainer.fit(modelo, train_dataloaders = loader_treinamento)"
      ],
      "metadata": {
        "colab": {
          "base_uri": "https://localhost:8080/",
          "height": 312,
          "referenced_widgets": [
            "fd6e073a430b44f29fc00448513c5933",
            "f01dd2004bd645eb8f86008c370dcf02",
            "cb2dc126d2ff40e3aae4f7321948aed4",
            "13bd555a800d4319ac5fe999ad3516cb",
            "6a8d9b4d57a44072a171059e6fd130ab",
            "416e327381f34126b4d6f23ae6539752",
            "704203c8d9d1444fb58a57b60b257a55",
            "5f6a1131aece46919df08a8a3fd783af",
            "d161f008d68941e2832ac8f57778b2c1",
            "e44e77e7070140a1a386a00cd324ee93",
            "92b6b25fff034e2aa4417c02968a4d75"
          ]
        },
        "id": "sfOwAj6RNdRN",
        "outputId": "31d5a0b5-f6cc-44ff-bf79-cb0e4ab74044"
      },
      "execution_count": 33,
      "outputs": [
        {
          "output_type": "stream",
          "name": "stderr",
          "text": [
            "WARNING:pytorch_lightning.loggers.tensorboard:Missing logger folder: /content/lightning_logs\n",
            "INFO:pytorch_lightning.callbacks.model_summary:\n",
            "  | Name         | Type    | Params\n",
            "-----------------------------------------\n",
            "0 | input_layer  | Linear  | 12    \n",
            "1 | output_layer | Linear  | 5     \n",
            "2 | sigmoid      | Sigmoid | 0     \n",
            "3 | loss         | MSELoss | 0     \n",
            "-----------------------------------------\n",
            "17        Trainable params\n",
            "0         Non-trainable params\n",
            "17        Total params\n",
            "0.000     Total estimated model params size (MB)\n"
          ]
        },
        {
          "output_type": "display_data",
          "data": {
            "text/plain": [
              "Training: 0it [00:00, ?it/s]"
            ],
            "application/vnd.jupyter.widget-view+json": {
              "version_major": 2,
              "version_minor": 0,
              "model_id": "fd6e073a430b44f29fc00448513c5933"
            }
          },
          "metadata": {}
        },
        {
          "output_type": "stream",
          "name": "stderr",
          "text": [
            "INFO:pytorch_lightning.utilities.rank_zero:`Trainer.fit` stopped: `max_epochs=100` reached.\n"
          ]
        }
      ]
    },
    {
      "cell_type": "code",
      "source": [
        "modelo.device"
      ],
      "metadata": {
        "colab": {
          "base_uri": "https://localhost:8080/"
        },
        "id": "18d8o11iNyIQ",
        "outputId": "910c82cd-3544-4e36-82f1-1929cd19673b"
      },
      "execution_count": 34,
      "outputs": [
        {
          "output_type": "execute_result",
          "data": {
            "text/plain": [
              "device(type='cpu')"
            ]
          },
          "metadata": {},
          "execution_count": 34
        }
      ]
    },
    {
      "cell_type": "code",
      "source": [
        "modelo.eval()"
      ],
      "metadata": {
        "colab": {
          "base_uri": "https://localhost:8080/"
        },
        "id": "jEczuZCSN3Vu",
        "outputId": "38aeef9f-c766-48cf-972b-2f8b038e29f3"
      },
      "execution_count": 35,
      "outputs": [
        {
          "output_type": "execute_result",
          "data": {
            "text/plain": [
              "SimpleNet(\n",
              "  (input_layer): Linear(in_features=2, out_features=4, bias=True)\n",
              "  (output_layer): Linear(in_features=4, out_features=1, bias=True)\n",
              "  (sigmoid): Sigmoid()\n",
              "  (loss): MSELoss()\n",
              ")"
            ]
          },
          "metadata": {},
          "execution_count": 35
        }
      ]
    },
    {
      "cell_type": "code",
      "source": [
        "modelo.state_dict()"
      ],
      "metadata": {
        "colab": {
          "base_uri": "https://localhost:8080/"
        },
        "id": "OFMcTLYsN4pC",
        "outputId": "70a67081-b122-4132-f69c-e94a1ffe4db1"
      },
      "execution_count": 36,
      "outputs": [
        {
          "output_type": "execute_result",
          "data": {
            "text/plain": [
              "OrderedDict([('input_layer.weight',\n",
              "              tensor([[-0.4092,  0.2059],\n",
              "                      [-0.1561,  0.1468],\n",
              "                      [-0.3360, -0.6610],\n",
              "                      [-0.1891,  0.6463]])),\n",
              "             ('input_layer.bias',\n",
              "              tensor([ 0.0058,  0.0424, -0.1355,  0.2356])),\n",
              "             ('output_layer.weight',\n",
              "              tensor([[ 0.5135, -0.1636, -0.2122, -0.1279]])),\n",
              "             ('output_layer.bias', tensor([0.4918]))])"
            ]
          },
          "metadata": {},
          "execution_count": 36
        }
      ]
    },
    {
      "cell_type": "code",
      "source": [
        "ls lightning_logs/*/"
      ],
      "metadata": {
        "colab": {
          "base_uri": "https://localhost:8080/"
        },
        "id": "l-mRc-H_N-He",
        "outputId": "53e43f9e-5d00-410c-902e-c48389f37021"
      },
      "execution_count": 37,
      "outputs": [
        {
          "output_type": "stream",
          "name": "stdout",
          "text": [
            "\u001b[0m\u001b[01;34mcheckpoints\u001b[0m/  hparams.yaml\n"
          ]
        }
      ]
    },
    {
      "cell_type": "markdown",
      "source": [
        "**AVALIAÇÃO DO MODELO**"
      ],
      "metadata": {
        "id": "8EdlE3dlOHsc"
      }
    },
    {
      "cell_type": "code",
      "source": [
        "melhor_modelo = (checkpoint_callback.best_model_path)"
      ],
      "metadata": {
        "id": "UwZlrayMODX8"
      },
      "execution_count": 38,
      "outputs": []
    },
    {
      "cell_type": "code",
      "source": [
        "print(melhor_modelo)"
      ],
      "metadata": {
        "colab": {
          "base_uri": "https://localhost:8080/"
        },
        "id": "dviy5-LwOP8P",
        "outputId": "b6fa62f5-7a6e-4cce-8ed5-b1e6d4532dec"
      },
      "execution_count": 39,
      "outputs": [
        {
          "output_type": "stream",
          "name": "stdout",
          "text": [
            "/content/lightning_logs/version_0/checkpoints/epoch=99-step=400.ckpt\n"
          ]
        }
      ]
    },
    {
      "cell_type": "code",
      "source": [
        "modelo_final = modelo.load_from_checkpoint(checkpoint_callback.best_model_path)"
      ],
      "metadata": {
        "id": "L2JxJxVXOR2j"
      },
      "execution_count": 40,
      "outputs": []
    },
    {
      "cell_type": "code",
      "source": [
        "modelo_final.state_dict()"
      ],
      "metadata": {
        "colab": {
          "base_uri": "https://localhost:8080/"
        },
        "id": "1rQ5bv8HOh7K",
        "outputId": "4d138aee-4d14-4374-d312-a30d35f1d4c6"
      },
      "execution_count": 41,
      "outputs": [
        {
          "output_type": "execute_result",
          "data": {
            "text/plain": [
              "OrderedDict([('input_layer.weight',\n",
              "              tensor([[-0.4092,  0.2059],\n",
              "                      [-0.1561,  0.1468],\n",
              "                      [-0.3360, -0.6610],\n",
              "                      [-0.1891,  0.6463]])),\n",
              "             ('input_layer.bias',\n",
              "              tensor([ 0.0058,  0.0424, -0.1355,  0.2356])),\n",
              "             ('output_layer.weight',\n",
              "              tensor([[ 0.5135, -0.1636, -0.2122, -0.1279]])),\n",
              "             ('output_layer.bias', tensor([0.4918]))])"
            ]
          },
          "metadata": {},
          "execution_count": 41
        }
      ]
    },
    {
      "cell_type": "code",
      "source": [
        "#novo registro de entrada\n",
        "novo_dado_entrada_A = Variable(torch.Tensor([1,1]))\n"
      ],
      "metadata": {
        "id": "iIiuTYxkOlNx"
      },
      "execution_count": 42,
      "outputs": []
    },
    {
      "cell_type": "code",
      "source": [
        "#faz a previsao\n",
        "pred_A = modelo_final(novo_dado_entrada_A)"
      ],
      "metadata": {
        "id": "ZmyKtCK9OwCa"
      },
      "execution_count": 43,
      "outputs": []
    },
    {
      "cell_type": "code",
      "source": [
        "print(pred_A)"
      ],
      "metadata": {
        "colab": {
          "base_uri": "https://localhost:8080/"
        },
        "id": "wDsTFjxzO2Bz",
        "outputId": "19c8baa6-728b-4166-8d7a-885e3023ed1a"
      },
      "execution_count": 44,
      "outputs": [
        {
          "output_type": "stream",
          "name": "stdout",
          "text": [
            "tensor([0.5032], grad_fn=<AddBackward0>)\n"
          ]
        }
      ]
    },
    {
      "cell_type": "code",
      "source": [
        "print(\"A previsão de classe de pred_A é: \", int(pred_A.round()))"
      ],
      "metadata": {
        "colab": {
          "base_uri": "https://localhost:8080/"
        },
        "id": "KwIHmsKTO3iZ",
        "outputId": "77f0cfca-c411-4d42-bd8f-c20b4d8f4a73"
      },
      "execution_count": 45,
      "outputs": [
        {
          "output_type": "stream",
          "name": "stdout",
          "text": [
            "A previsão de classe de pred_A é:  1\n"
          ]
        }
      ]
    },
    {
      "cell_type": "code",
      "source": [
        "#novos dados de entrada\n",
        "novos_dados = [Variable(torch.Tensor([1,1])),\n",
        "               Variable(torch.Tensor([0,0])),\n",
        "               Variable(torch.Tensor([1,0])),\n",
        "               Variable(torch.Tensor([0,1]))]"
      ],
      "metadata": {
        "id": "cuHop6tePDgt"
      },
      "execution_count": 46,
      "outputs": []
    },
    {
      "cell_type": "code",
      "source": [
        "#loop de teste\n",
        "for val in novos_dados:\n",
        "  #faz a previsao de cada registro\n",
        "  previsao = modelo_final(val)\n",
        "  #imprime o resultado\n",
        "  print([int(val[0]), int(val[1])], int(previsao.round()))"
      ],
      "metadata": {
        "colab": {
          "base_uri": "https://localhost:8080/"
        },
        "id": "gURsQ_7XPgpp",
        "outputId": "a4011871-761d-4431-9eba-d64fec0da982"
      },
      "execution_count": 47,
      "outputs": [
        {
          "output_type": "stream",
          "name": "stdout",
          "text": [
            "[1, 1] 1\n",
            "[0, 0] 0\n",
            "[1, 0] 0\n",
            "[0, 1] 1\n"
          ]
        }
      ]
    },
    {
      "cell_type": "markdown",
      "source": [
        "FIM\n"
      ],
      "metadata": {
        "id": "gKCFve11QG4c"
      }
    }
  ]
}