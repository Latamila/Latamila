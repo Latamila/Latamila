{
  "nbformat": 4,
  "nbformat_minor": 0,
  "metadata": {
    "colab": {
      "provenance": [],
      "authorship_tag": "ABX9TyM7DeTNE3VGz1eW6vVPjjVo",
      "include_colab_link": true
    },
    "kernelspec": {
      "name": "python3",
      "display_name": "Python 3"
    },
    "language_info": {
      "name": "python"
    }
  },
  "cells": [
    {
      "cell_type": "markdown",
      "metadata": {
        "id": "view-in-github",
        "colab_type": "text"
      },
      "source": [
        "<a href=\"https://colab.research.google.com/github/Latamila/Latamila/blob/main/C%C3%B3pia_de_WEBSCRAPING_aviacao.ipynb\" target=\"_parent\"><img src=\"https://colab.research.google.com/assets/colab-badge.svg\" alt=\"Open In Colab\"/></a>"
      ]
    },
    {
      "cell_type": "markdown",
      "source": [
        "#AULA WEBSCRAPING DA UNIVESP DO YOUTUBE PARA DATA SCIENCE "
      ],
      "metadata": {
        "id": "t1qmzPmFCBJZ"
      }
    },
    {
      "cell_type": "markdown",
      "source": [
        "USO DO BEAUTIFULSOUP"
      ],
      "metadata": {
        "id": "nzwX3wVgCLQs"
      }
    },
    {
      "cell_type": "code",
      "execution_count": 2,
      "metadata": {
        "id": "xC1zb9jpbYmR"
      },
      "outputs": [],
      "source": [
        "import requests"
      ]
    },
    {
      "cell_type": "code",
      "source": [
        "from bs4 import BeautifulSoup"
      ],
      "metadata": {
        "id": "-poO6WlCiqVw"
      },
      "execution_count": 3,
      "outputs": []
    },
    {
      "cell_type": "code",
      "source": [
        "import pandas as pd"
      ],
      "metadata": {
        "id": "5dLyqLsqiupn"
      },
      "execution_count": 4,
      "outputs": []
    },
    {
      "cell_type": "code",
      "source": [
        "html=requests.get(\"https://www.google.com/search?q=avia%C3%A7%C3%A3o+AND+brasil+AND+america+AND+destinos&tbs=qdr:w&sxsrf=ALiCzsZ5Wp-ZLHBN4qxayIhVMrgNzNaPVg:1665187135810&ei=P71AY9H_MLby1sQPuZ-dgAE&start=10&sa=N&ved=2ahUKEwiRm9u9qc_6AhU2uZUCHblPBxAQ8tMDegQIARAE&biw=1536&bih=718&dpr=1.25\")\n"
      ],
      "metadata": {
        "id": "CN6P0i_tiwTM"
      },
      "execution_count": 33,
      "outputs": []
    },
    {
      "cell_type": "code",
      "source": [
        "html"
      ],
      "metadata": {
        "colab": {
          "base_uri": "https://localhost:8080/"
        },
        "id": "gDZx4xzri-ef",
        "outputId": "78fd79be-bca2-42e9-ab4d-89a8a6c77781"
      },
      "execution_count": 34,
      "outputs": [
        {
          "output_type": "execute_result",
          "data": {
            "text/plain": [
              "<Response [200]>"
            ]
          },
          "metadata": {},
          "execution_count": 34
        }
      ]
    },
    {
      "cell_type": "code",
      "source": [
        "soup=BeautifulSoup(html.text,'html.parser')"
      ],
      "metadata": {
        "id": "YZkn-APvjqI3"
      },
      "execution_count": 35,
      "outputs": []
    },
    {
      "cell_type": "code",
      "source": [
        "soup"
      ],
      "metadata": {
        "colab": {
          "base_uri": "https://localhost:8080/"
        },
        "id": "ws16bs7XjswJ",
        "outputId": "0f5e1715-982a-4cf0-89ae-0f67553c83c0"
      },
      "execution_count": 36,
      "outputs": [
        {
          "output_type": "execute_result",
          "data": {
            "text/plain": [
              "<!DOCTYPE doctype html>\n",
              "<html lang=\"zh-TW\"><head><meta charset=\"utf-8\"/><meta content=\"/images/branding/googleg/1x/googleg_standard_color_128dp.png\" itemprop=\"image\"/><title>aviação AND brasil AND america AND destinos - Google 搜尋</title><script nonce=\"_dZztetCjYLzOYfISKKTuw\">(function(){\n",
              "document.documentElement.addEventListener(\"submit\",function(b){var a;if(a=b.target){var c=a.getAttribute(\"data-submitfalse\");a=\"1\"===c||\"q\"===c&&!a.elements.q.value?!0:!1}else a=!1;a&&(b.preventDefault(),b.stopPropagation())},!0);document.documentElement.addEventListener(\"click\",function(b){var a;a:{for(a=b.target;a&&a!==document.documentElement;a=a.parentElement)if(\"A\"===a.tagName){a=\"1\"===a.getAttribute(\"data-nohref\");break a}a=!1}a&&b.preventDefault()},!0);}).call(this);(function(){\n",
              "var a=window.performance;window.start=Date.now();a:{var b=window;if(a){var c=a.timing;if(c){var d=c.navigationStart,f=c.responseStart;if(f>d&&f<=window.start){window.start=f;b.wsrt=f-d;break a}}a.now&&(b.wsrt=Math.floor(a.now()))}}window.google=window.google||{};var h=function(g){g&&g.target.setAttribute(\"data-iml\",Date.now())};document.documentElement.addEventListener(\"load\",h,!0);google.rglh=function(){document.documentElement.removeEventListener(\"load\",h,!0)};}).call(this);(function(){window._skwEvts=[];})();(function(){window.google.erd={jsr:1,bv:1667,de:true};})();(function(){var sdo=false;var mei=10;\n",
              "var h=this||self;var k,l=null!=(k=h.mei)?k:1,n,p=null!=(n=h.sdo)?n:!0,q=0,r,t=google.erd,v=t.jsr;google.ml=function(a,b,d,m,e){e=void 0===e?2:e;b&&(r=a&&a.message);if(google.dl)return google.dl(a,e,d),null;if(0>v){window.console&&console.error(a,d);if(-2===v)throw a;b=!1}else b=!a||!a.message||\"Error loading script\"===a.message||q>=l&&!m?!1:!0;if(!b)return null;q++;d=d||{};b=encodeURIComponent;var c=\"/gen_204?atyp=i&ei=\"+b(google.kEI);google.kEXPI&&(c+=\"&jexpid=\"+b(google.kEXPI));c+=\"&srcpg=\"+b(google.sn)+\"&jsr=\"+b(t.jsr)+\"&bver=\"+b(t.bv);var f=a.lineNumber;void 0!==f&&(c+=\"&line=\"+f);var g=\n",
              "a.fileName;g&&(0<g.indexOf(\"-extension:/\")&&(e=3),c+=\"&script=\"+b(g),f&&g===window.location.href&&(f=document.documentElement.outerHTML.split(\"\\n\")[f],c+=\"&cad=\"+b(f?f.substring(0,300):\"No script found.\")));c+=\"&jsel=\"+e;for(var u in d)c+=\"&\",c+=b(u),c+=\"=\",c+=b(d[u]);c=c+\"&emsg=\"+b(a.name+\": \"+a.message);c=c+\"&jsst=\"+b(a.stack||\"N/A\");12288<=c.length&&(c=c.substr(0,12288));a=c;m||google.log(0,\"\",a);return a};window.onerror=function(a,b,d,m,e){r!==a&&(a=e instanceof Error?e:Error(a),void 0===d||\"lineNumber\"in a||(a.lineNumber=d),void 0===b||\"fileName\"in a||(a.fileName=b),google.ml(a,!1,void 0,!1,\"SyntaxError\"===a.name||\"SyntaxError\"===a.message.substring(0,11)||-1!==a.message.indexOf(\"Script error\")?2:0));r=null;p&&q>=l&&(window.onerror=null)};})();(function(){\n",
              "var c=[],e=0;window.ping=function(b){-1==b.indexOf(\"&zx\")&&(b+=\"&zx=\"+Date.now());var a=new Image,d=e++;c[d]=a;a.onerror=a.onload=a.onabort=function(){delete c[d]};a.src=b};}).call(this);</script><style>a{color:#1a0dab;text-decoration:none;tap-highlight-color:rgba(0,0,0,.10)}a:visited{color:#4b11a8}a:hover{text-decoration:underline}img{border:0}html{font-family:arial,sans-serif;font-size:14px;line-height:20px;text-size-adjust:100%;color:#3c4043;word-wrap:break-word;background-color:#fff}.bRsWnc{background-color:#fff;border-top:1px solid #dadce0;height:39px;overflow:hidden}.N6RWV{height:51px;overflow-scrolling:touch;overflow-x:auto;overflow-y:hidden}.Uv67qb{box-pack:justify;font-size:12px;line-height:37px;justify-content:space-between;justify-content:space-between}.Uv67qb a,.Uv67qb span{color:#70757a;display:block;flex:none;padding:0 16px;text-align:center;text-transform:uppercase;}span.OXXup{border-bottom:2px solid #4285f4;color:#4285f4;font-weight:bold}a.eZt8xd:visited{color:#70757a}.FElbsf{border-left:1px solid rgba(0,0,0,.12)}header article{overflow:visible}.Pg70bf{height:39px;display:box;display:flex;display:flex;width:100%}.H0PQec{position:relative;flex:1}.sbc{display:flex;width:100%}.Pg70bf input{margin:2px 4px 2px 8px;}.x{width:26px;color:#70757a;font:27px/38px arial, sans-serif;line-height:40px;}#qdClwb{flex:0 0 auto;width:39px;height:39px;border-bottom:0;padding:0;border-top-right-radius:8px;background-color:#1a73e8;border:1px solid #1558d6;background-image:url(data:image/gif;base64,R0lGODdhJAAjAPIHAODr/nCk+MPZ/FmV96zK+/7+/5K5+kqL9iwAAAAAJAAjAEADani63P4wykmbKcQRXDscQAEMXmmeaLQVLCukzyC09AjfeK7v/MAajACLhPMVAgwjsUcEiZa8xgAYrVqv2Kx2iwsIAAABknfBBAKrTE4IcMyot8ur8datqIbQfJdnAfo2WE6BV05wXIiJigkAOw==);}.sc{font-size:16px;position:absolute;top:39px;left:0;right:0;box-shadow:0 2px 5px rgba(0,0,0,.2);z-index:2;background-color:#fff}.sc>div{padding:10px 10px;padding-left:16px;padding-left:14px;border-top:1px solid #dfe1e5;}.scs{background-color:#fafafa;}.noHIxc{display:block;font-size:16px;padding:0 0 0 8px;flex:1;height:35px;outline:none;border:none;width:100%;-webkit-tap-highlight-color:rgba(0,0,0,0);overflow:hidden;}.sbc input[type=text]{background:none}.bz1lBb{background-color:#fff;border-radius:8px 8px 0 0;box-shadow:0 0 0 1px #dfe1e5;margin-top:24px;}.KP7LCb{border-radius:0 0 8px 8px;box-shadow:0px 1px 0px 1px #dfe1e5;margin-bottom:30px;overflow:hidden}html{background-color:#fff}body{margin:0 auto 0 156px;max-width:652px;min-width:652px;padding:0 8px}.cOl4Id{letter-spacing:-1px;text-align:center;font:22pt Futura, Arial, sans-serif;height:37px;font-smoothing:antialiased;padding:32px 28px 0 24px;position:absolute;left:0;top:0}.cOl4Id span{display:inline-block}.V6gwVd{color:#4285f4}.iWkuvd{color:#ea4335}.cDrQ7{color:#fcc934}.ntlR9{color:#34a853}.tJ3Myc{-webkit-transform:rotate(-20deg);position:relative;left:-1px;display:inline-block}footer{text-align:center;margin-top:18px}footer a,footer a:visited,.smiUbb{color:#70757a}.xeDNfc{margin:0 13px;white-space:nowrap}#EOlPnc{margin-top:36px}#EOlPnc>div{margin:20px}.Srfpq{color:#70757a}</style></head><body jsmodel=\"hspDDf\"><header id=\"hdr\"><script nonce=\"_dZztetCjYLzOYfISKKTuw\">(function(){\n",
              "var k=this||self,l=function(a){var b=typeof a;return\"object\"==b&&null!=a||\"function\"==b},m=function(a,b){function c(){}c.prototype=b.prototype;a.j=b.prototype;a.prototype=new c;a.prototype.constructor=a;a.l=function(d,e,f){for(var g=Array(arguments.length-2),h=2;h<arguments.length;h++)g[h-2]=arguments[h];return b.prototype[e].apply(d,g)}};var n=Array.prototype.indexOf?function(a,b){return Array.prototype.indexOf.call(a,b,void 0)}:function(a,b){if(\"string\"===typeof a)return\"string\"!==typeof b||1!=b.length?-1:a.indexOf(b,0);for(var c=0;c<a.length;c++)if(c in a&&a[c]===b)return c;return-1};var p=function(a){return\"string\"==typeof a.className?a.className:a.getAttribute&&a.getAttribute(\"class\")||\"\"},q=function(a,b){\"string\"==typeof a.className?a.className=b:a.setAttribute&&a.setAttribute(\"class\",b)},r=function(a,b){a.classList?b=a.classList.contains(b):(a=a.classList?a.classList:p(a).match(/\\S+/g)||[],b=0<=n(a,b));return b},v=function(){var a=t,b=u;a.classList?a.classList.remove(b):r(a,b)&&q(a,Array.prototype.filter.call(a.classList?a.classList:p(a).match(/\\S+/g)||[],function(c){return c!=\n",
              "b}).join(\" \"))};function w(){var a=k.navigator;return a&&(a=a.userAgent)?a:\"\"};var x=function(a){x[\" \"](a);return a};x[\" \"]=function(){};var y=-1!=w().indexOf(\"Gecko\")&&!(-1!=w().toLowerCase().indexOf(\"webkit\")&&-1==w().indexOf(\"Edge\"))&&!(-1!=w().indexOf(\"Trident\")||-1!=w().indexOf(\"MSIE\"))&&-1==w().indexOf(\"Edge\");var z=function(a,b){this.type=a;this.target=b};z.prototype.g=function(){};var A=function(){if(!k.addEventListener||!Object.defineProperty)return!1;var a=!1,b=Object.defineProperty({},\"passive\",{get:function(){a=!0}});try{k.addEventListener(\"test\",function(){},b),k.removeEventListener(\"test\",function(){},b)}catch(c){}return a}();var C=function(a){z.call(this,a?a.type:\"\");this.relatedTarget=this.target=null;this.button=this.screenY=this.screenX=this.clientY=this.clientX=0;this.key=\"\";this.keyCode=0;this.metaKey=this.shiftKey=this.altKey=this.ctrlKey=!1;this.state=null;this.pointerId=0;this.pointerType=\"\";this.h=null;if(a){var b=this.type=a.type,c=a.changedTouches&&a.changedTouches.length?a.changedTouches[0]:null;this.target=a.target||a.srcElement;var d=a.relatedTarget;if(d){if(y){a:{try{x(d.nodeName);var e=!0;break a}catch(f){}e=\n",
              "!1}e||(d=null)}}else\"mouseover\"==b?d=a.fromElement:\"mouseout\"==b&&(d=a.toElement);this.relatedTarget=d;c?(this.clientX=void 0!==c.clientX?c.clientX:c.pageX,this.clientY=void 0!==c.clientY?c.clientY:c.pageY,this.screenX=c.screenX||0,this.screenY=c.screenY||0):(this.clientX=void 0!==a.clientX?a.clientX:a.pageX,this.clientY=void 0!==a.clientY?a.clientY:a.pageY,this.screenX=a.screenX||0,this.screenY=a.screenY||0);this.button=a.button;this.keyCode=a.keyCode||0;this.key=a.key||\"\";this.ctrlKey=a.ctrlKey;this.altKey=a.altKey;this.shiftKey=a.shiftKey;this.metaKey=a.metaKey;this.pointerId=a.pointerId||0;this.pointerType=\"string\"===typeof a.pointerType?a.pointerType:B[a.pointerType]||\"\";this.state=a.state;this.h=a;a.defaultPrevented&&C.j.g.call(this)}};m(C,z);var B={2:\"touch\",3:\"pen\",4:\"mouse\"};C.prototype.g=function(){C.j.g.call(this);var a=this.h;a.preventDefault?a.preventDefault():a.returnValue=!1};var D=\"closure_listenable_\"+(1E6*Math.random()|0);var E=0;var F=function(a,b,c,d,e){this.listener=a;this.proxy=null;this.src=b;this.type=c;this.capture=!!d;this.h=e;this.key=++E;this.g=this.i=!1},G=function(a){a.g=!0;a.listener=null;a.proxy=null;a.src=null;a.h=null};var H=function(a){this.src=a;this.g={};this.h=0};H.prototype.add=function(a,b,c,d,e){var f=a.toString();a=this.g[f];a||(a=this.g[f]=[],this.h++);var g;a:{for(g=0;g<a.length;++g){var h=a[g];if(!h.g&&h.listener==b&&h.capture==!!d&&h.h==e)break a}g=-1}-1<g?(b=a[g],c||(b.i=!1)):(b=new F(b,this.src,f,!!d,e),b.i=c,a.push(b));return b};var I=\"closure_lm_\"+(1E6*Math.random()|0),J={},K=0,M=function(a,b,c,d,e){if(d&&d.once)return L(a,b,c,d,e);if(Array.isArray(b)){for(var f=0;f<b.length;f++)M(a,b[f],c,d,e);return null}c=N(c);return a&&a[D]?a.g(b,c,l(d)?!!d.capture:!!d,e):O(a,b,c,!1,d,e)},O=function(a,b,c,d,e,f){if(!b)throw Error(\"a\");var g=l(e)?!!e.capture:!!e,h=P(a);h||(a[I]=h=new H(a));c=h.add(b,c,d,g,f);if(c.proxy)return c;d=Q();c.proxy=d;d.src=a;d.listener=c;if(a.addEventListener)A||(e=g),void 0===e&&(e=!1),a.addEventListener(b.toString(),d,e);else if(a.attachEvent)a.attachEvent(R(b.toString()),d);else if(a.addListener&&a.removeListener)a.addListener(d);else throw Error(\"b\");K++;return c},Q=function(){var a=S,b=function(c){return a.call(b.src,b.listener,c)};return b},L=function(a,b,c,d,e){if(Array.isArray(b)){for(var f=0;f<b.length;f++)L(a,b[f],c,d,e);return null}c=N(c);return a&&a[D]?a.h(b,c,l(d)?!!d.capture:!!d,e):O(a,b,c,!0,d,e)},T=function(a){if(\"number\"!==typeof a&&a&&!a.g){var b=a.src;if(b&&b[D])b.o(a);else{var c=a.type,d=a.proxy;b.removeEventListener?b.removeEventListener(c,d,a.capture):b.detachEvent?b.detachEvent(R(c),d):b.addListener&&b.removeListener&&b.removeListener(d);K--;if(c=P(b)){d=a.type;if(d in c.g){var e=c.g[d],f=n(e,a),g;(g=0<=f)&&Array.prototype.splice.call(e,f,1);g&&(G(a),0==c.g[d].length&&(delete c.g[d],c.h--))}0==c.h&&(c.src=null,b[I]=null)}else G(a)}}},R=function(a){return a in J?J[a]:J[a]=\"on\"+a},S=function(a,b){if(a.g)a=!0;else{b=new C(b,this);var c=a.listener,d=a.h||a.src;a.i&&T(a);a=c.call(d,b)}return a},P=function(a){a=a[I];return a instanceof H?a:null},U=\"__closure_events_fn_\"+(1E9*Math.random()>>>0),N=function(a){if(\"function\"===typeof a)return a;a[U]||(a[U]=function(b){return a.handleEvent(b)});return a[U]};var u,t=document.documentElement,V;function W(){T(V);V=L(t,\"mousedown\",function(){v();X()},{capture:!0})}function X(){T(V);V=M(t,\"keydown\",function(a){if(9===a.keyCode){a=t;var b=u;if(a.classList)a.classList.add(b);else if(!r(a,b)){var c=p(a);q(a,c+(0<c.length?\" \"+b:b))}W()}})};u=\"zAoYTe\";X();}).call(this);</script><div class=\"cOl4Id\"><a href=\"/?sa=X&amp;ved=0ahUKEwi579rnrM_6AhWXpVYBHVm8AoM4ChA7CAI\"><span class=\"V6gwVd\">G</span><span class=\"iWkuvd\">o</span><span class=\"cDrQ7\">o</span><span class=\"V6gwVd\">g</span><span class=\"ntlR9\">l</span><span class=\"iWkuvd tJ3Myc\">e</span></a></div><div class=\"bz1lBb\"><form class=\"Pg70bf\" id=\"sf\"><input name=\"biw\" type=\"hidden\" value=\"1536\"/><input name=\"bih\" type=\"hidden\" value=\"718\"/><input name=\"ie\" type=\"hidden\" value=\"ISO-8859-1\"/><input name=\"tbs\" type=\"hidden\" value=\"qdr:w\"/><div class=\"H0PQec\"><div class=\"sbc esbc\"><input autocapitalize=\"none\" autocomplete=\"off\" class=\"noHIxc\" name=\"q\" spellcheck=\"false\" type=\"text\" value=\"aviação AND brasil AND america AND destinos\"/><input name=\"oq\" type=\"hidden\"/><input name=\"aqs\" type=\"hidden\"/><div class=\"x\">×</div><div class=\"sc\"></div></div></div><button id=\"qdClwb\" type=\"submit\"></button></form></div><noscript><meta content=\"0;url=/search?q=avia%C3%A7%C3%A3o+AND+brasil+AND+america+AND+destinos&amp;start=10&amp;tbs=qdr:w&amp;sa=N&amp;biw=1536&amp;bih=718&amp;ie=UTF-8&amp;gbv=1&amp;sei=vcBAY_mcC5fL2roP2fiKmAg\" http-equiv=\"refresh\"/><style>table,div,span,p{display:none}</style><div style=\"display:block\">如果系統沒有在數秒鐘後將您重新導向，請按一下<a href=\"/search?q=avia%C3%A7%C3%A3o+AND+brasil+AND+america+AND+destinos&amp;start=10&amp;tbs=qdr:w&amp;sa=N&amp;biw=1536&amp;bih=718&amp;ie=UTF-8&amp;gbv=1&amp;sei=vcBAY_mcC5fL2roP2fiKmAg\">這裡</a>。</div></noscript></header><div id=\"main\"><div><div class=\"KP7LCb\"> <div class=\"bRsWnc\"> <div class=\"N6RWV\"> <div class=\"Pg70bf Uv67qb\"> <span class=\"OXXup\">全部</span><a class=\"eZt8xd\" href=\"/search?q=avia%C3%A7%C3%A3o+AND+brasil+AND+america+AND+destinos&amp;biw=1536&amp;bih=718&amp;ie=UTF-8&amp;source=lnms&amp;tbm=nws&amp;tbs=qdr:w&amp;sa=X&amp;ved=0ahUKEwi579rnrM_6AhWXpVYBHVm8AoM4ChD8BQgGKAE\">新聞</a><a class=\"eZt8xd\" href=\"/search?q=avia%C3%A7%C3%A3o+AND+brasil+AND+america+AND+destinos&amp;biw=1536&amp;bih=718&amp;ie=UTF-8&amp;source=lnms&amp;tbm=isch&amp;tbs=qdr:w&amp;sa=X&amp;ved=0ahUKEwi579rnrM_6AhWXpVYBHVm8AoM4ChD8BQgHKAI\">圖片</a><a class=\"eZt8xd\" href=\"/search?q=avia%C3%A7%C3%A3o+AND+brasil+AND+america+AND+destinos&amp;biw=1536&amp;bih=718&amp;ie=UTF-8&amp;source=lnms&amp;tbm=vid&amp;tbs=qdr:w&amp;sa=X&amp;ved=0ahUKEwi579rnrM_6AhWXpVYBHVm8AoM4ChD8BQgIKAM\">影片</a> <a href=\"https://maps.google.com/maps?q=avia%C3%A7%C3%A3o+AND+brasil+AND+america+AND+destinos&amp;sxsrf=ALiCzsZ5Wp-ZLHBN4qxayIhVMrgNzNaPVg:1665187135810&amp;biw=1536&amp;bih=718&amp;dpr=1.25&amp;um=1&amp;ie=UTF-8&amp;sa=X&amp;ved=0ahUKEwi579rnrM_6AhWXpVYBHVm8AoM4ChD8BQgJKAQ\">地圖</a> <a href=\"/search?q=avia%C3%A7%C3%A3o+AND+brasil+AND+america+AND+destinos&amp;biw=1536&amp;bih=718&amp;ie=UTF-8&amp;source=lnms&amp;tbm=shop&amp;sa=X&amp;ved=0ahUKEwi579rnrM_6AhWXpVYBHVm8AoM4ChD8BQgKKAU\">購物</a> <a href=\"/search?q=avia%C3%A7%C3%A3o+AND+brasil+AND+america+AND+destinos&amp;biw=1536&amp;bih=718&amp;ie=UTF-8&amp;source=lnms&amp;tbm=bks&amp;sa=X&amp;ved=0ahUKEwi579rnrM_6AhWXpVYBHVm8AoM4ChD8BQgLKAY\">書籍</a> <div class=\"FElbsf\"><a href=\"/advanced_search\" id=\"st-toggle\" role=\"button\" style=\"white-space:nowrap\">搜尋工具</a></div> </div> </div> </div> </div><div class=\"Pg70bf wEsjbd Gx5Zad xpd EtOod pkphOe\" id=\"st-card\"><style>.wEsjbd{background-color:#fff;height:44px;white-space:nowrap}.coPU8c{height:60px;overflow-scrolling:touch;overflow-x:auto;overflow-y:hidden}.Xj2aue{height:44px;overflow:hidden}.RnNGze{margin:11px 16px}.wEsjbd div,.wEsjbd a,.wEsjbd li{outline-width:0;outline:none}</style><div class=\"Xj2aue\"><div class=\"coPU8c\"><div class=\"RnNGze\"><style>.PA9J5{display:inline-block}.RXaOfd{display:inline-block;height:22px;position:relative;padding-top:0;padding-bottom:0;padding-right:16px;padding-left:0;line-height:22px;cursor:pointer;text-transform:uppercase;font-size:12px;color:#70757a}.sa1toc{background:#fff;display:none;position:absolute;border:1px solid #d6d6d6;box-shadow:0 2px 4px rgba(0,0,0,.3);margin:0;white-space:nowrap;z-index:103;line-height:17px;padding-top:5px;padding-bottom:5px;padding-left:0}.PA9J5:hover .sa1toc{display:block}.mGSy8d a:active,.RXaOfd:active{color:#4285f4}</style><div class=\"PA9J5\"><div class=\"RXaOfd\" role=\"button\" tabindex=\"0\"><style>.TWMOUc{display:inline-block;padding-right:14px;white-space:nowrap}.vQYuGf{font-weight:bold}.OmTIzf{border-color:#909090 transparent;border-style:solid;border-width:4px 4px 0 4px;width:0;height:0;margin-left:-10px;top:50%;margin-top:-2px;position:absolute}.RXaOfd:active .OmTIzf{border-color:#4285f4 transparent}</style><div class=\"TWMOUc\">不限語言</div><span class=\"OmTIzf\"></span></div><ul class=\"sa1toc ozatM\"><style>.ozatM{font-size:12px;text-transform:uppercase}.ozatM .yNFsl,.ozatM li{list-style-type:none;list-style-position:outside;list-style-image:none}.yNFsl.SkUj4c,.yNFsl a{color:rgba(0,0,0,0.54);text-decoration:none;padding:6px 44px 6px 14px;line-height:17px;display:block}.SkUj4c{background-image:url(//ssl.gstatic.com/ui/v1/menu/checkmark2.png);background-position:right center;background-repeat:no-repeat}.SkUj4c:active{background-color:#f8f9fa}</style><li class=\"yNFsl SkUj4c\">不限語言</li><li class=\"yNFsl\"><a href=\"/search?q=avia%C3%A7%C3%A3o+AND+brasil+AND+america+AND+destinos&amp;biw=1536&amp;bih=718&amp;ie=UTF-8&amp;tbs=qdr:w,lr:lang_1zh-CN%7Clang_1zh-TW&amp;source=lnt&amp;lr=lang_zh-CN%7Clang_zh-TW&amp;sa=X&amp;ved=0ahUKEwi579rnrM_6AhWXpVYBHVm8AoM4ChCnBQgN\">搜尋所有中文網頁</a></li><li class=\"yNFsl\"><a href=\"/search?q=avia%C3%A7%C3%A3o+AND+brasil+AND+america+AND+destinos&amp;biw=1536&amp;bih=718&amp;ie=UTF-8&amp;tbs=qdr:w,lr:lang_1zh-TW&amp;source=lnt&amp;lr=lang_zh-TW&amp;sa=X&amp;ved=0ahUKEwi579rnrM_6AhWXpVYBHVm8AoM4ChCnBQgO\">搜尋繁體中文網頁</a></li></ul></div><div class=\"PA9J5\"><div class=\"RXaOfd vQYuGf\" role=\"button\" tabindex=\"0\"><div class=\"TWMOUc\"> 過去 1 週</div><span class=\"OmTIzf\"></span></div><ul class=\"sa1toc ozatM\"><li class=\"yNFsl\"><a href=\"/search?q=avia%C3%A7%C3%A3o+AND+brasil+AND+america+AND+destinos&amp;biw=1536&amp;bih=718&amp;ie=UTF-8&amp;tbas=0&amp;source=lnt&amp;sa=X&amp;ved=0ahUKEwi579rnrM_6AhWXpVYBHVm8AoM4ChCnBQgP\">不限時間</a></li><li class=\"yNFsl\"><a href=\"/search?q=avia%C3%A7%C3%A3o+AND+brasil+AND+america+AND+destinos&amp;biw=1536&amp;bih=718&amp;ie=UTF-8&amp;source=lnt&amp;tbs=qdr:h&amp;sa=X&amp;ved=0ahUKEwi579rnrM_6AhWXpVYBHVm8AoM4ChCnBQgQ\"> 過去 1 小時</a></li><li class=\"yNFsl\"><a href=\"/search?q=avia%C3%A7%C3%A3o+AND+brasil+AND+america+AND+destinos&amp;biw=1536&amp;bih=718&amp;ie=UTF-8&amp;source=lnt&amp;tbs=qdr:d&amp;sa=X&amp;ved=0ahUKEwi579rnrM_6AhWXpVYBHVm8AoM4ChCnBQgR\"> 過去 24 小時</a></li><li class=\"yNFsl SkUj4c\"> 過去 1 週</li><li class=\"yNFsl\"><a href=\"/search?q=avia%C3%A7%C3%A3o+AND+brasil+AND+america+AND+destinos&amp;biw=1536&amp;bih=718&amp;ie=UTF-8&amp;source=lnt&amp;tbs=qdr:m&amp;sa=X&amp;ved=0ahUKEwi579rnrM_6AhWXpVYBHVm8AoM4ChCnBQgT\"> 過去 1 個月</a></li><li class=\"yNFsl\"><a href=\"/search?q=avia%C3%A7%C3%A3o+AND+brasil+AND+america+AND+destinos&amp;biw=1536&amp;bih=718&amp;ie=UTF-8&amp;source=lnt&amp;tbs=qdr:y&amp;sa=X&amp;ved=0ahUKEwi579rnrM_6AhWXpVYBHVm8AoM4ChCnBQgU\"> 過去 1 年</a></li></ul></div><div class=\"PA9J5\"><div class=\"RXaOfd\" role=\"button\" tabindex=\"0\"><div class=\"TWMOUc\">所有結果</div><span class=\"OmTIzf\"></span></div><ul class=\"sa1toc ozatM\"><li class=\"yNFsl SkUj4c\">所有結果</li><li class=\"yNFsl\"><a href=\"/search?q=avia%C3%A7%C3%A3o+AND+brasil+AND+america+AND+destinos&amp;biw=1536&amp;bih=718&amp;ie=UTF-8&amp;tbs=li:1&amp;source=lnt&amp;sa=X&amp;ved=0ahUKEwi579rnrM_6AhWXpVYBHVm8AoM4ChCnBQgW\">一字不差</a></li></ul></div></div></div></div><script nonce=\"_dZztetCjYLzOYfISKKTuw\">(function(){\n",
              "var a=document.getElementById(\"st-toggle\"),b=document.getElementById(\"st-card\");a&&b&&a.addEventListener(\"click\",function(c){b.style.display=b.style.display?\"\":\"none\";c.preventDefault()},!1);}).call(this);</script></div></div><style>.Gx5Zad{background-color:#fff;margin-bottom:30px;box-shadow:0 0 0 1px #dfe1e5;border-radius:8px}.pkphOe{font-size:14px;line-height:22px;}.EtOod>*:first-child{border-top-left-radius:8px;border-top-right-radius:8px}.EtOod>*:last-child{border-bottom-left-radius:8px;border-bottom-right-radius:8px}.EtOod>.qxDOhb>*:first-child{border-top-left-radius:8px;border-top-right-radius:8px}.EtOod>.qxDOhb>*:last-child{border-bottom-left-radius:8px;border-bottom-right-radius:8px}.fP1Qef{background:transparent !important;box-shadow:none !important;border:none !important}.Gx5Zad.fP1Qef{margin-top:-12px;margin-bottom:18px}.rl7ilb{display:block;clear:both}.egMi0{margin-bottom:-22px}.kCrYT{padding:12px 16px 12px}a.fdYsqf{color:#4b11a8}.l97dzf{font-weight:400}.zBAuLc{line-height:normal;margin:0;padding:0}.BNeawe{white-space:pre-line;word-wrap:break-word}.vvjwJb{color:#1a0dab;font-size:20px;line-height:26px}a:visited .vvjwJb,.vvjwJb a:visited{color:#4b11a8}.vvjwJb.HrGdeb{color:#fff}a:visited .vvjwJb.HrGdeb,.vvjwJb.HrGdeb a:visited{color:rgba(255,255,255,.70)}.UPmit{font-size:14px;line-height:22px}.UPmit.HrGdeb{color:rgba(255,255,255,.70)}.UPmit.AP7Wnd{color:#0d652d}.Ap5OSd{padding-bottom:12px}.s3v9rd{font-size:14px;line-height:22px}.s3v9rd.HrGdeb{color:#fff}.s3v9rd.AP7Wnd{color:#202124}.mSx1Ee{padding-left:48px;margin:0}.v9i61e{padding-bottom:8px}.r0bn4c.tr0dw{color:rgba(255,255,255,.70)}.r0bn4c.rQMQod{color:#70757a}.U8ml0d{text-decoration:line-through}.XLloXe{color:#1a0dab;font-size:14px;line-height:20px}a:visited .XLloXe,.XLloXe a:visited{color:#4b11a8}.XLloXe.HrGdeb{color:#fff}a:visited .XLloXe.HrGdeb,.XLloXe.HrGdeb a:visited{color:rgba(255,255,255,.70)}.rLshyf,.BmP5tf{padding-top:12px;padding-bottom:12px}.YOx3Ab{padding-left:16px;}.w1C3Le,.BmP5tf,.G5NbBd,.CS4w5b{padding-left:16px;padding-right:16px;}.G5NbBd{padding-bottom:12px}.CS4w5b{padding-top:12px}.qFvlD{display:inline-block;width:40px}.nMymef{display:flex}.G5eFlf{flex:1;display:block}.nMymef span{text-align:center}.SAez4c{margin:0 24px}.EYqSq{margin:6px 4px 9px 0;border-radius:100%;display:inline-block;height:10px;vertical-align:middle;width:10px}.dfB0uf{color:#3c4043;font-weight:bold}</style><div><!--SW_C_X--></div><div></div><div><div class=\"Gx5Zad fP1Qef xpd EtOod pkphOe\"><div class=\"egMi0 kCrYT\"><a href=\"/url?q=https://www.melhoresdestinos.com.br/&amp;sa=U&amp;ved=2ahUKEwi579rnrM_6AhWXpVYBHVm8AoM4ChAWegQICBAC&amp;usg=AOvVaw3H4ApswRe92U2t7C3aawJD\"><h3 class=\"zBAuLc l97dzf\"><div class=\"BNeawe vvjwJb AP7Wnd\">Melhores Destinos - Passagens aéreas baratas</div></h3><div class=\"BNeawe UPmit AP7Wnd\">www.melhoresdestinos.com.br</div></a></div><div class=\"kCrYT\"><div><div class=\"BNeawe s3v9rd AP7Wnd\"><div><div class=\"v9i61e\"><div class=\"BNeawe s3v9rd AP7Wnd\"><span class=\"r0bn4c rQMQod\">24 分鐘前</span><span class=\"r0bn4c rQMQod\"> · </span>Maior site de promoções de passagens aéreas do Brasil. Receba em primeira mão as melhores promoções para os Melhores Destinos!</div></div><div><div class=\"BNeawe s3v9rd AP7Wnd\">缺少字詞：  <span class=\"U8ml0d rQMQod\">america</span> | 必須包含以下字詞：<span class=\"BNeawe\"><a href=\"/search?sa=N&amp;biw=1536&amp;bih=718&amp;ie=UTF-8&amp;tbs=qdr:w&amp;q=avia%C3%A7%C3%A3o+AND+brasil+AND+%22america%22+AND+destinos&amp;ved=2ahUKEwi579rnrM_6AhWXpVYBHVm8AoM4ChDm3gJ6BAgIEAY\"><span class=\"XLloXe AP7Wnd\">america</span></a></span></div></div></div></div></div></div></div></div><div><div class=\"Gx5Zad fP1Qef xpd EtOod pkphOe\"><div class=\"egMi0 kCrYT\"><a href=\"/url?q=https://jc.ne10.uol.com.br/economia/2022/10/15091704-aeroportos-da-america-latina-mais-perto-do-nivel-pre-pandemia.html&amp;sa=U&amp;ved=2ahUKEwi579rnrM_6AhWXpVYBHVm8AoM4ChAWegQICRAC&amp;usg=AOvVaw0Y3DKlG-LCU6ECNE7apHbL\"><h3 class=\"zBAuLc l97dzf\"><div class=\"BNeawe vvjwJb AP7Wnd\">Aeroportos da América Latina mais perto do nível pré-pandemia</div></h3><div class=\"BNeawe UPmit AP7Wnd\">jc.ne10.uol.com.br › economia › 2022/10 › 15091704-aer...</div></a></div><div class=\"kCrYT\"><div><div class=\"BNeawe s3v9rd AP7Wnd\"><div><div><div class=\"BNeawe s3v9rd AP7Wnd\"><span class=\"r0bn4c rQMQod\">5 天前</span><span class=\"r0bn4c rQMQod\"> · </span>Segundo dados do Conselho Internacional de Aeroportos (ACI, na sigla em inglês), em agosto o tráfego aéreo na região ficou apenas 1,7% abaixo de 2019. No Brasil ...</div></div></div></div></div></div></div></div><div><div class=\"Gx5Zad fP1Qef xpd EtOod pkphOe\"><div class=\"egMi0 kCrYT\"><a href=\"/url?q=https://valor.globo.com/empresas/noticia/2022/10/03/venda-avulsa-de-assento-cria-novo-negocio-para-a-aviacao-executiva.ghtml&amp;sa=U&amp;ved=2ahUKEwi579rnrM_6AhWXpVYBHVm8AoM4ChAWegQIBRAC&amp;usg=AOvVaw3ekENzlwfJiBNgYXfTT6Sm\"><h3 class=\"zBAuLc l97dzf\"><div class=\"BNeawe vvjwJb AP7Wnd\">Venda avulsa de assento cria novo negócio para a aviação executiva</div></h3><div class=\"BNeawe UPmit AP7Wnd\">valor.globo.com › empresas › noticia › 2022/10/03 › venda-avulsa-de-asse...</div></a></div><div class=\"kCrYT\"><div><div class=\"BNeawe s3v9rd AP7Wnd\"><div><div><div class=\"BNeawe s3v9rd AP7Wnd\"><span class=\"r0bn4c rQMQod\">5 天前</span><span class=\"r0bn4c rQMQod\"> · </span>Aplicativos permitem que cliente que freta um voo ofereça lugares a ... pelo Regulamento Brasileiro de Aviação Civil (RBAC nº 135), enquanto a aviação ...</div></div></div></div></div></div></div></div><div><div class=\"Gx5Zad fP1Qef xpd EtOod pkphOe\"><div class=\"egMi0 kCrYT\"><a href=\"/url?q=https://viagemempauta.com.br/&amp;sa=U&amp;ved=2ahUKEwi579rnrM_6AhWXpVYBHVm8AoM4ChAWegQIARAC&amp;usg=AOvVaw1i3j3BqD6i1J56dcT28_Ej\"><h3 class=\"zBAuLc l97dzf\"><div class=\"BNeawe vvjwJb AP7Wnd\">Viagem em Pauta - Experiências inusitadas em lugares conhecidos</div></h3><div class=\"BNeawe UPmit AP7Wnd\">viagemempauta.com.br</div></a></div><div class=\"kCrYT\"><div><div class=\"BNeawe s3v9rd AP7Wnd\"><div><div><div class=\"BNeawe s3v9rd AP7Wnd\"><span class=\"r0bn4c rQMQod\">1 天前</span><span class=\"r0bn4c rQMQod\"> · </span>Confira opções inusitadas em destinos do interior e litoral de São Paulo [SAIBA MAIS] ... Final da Libertadores terá voo direto entre Brasil e Equador.</div></div></div></div></div></div></div></div><div><div class=\"Gx5Zad fP1Qef xpd EtOod pkphOe\"><div class=\"egMi0 kCrYT\"><a href=\"/url?q=https://www.kayak.com.br/voos/Brasil-BR0/Brasil-BR0&amp;sa=U&amp;ved=2ahUKEwi579rnrM_6AhWXpVYBHVm8AoM4ChAWegQIAhAC&amp;usg=AOvVaw1oyvlt0DBzBARiu8hf-j1f\"><h3 class=\"zBAuLc l97dzf\"><div class=\"BNeawe vvjwJb AP7Wnd\">Passagens baratas para o Brasil a partir de R$ 228 - KAYAK</div></h3><div class=\"BNeawe UPmit AP7Wnd\">www.kayak.com.br › ... › Todo o mundo › América do Sul</div></a></div><div class=\"kCrYT\"><div><div class=\"BNeawe s3v9rd AP7Wnd\"><div><div><div class=\"BNeawe s3v9rd AP7Wnd\"><span class=\"r0bn4c rQMQod\">22 小時前</span><span class=\"r0bn4c rQMQod\"> · </span>Descubra destinos: Voos »; Todo o mundo »; América do Sul »; Voos para Brasil. R$ 425. Alagoas.</div></div></div></div></div></div></div></div><div><div class=\"Gx5Zad fP1Qef xpd EtOod pkphOe\"><div class=\"egMi0 kCrYT\"><a href=\"/url?q=https://www.copaair.com/pt/web/gs&amp;sa=U&amp;ved=2ahUKEwi579rnrM_6AhWXpVYBHVm8AoM4ChAWegQIAxAC&amp;usg=AOvVaw2MdxWSn8ICb14lBNXReB4n\"><h3 class=\"zBAuLc l97dzf\"><div class=\"BNeawe vvjwJb AP7Wnd\">Passagens Aéreas e Voos baratos para América - Copa Airlines</div></h3><div class=\"BNeawe UPmit AP7Wnd\">www.copaair.com › web</div></a></div><div class=\"kCrYT\"><div><div class=\"BNeawe s3v9rd AP7Wnd\"><div><div><div class=\"BNeawe s3v9rd AP7Wnd\"><span class=\"r0bn4c rQMQod\">2 天前</span><span class=\"r0bn4c rQMQod\"> · </span>Reserve vuelos baratos, obtenga los mejores pasajes aéreos y disfrute con Copa Airlines. Encuentre las mejores ofertas para hoteles y renta de autos.</div></div></div></div></div></div></div></div><div><div class=\"Gx5Zad fP1Qef xpd EtOod pkphOe\"><div class=\"egMi0 kCrYT\"><a href=\"/url?q=https://aeromagazine.uol.com.br/tags/eua&amp;sa=U&amp;ved=2ahUKEwi579rnrM_6AhWXpVYBHVm8AoM4ChAWegQIBxAC&amp;usg=AOvVaw3m_oM1ENbQIiP3ScD-8hG0\"><h3 class=\"zBAuLc l97dzf\"><div class=\"BNeawe vvjwJb AP7Wnd\">Busca: EUA - AERO Magazine</div></h3><div class=\"BNeawe UPmit AP7Wnd\">aeromagazine.uol.com.br › tags › eua</div></a></div><div class=\"kCrYT\"><div><div class=\"BNeawe s3v9rd AP7Wnd\"><div><div><div class=\"BNeawe s3v9rd AP7Wnd\"><span class=\"r0bn4c rQMQod\">3 天前</span><span class=\"r0bn4c rQMQod\"> · </span>Avião militar russo desviou de drones de combate dos EUA na Síria ... Três destinos da American Airlines nos EUA terão mais voos para o Brasil, ...</div></div></div></div></div></div></div></div><div><div class=\"Gx5Zad fP1Qef xpd EtOod pkphOe\"><div class=\"egMi0 kCrYT\"><a href=\"/url?q=https://www.bloomberglinea.com.br/tags/gol/&amp;sa=U&amp;ved=2ahUKEwi579rnrM_6AhWXpVYBHVm8AoM4ChAWegQIBhAC&amp;usg=AOvVaw1Ux0sPqjtLPZuuw-zM1VoO\"><h3 class=\"zBAuLc l97dzf\"><div class=\"BNeawe vvjwJb AP7Wnd\">Notícias de Gol - Bloomberg Línea Brasil</div></h3><div class=\"BNeawe UPmit AP7Wnd\">www.bloomberglinea.com.br › tags › gol</div></a></div><div class=\"kCrYT\"><div><div class=\"BNeawe s3v9rd AP7Wnd\"><div><div><div class=\"BNeawe s3v9rd AP7Wnd\"><span class=\"r0bn4c rQMQod\">6 天前</span><span class=\"r0bn4c rQMQod\"> · </span>Brasileiros que planejam viajar para destinos como Miami, Orlando e Nova York ... Conheça as 500 personalidades mais influentes da América Latina em 2022dfd.</div></div></div></div></div></div></div></div><div><div class=\"Gx5Zad fP1Qef xpd EtOod pkphOe\"><div class=\"egMi0 kCrYT\"><a href=\"/url?q=https://www.terra.com.br/amp/economia/dinheiro-em-acao/congonhas-podera-voltar-a-ter-voos-internacionais-diz-secretario-do-ministerio-da-infraestrutura,ffeb86c9432d64c4c9668441bf94ab1dtcx1qsl5.html&amp;sa=U&amp;ved=2ahUKEwi579rnrM_6AhWXpVYBHVm8AoM4ChAWegQIBBAC&amp;usg=AOvVaw0SbBUtdT-m0AIef1EOOSQu\"><h3 class=\"zBAuLc l97dzf\"><div class=\"BNeawe vvjwJb AP7Wnd\">Congonhas poderá voltar a ter voos internacionais, diz secretário do ...</div></h3><div class=\"BNeawe UPmit AP7Wnd\">www.terra.com.br › Economia › Dinheiro em Ação</div></a></div><div class=\"kCrYT\"><div><div class=\"BNeawe s3v9rd AP7Wnd\"><div><div><div class=\"BNeawe s3v9rd AP7Wnd\"><span class=\"r0bn4c rQMQod\">11 小時前</span><span class=\"r0bn4c rQMQod\"> · </span>A partir daí, passou a receber voos internacionais apenas da aviação ... \"O Brasil tem pouco tráfego para a América do Sul, é muito mais doméstico e voltado ...</div></div></div></div></div></div></div></div><div><div class=\"Gx5Zad fP1Qef xpd EtOod pkphOe\"><div class=\"egMi0 kCrYT\"><a href=\"/url?q=https://gooutside.com.br/categoria/viagem/&amp;sa=U&amp;ved=2ahUKEwi579rnrM_6AhWXpVYBHVm8AoM4ChAWegQIABAC&amp;usg=AOvVaw0yYfrfDEi1IWrSqDDwmMfl\"><h3 class=\"zBAuLc l97dzf\"><div class=\"BNeawe vvjwJb AP7Wnd\">Viagem Arquivos - Go Outside</div></h3><div class=\"BNeawe UPmit AP7Wnd\">gooutside.com.br › categoria › viagem</div></a></div><div class=\"kCrYT\"><div><div class=\"BNeawe s3v9rd AP7Wnd\"><div><div><div class=\"BNeawe s3v9rd AP7Wnd\"><span class=\"r0bn4c rQMQod\">2 天前</span><span class=\"r0bn4c rQMQod\"> · </span>6 lugares para acampar no Brasil ... Quer destinos com cara de primavera? ... Uma das principais premiações da aviação mundial, o Skytrax World Airline ...</div></div></div></div></div></div></div></div><footer> <div> <div class=\"Gx5Zad xpd EtOod pkphOe BmP5tf\"><div class=\"nMymef MUxGbd lyLwlc\"><a aria-label=\"上一頁\" class=\"nBDE1b G5eFlf\" href=\"/search?q=avia%C3%A7%C3%A3o+AND+brasil+AND+america+AND+destinos&amp;biw=1536&amp;bih=718&amp;ie=UTF-8&amp;tbs=qdr:w&amp;ei=vcBAY_mcC5fL2roP2fiKmAg&amp;start=0&amp;sa=N\" style=\"text-align:right\"><span class=\"qFvlD\">&lt;</span></a><span class=\"SAez4c\">第 2 頁</span><a aria-label=\"下一頁\" class=\"nBDE1b G5eFlf\" href=\"/search?q=avia%C3%A7%C3%A3o+AND+brasil+AND+america+AND+destinos&amp;biw=1536&amp;bih=718&amp;ie=UTF-8&amp;tbs=qdr:w&amp;ei=vcBAY_mcC5fL2roP2fiKmAg&amp;start=20&amp;sa=N\" style=\"text-align:left\"><span class=\"qFvlD\">&gt;</span></a></div></div> </div> <div id=\"EOlPnc\"><div class=\"Srfpq\"><div><span class=\"EYqSq unknown_loc\"></span><span class=\"dfB0uf\">台灣</span></div><span>根據你的 IP 位址</span><span> - </span><a href=\"/url?q=https://support.google.com/websearch%3Fp%3Dws_settings_location%26hl%3Dzh-TW&amp;sa=U&amp;ved=0ahUKEwi579rnrM_6AhWXpVYBHVm8AoM4ChC3LghN&amp;usg=AOvVaw1rJk5FeNmOxkub4M00ZE-C\">瞭解詳情</a></div><div><a href=\"/url?q=https://accounts.google.com/ServiceLogin%3Fcontinue%3Dhttps://www.google.com/search%253Fq%253Davia%2525C3%2525A7%2525C3%2525A3o%252BAND%252Bbrasil%252BAND%252Bamerica%252BAND%252Bdestinos%2526tbs%253Dqdr:w%2526sxsrf%253DALiCzsZ5Wp-ZLHBN4qxayIhVMrgNzNaPVg:1665187135810%2526ei%253DP71AY9H_MLby1sQPuZ-dgAE%2526start%253D10%2526sa%253DN%2526ved%253D2ahUKEwiRm9u9qc_6AhU2uZUCHblPBxAQ8tMDegQIARAE%2526biw%253D1536%2526bih%253D718%2526dpr%253D1.25%26hl%3Dzh-TW&amp;sa=U&amp;ved=0ahUKEwi579rnrM_6AhWXpVYBHVm8AoM4ChDGzwIITg&amp;usg=AOvVaw0kC3YTXQP5u6TIHGaCa1ZQ\">登入</a></div><div><a class=\"xeDNfc\" href=\"https://www.google.com/preferences?hl=zh-TW&amp;fg=1&amp;sa=X&amp;ved=0ahUKEwi579rnrM_6AhWXpVYBHVm8AoM4ChDl9QIITw\">設定</a><a class=\"xeDNfc\" href=\"https://policies.google.com/privacy?hl=zh-TW&amp;fg=1\">隱私權</a><a class=\"xeDNfc\" href=\"https://policies.google.com/terms?hl=zh-TW&amp;fg=1\">服務條款</a></div></div> </footer><script nonce=\"_dZztetCjYLzOYfISKKTuw\">(function(){var hl='zh-TW';(function(){\n",
              "var f=this||self,g=function(a){return a};\n",
              "var h,k=function(){if(void 0===h){var a=null,b=f.trustedTypes;if(b&&b.createPolicy){try{a=b.createPolicy(\"goog#html\",{createHTML:g,createScript:g,createScriptURL:g})}catch(c){f.console&&f.console.error(c.message)}h=a}else h=a}return h};var p=function(a,b){this.h=a===l&&b||\"\";this.g=m},q=function(a){return a instanceof p&&a.constructor===p&&a.g===m?a.h:\"type_error:Const\"},m={},l={};var t=function(a,b){this.g=b===r?a:\"\"};t.prototype.toString=function(){return this.g+\"\"};var u=function(a){return a instanceof t&&a.constructor===t?a.g:\"type_error:TrustedResourceUrl\"},y=function(){var a={},b=q(new p(l,\"/complete/search\"));if(!v.test(b))throw Error(\"a`\"+b);var c=b.replace(w,function(e,d){if(!Object.prototype.hasOwnProperty.call(a,d))throw Error(\"b`\"+d+\"`\"+b+\"`\"+JSON.stringify(a));e=a[d];return e instanceof p?q(e):encodeURIComponent(String(e))});return x(c)},w=/%{(\\w+)}/g,v=RegExp(\"^((https:)?//[0-9a-z.:[\\\\]-]+/|/[^/\\\\\\\\]|[^:/\\\\\\\\%]+/|[^:/\\\\\\\\%]*[?#]|about:blank#)\",\"i\"),z=/^([^?#]*)(\\?[^#]*)?(#[\\s\\S]*)?/,r={},x=function(a){var b=k();a=b?b.createScriptURL(a):a;return new t(a,r)},A=function(a,b,c){if(null==c)return b;if(\"string\"===typeof c)return c?a+encodeURIComponent(c):\"\";for(var e in c)if(Object.prototype.hasOwnProperty.call(c,e)){var d=c[e];d=Array.isArray(d)?d:[d];for(var n=0;n<d.length;n++){var P=d[n];null!=P&&(b||(b=a),b+=(b.length>a.length?\"&\":\"\")+encodeURIComponent(e)+\"=\"+encodeURIComponent(String(P)))}}return b};var B={},C=function(a,b){this.g=b===B?a:\"\"};C.prototype.toString=function(){return this.g.toString()};var D=function(a){var b=k();a=b?b.createHTML(a):a;return new C(a,B)};function E(a,b){if(void 0!==a.tagName){if(\"script\"===a.tagName.toLowerCase())throw Error(\"c\");if(\"style\"===a.tagName.toLowerCase())throw Error(\"d\");}a.innerHTML=b instanceof C&&b.constructor===C?b.g:\"type_error:SafeHtml\"};var F=document.querySelector(\".l\"),G=document.querySelector(\"#sf\"),H=G.querySelector(\".sbc\"),I=G.querySelector(\"[type=text]\"),J=G.querySelector(\"[type=submit]\"),K=G.querySelector(\".sc\"),L=G.querySelector(\".x\"),M=I.value,N=[],O=-1,Q=M,R,S,T;M||(L&&(L.style.display=\"none\"),U(!1));function U(a){if(H.classList.contains(\"esbc\")){var b=H.classList.contains(\"chsbc\"),c=H.classList.contains(\"rtlsbc\");a&&(K.style.display=\"block\",b?(G.style.borderRadius=\"20px 20px 0 0\",K.style.borderBottom=\"1px solid #DFE1E5\",J.style.borderRadius=c?\"20px 0 0 0\":\"0 20px 0 0\"):H.style.borderRadius=c?\"0 8px 0 0\":\"8px 0 0 0\");a||(K.style.display=\"none\",b?(G.style.borderRadius=\"20px\",K.style.borderBottom=\"none\",J.style.borderRadius=c?\"20px 0 0 20px\":\"0 20px 20px 0\"):H.style.borderRadius=c?\"0 8px 8px 0\":\"8px 0 0 8px\")}}function V(){G.querySelector(\"[name=oq]\").value=Q;G.querySelector(\"[name=aqs]\").value=\"heirloom-srp.\"+(0<=O?O:\"\")+\".\"+(0<N.length?\"0l\"+N.length:\"\")}\n",
              "function W(){R=null;if(S){var a={client:\"heirloom-srp\",hl:hl,json:\"t\",callback:\"hS\",q:S};\"undefined\"!==typeof ds&&ds&&(a.ds=ds);var b=document;var c=\"SCRIPT\";\"application/xhtml+xml\"===b.contentType&&(c=c.toLowerCase());c=b.createElement(c);b=y();b=z.exec(u(b).toString());var e=b[3]||\"\";a=x(b[1]+A(\"?\",b[2]||\"\",a)+A(\"#\",e));c.src=u(a);var d,n;(d=(a=null==(n=(d=(c.ownerDocument&&c.ownerDocument.defaultView||window).document).querySelector)?void 0:n.call(d,\"script[nonce]\"))?a.nonce||a.getAttribute(\"nonce\")||\n",
              "\"\":\"\")&&c.setAttribute(\"nonce\",d);document.body.appendChild(c);S=null;R=setTimeout(W,500)}}function X(){for(;K.firstChild;)K.removeChild(K.firstChild);N=[];O=-1;U(!1)}function Y(){var a=K.querySelector(\".scs\");a&&(a.className=\"\");0<=O?(a=K.childNodes[O],a.className=\"scs\",M=a.textContent):M=Q;I.value=M}I.addEventListener(\"focus\",function(){F&&(F.style.display=\"none\")},!1);I.addEventListener(\"blur\",function(){X();F&&(F.style.display=\"\")},!1);I.addEventListener(\"keyup\",function(a){M=I.value;T=!1;13===a.which?V():27===a.which?(X(),F&&(F.style.display=\"\"),M=Q,I.value=M):40===a.which?(O++,O>=N.length&&(O=-1),Y()):38===a.which?(O--,-1>O&&(O=N.length-1),Y()):(a=M)?(L&&(L.style.display=\"\"),S=a,R||W(),Q=a):(L&&(L.style.display=\"none\"),U(!1),X(),Q=\"\",T=!0)},!1);J.addEventListener(\"click\",V,!1);L.addEventListener(\"click\",function(){I.value=\"\";L.style.display=\"none\";U(!1)},!1);H.addEventListener(\"click\",function(){I.focus()},!1);window.hS=function(a){if(!T){X();0===a[1].length&&U(!1);for(var b=0;b<a[1].length;b++){var c=a[1][b][0],e=document.createElement(\"div\");E(e,D(c));e.addEventListener(\"mousedown\",function(d){d.preventDefault();return!1},!1);c=c.replace(/<\\/?b>/g,\"\");e.addEventListener(\"click\",function(d){return function(){O=d;V();Y();X();G.submit()}}(b),!1);e.addEventListener(\"mouseover\",function(d){return function(){O!==d&&(O=d,Y())}}(b),!1);K.appendChild(e);U(!0);N.push(c)}}};}).call(this);})();(function(){\n",
              "function b(a){for(a=a.target||a.srcElement;a&&\"A\"!==a.nodeName;)a=a.parentElement;a&&(a.href||\"\").match(/\\/search.*[?&]tbm=isch/)&&(a.href+=\"&biw=\"+document.documentElement.clientWidth,a.href+=\"&bih=\"+document.documentElement.clientHeight)}document.addEventListener(\"click\",b,!1);document.addEventListener(\"touchStart\",b,!1);}).call(this);</script></div><!-- cctlcm 5 cctlcm --><textarea class=\"csi\" name=\"csi\" style=\"display:none\"></textarea><script nonce=\"_dZztetCjYLzOYfISKKTuw\">(function(){var e='vcBAY_mcC5fL2roP2fiKmAg';var sn='web';var timl=false;var gecoh=false;(function(){\n",
              "function y(a){var b=gecoh;if(!a||z(a))return 0;if(!a.getBoundingClientRect)return 1;var c=function(d){return d.getBoundingClientRect()};return A(a,c,b)?0:K(a,c)}function A(a,b,c){a:{for(var d=a;d&&null!==d;d=d.parentElement)if(\"hidden\"===d.style.overflow||c&&\"G-EXPANDABLE-CONTENT\"===d.tagName&&\"hidden\"===getComputedStyle(d).getPropertyValue(\"overflow\")){c=d;break a}c=null}if(!c)return!1;a=b(a);b=b(c);return a.bottom<b.top||a.top>=b.bottom||a.right<b.left||a.left>=b.right}\n",
              "function z(a){return\"none\"===a.style.display?!0:document.defaultView&&document.defaultView.getComputedStyle?(a=document.defaultView.getComputedStyle(a),!!a&&(\"hidden\"===a.visibility||\"0px\"===a.height&&\"0px\"===a.width)):!1}\n",
              "function K(a,b){var c=b(a);a=c.left+window.pageXOffset;b=c.top+window.pageYOffset;var d=c.width;c=c.height;var g=0;if(0>=c&&0>=d)return g;var p=window.innerHeight||document.documentElement.clientHeight;0>b+c?g=2:b>=p&&(g=4);if(0>a+d||a>=(window.innerWidth||document.documentElement.clientWidth))g|=8;g||(g=1,b+c>p&&(g|=4));return g};var L=e,M=sn,N=\"undefined\"===typeof de?!0:!1!==de,O=[];function P(a,b,c){a=\"/gen_204?atyp=csi&s=\"+(M||\"web\")+\"&t=\"+a+(\"&lite=1&ei=\"+L+\"&conn=\"+(window.navigator&&window.navigator.connection?window.navigator.connection.type:-1)+b);b=\"&rt=\";for(var d in c)a+=\"\"+b+d+\".\"+c[d],b=\",\";return a}function Q(a){a={prt:a};window.wsrt&&(a.wsrt=window.wsrt);return a}function R(a){window.ping?window.ping(a):(new Image).src=a}\n",
              "(function(){for(var a=(new Date).getTime()-window.start,b=Q(a),c=0,d=0,g=0,p=document.getElementsByTagName(\"img\"),q=N?\"&biw=\"+window.innerWidth+\"&bih=\"+window.innerHeight:\"\",S=function(h,r){h.onload=function(){d=(new Date).getTime()-window.start;r&&++u==g&&(c=d,B());h.onload=null}},B=function(){q+=\"&ima=\"+g;b.aft=c;R(P(\"aft\",q,b))},u=0,T=0,f=void 0;f=p[T++];){var t=y(f),n=!!(t&1);n&&++g;var l=f.hasAttribute(\"data-ilite\"),v=f.hasAttribute(\"data-deferred\")||l,C=f.getAttribute(\"data-src\")||f.getAttribute(\"data-lzysrc\"),D=!v&&C;O.push([t,v,D,google.ldi&&f.id&&google.ldi[f.id]||l&&C]);l=(t=f.complete&&(l||!v&&!(n&&D)))&&Number(f.getAttribute(\"data-iml\"))||0;t&&l?(n&&++u,l&&(f=l-window.start,n&&(c=Math.max(c,f)),d=Math.max(d,f))):S(f,n)}c||(c=a);d||(d=c);u==g&&B();google.rglh&&google.rglh();window.addEventListener(\"load\",function(){window.setTimeout(function(){b.ol=(new Date).getTime()-window.start;timl&&(b.iml=d);var h=window.performance&&window.performance.timing;h&&(b.rqst=h.responseEnd-h.requestStart,b.rspt=h.responseEnd-\n",
              "h.responseStart);for(var r=h=0,E=0,F=0,G=0,H=0,U=0,k;k=O[U++];){var m=k[0],w=k[1],I=k[2];k=k[3];var V=0==m,x=m&8,J=m&4;(m=1==m||2==m||x&&!J)&&!x&&(w&&!k||++E,I&&++H);w&&(m&&k&&++h,J&&!k&&++r);V||x?I||++G:w||++F}q+=\"&ime=\"+E+\"&imel=\"+H+(\"&imex=\"+F+\"&imeh=\"+G)+(\"&imea=\"+h+\"&imeb=\"+r);R(P(\"all\",q,b))},0)},!1)})();}).call(this);})();</script><script nonce=\"_dZztetCjYLzOYfISKKTuw\">(function(){var e='vcBAY_mcC5fL2roP2fiKmAg';(function(){\n",
              "var a=e;2===(window.performance&&window.performance.navigation&&window.performance.navigation.type)&&window.ping(\"/gen_204?ct=backbutton&ei=\"+a);}).call(this);})();(function(){\n",
              "var b=[function(){google.tick&&google.tick(\"load\",\"dcl\")}];google.dclc=function(a){b.length?b.push(a):a()};function c(){for(var a=b.shift();a;)a(),a=b.shift()}window.addEventListener?(document.addEventListener(\"DOMContentLoaded\",c,!1),window.addEventListener(\"load\",c,!1)):window.attachEvent&&window.attachEvent(\"onload\",c);}).call(this);\n",
              "window.jsl=window.jsl||{};window.jsl.dh=function(a,b,f){try{var g=document.getElementById(a);if(g)g.innerHTML=b,f&&f();else{var c={id:a,script:String(!!f),milestone:String(google.jslm||0)};google.jsla&&(c.async=google.jsla);var h=a.indexOf(\"_\"),d=0<h?a.substring(0,h):\"\",k=document.createElement(\"div\");k.innerHTML=b;var e=k.children[0];if(e&&(c.tag=e.tagName,c[\"class\"]=String(e.className||null),c.name=String(e.getAttribute(\"jsname\")),d)){a=[];var l=document.querySelectorAll('[id^=\"'+d+'_\"]');for(b=0;b<l.length;++b)a.push(l[b].id);c.ids=a.join(\",\")}google.ml(Error(d?\"Missing ID with prefix \"+d:\"Missing ID\"),!1,c)}}catch(m){google.ml(m,!0,{\"jsl.dh\":!0})}};(function(){var x=false;\n",
              "google.jslm=x?2:1;})();(function(){(function(){google.csct={};google.csct.ps='AOvVaw3CmXJ7mrSd4hSzQb7sD0Q6\\x26ust\\x3d1665274429224850';})();})();(function(){(function(){google.csct.rd=true;})();})();(function(){(function(){google.csct.rl=true;})();})();google.drty&&google.drty(undefined,true);</script></body></html>"
            ]
          },
          "metadata": {},
          "execution_count": 36
        }
      ]
    },
    {
      "cell_type": "code",
      "source": [
        "soup.head"
      ],
      "metadata": {
        "colab": {
          "base_uri": "https://localhost:8080/"
        },
        "id": "a_1dvfoE543D",
        "outputId": "7525fe0a-98db-4d7f-d5d2-324dc322a697"
      },
      "execution_count": 37,
      "outputs": [
        {
          "output_type": "execute_result",
          "data": {
            "text/plain": [
              "<head><meta charset=\"utf-8\"/><meta content=\"/images/branding/googleg/1x/googleg_standard_color_128dp.png\" itemprop=\"image\"/><title>aviação AND brasil AND america AND destinos - Google 搜尋</title><script nonce=\"_dZztetCjYLzOYfISKKTuw\">(function(){\n",
              "document.documentElement.addEventListener(\"submit\",function(b){var a;if(a=b.target){var c=a.getAttribute(\"data-submitfalse\");a=\"1\"===c||\"q\"===c&&!a.elements.q.value?!0:!1}else a=!1;a&&(b.preventDefault(),b.stopPropagation())},!0);document.documentElement.addEventListener(\"click\",function(b){var a;a:{for(a=b.target;a&&a!==document.documentElement;a=a.parentElement)if(\"A\"===a.tagName){a=\"1\"===a.getAttribute(\"data-nohref\");break a}a=!1}a&&b.preventDefault()},!0);}).call(this);(function(){\n",
              "var a=window.performance;window.start=Date.now();a:{var b=window;if(a){var c=a.timing;if(c){var d=c.navigationStart,f=c.responseStart;if(f>d&&f<=window.start){window.start=f;b.wsrt=f-d;break a}}a.now&&(b.wsrt=Math.floor(a.now()))}}window.google=window.google||{};var h=function(g){g&&g.target.setAttribute(\"data-iml\",Date.now())};document.documentElement.addEventListener(\"load\",h,!0);google.rglh=function(){document.documentElement.removeEventListener(\"load\",h,!0)};}).call(this);(function(){window._skwEvts=[];})();(function(){window.google.erd={jsr:1,bv:1667,de:true};})();(function(){var sdo=false;var mei=10;\n",
              "var h=this||self;var k,l=null!=(k=h.mei)?k:1,n,p=null!=(n=h.sdo)?n:!0,q=0,r,t=google.erd,v=t.jsr;google.ml=function(a,b,d,m,e){e=void 0===e?2:e;b&&(r=a&&a.message);if(google.dl)return google.dl(a,e,d),null;if(0>v){window.console&&console.error(a,d);if(-2===v)throw a;b=!1}else b=!a||!a.message||\"Error loading script\"===a.message||q>=l&&!m?!1:!0;if(!b)return null;q++;d=d||{};b=encodeURIComponent;var c=\"/gen_204?atyp=i&ei=\"+b(google.kEI);google.kEXPI&&(c+=\"&jexpid=\"+b(google.kEXPI));c+=\"&srcpg=\"+b(google.sn)+\"&jsr=\"+b(t.jsr)+\"&bver=\"+b(t.bv);var f=a.lineNumber;void 0!==f&&(c+=\"&line=\"+f);var g=\n",
              "a.fileName;g&&(0<g.indexOf(\"-extension:/\")&&(e=3),c+=\"&script=\"+b(g),f&&g===window.location.href&&(f=document.documentElement.outerHTML.split(\"\\n\")[f],c+=\"&cad=\"+b(f?f.substring(0,300):\"No script found.\")));c+=\"&jsel=\"+e;for(var u in d)c+=\"&\",c+=b(u),c+=\"=\",c+=b(d[u]);c=c+\"&emsg=\"+b(a.name+\": \"+a.message);c=c+\"&jsst=\"+b(a.stack||\"N/A\");12288<=c.length&&(c=c.substr(0,12288));a=c;m||google.log(0,\"\",a);return a};window.onerror=function(a,b,d,m,e){r!==a&&(a=e instanceof Error?e:Error(a),void 0===d||\"lineNumber\"in a||(a.lineNumber=d),void 0===b||\"fileName\"in a||(a.fileName=b),google.ml(a,!1,void 0,!1,\"SyntaxError\"===a.name||\"SyntaxError\"===a.message.substring(0,11)||-1!==a.message.indexOf(\"Script error\")?2:0));r=null;p&&q>=l&&(window.onerror=null)};})();(function(){\n",
              "var c=[],e=0;window.ping=function(b){-1==b.indexOf(\"&zx\")&&(b+=\"&zx=\"+Date.now());var a=new Image,d=e++;c[d]=a;a.onerror=a.onload=a.onabort=function(){delete c[d]};a.src=b};}).call(this);</script><style>a{color:#1a0dab;text-decoration:none;tap-highlight-color:rgba(0,0,0,.10)}a:visited{color:#4b11a8}a:hover{text-decoration:underline}img{border:0}html{font-family:arial,sans-serif;font-size:14px;line-height:20px;text-size-adjust:100%;color:#3c4043;word-wrap:break-word;background-color:#fff}.bRsWnc{background-color:#fff;border-top:1px solid #dadce0;height:39px;overflow:hidden}.N6RWV{height:51px;overflow-scrolling:touch;overflow-x:auto;overflow-y:hidden}.Uv67qb{box-pack:justify;font-size:12px;line-height:37px;justify-content:space-between;justify-content:space-between}.Uv67qb a,.Uv67qb span{color:#70757a;display:block;flex:none;padding:0 16px;text-align:center;text-transform:uppercase;}span.OXXup{border-bottom:2px solid #4285f4;color:#4285f4;font-weight:bold}a.eZt8xd:visited{color:#70757a}.FElbsf{border-left:1px solid rgba(0,0,0,.12)}header article{overflow:visible}.Pg70bf{height:39px;display:box;display:flex;display:flex;width:100%}.H0PQec{position:relative;flex:1}.sbc{display:flex;width:100%}.Pg70bf input{margin:2px 4px 2px 8px;}.x{width:26px;color:#70757a;font:27px/38px arial, sans-serif;line-height:40px;}#qdClwb{flex:0 0 auto;width:39px;height:39px;border-bottom:0;padding:0;border-top-right-radius:8px;background-color:#1a73e8;border:1px solid #1558d6;background-image:url(data:image/gif;base64,R0lGODdhJAAjAPIHAODr/nCk+MPZ/FmV96zK+/7+/5K5+kqL9iwAAAAAJAAjAEADani63P4wykmbKcQRXDscQAEMXmmeaLQVLCukzyC09AjfeK7v/MAajACLhPMVAgwjsUcEiZa8xgAYrVqv2Kx2iwsIAAABknfBBAKrTE4IcMyot8ur8datqIbQfJdnAfo2WE6BV05wXIiJigkAOw==);}.sc{font-size:16px;position:absolute;top:39px;left:0;right:0;box-shadow:0 2px 5px rgba(0,0,0,.2);z-index:2;background-color:#fff}.sc>div{padding:10px 10px;padding-left:16px;padding-left:14px;border-top:1px solid #dfe1e5;}.scs{background-color:#fafafa;}.noHIxc{display:block;font-size:16px;padding:0 0 0 8px;flex:1;height:35px;outline:none;border:none;width:100%;-webkit-tap-highlight-color:rgba(0,0,0,0);overflow:hidden;}.sbc input[type=text]{background:none}.bz1lBb{background-color:#fff;border-radius:8px 8px 0 0;box-shadow:0 0 0 1px #dfe1e5;margin-top:24px;}.KP7LCb{border-radius:0 0 8px 8px;box-shadow:0px 1px 0px 1px #dfe1e5;margin-bottom:30px;overflow:hidden}html{background-color:#fff}body{margin:0 auto 0 156px;max-width:652px;min-width:652px;padding:0 8px}.cOl4Id{letter-spacing:-1px;text-align:center;font:22pt Futura, Arial, sans-serif;height:37px;font-smoothing:antialiased;padding:32px 28px 0 24px;position:absolute;left:0;top:0}.cOl4Id span{display:inline-block}.V6gwVd{color:#4285f4}.iWkuvd{color:#ea4335}.cDrQ7{color:#fcc934}.ntlR9{color:#34a853}.tJ3Myc{-webkit-transform:rotate(-20deg);position:relative;left:-1px;display:inline-block}footer{text-align:center;margin-top:18px}footer a,footer a:visited,.smiUbb{color:#70757a}.xeDNfc{margin:0 13px;white-space:nowrap}#EOlPnc{margin-top:36px}#EOlPnc>div{margin:20px}.Srfpq{color:#70757a}</style></head>"
            ]
          },
          "metadata": {},
          "execution_count": 37
        }
      ]
    },
    {
      "cell_type": "code",
      "source": [
        "soup.title"
      ],
      "metadata": {
        "colab": {
          "base_uri": "https://localhost:8080/"
        },
        "id": "0WFJJASZ6C6y",
        "outputId": "2fc815ca-9604-4d4b-e298-b098cbfb8ee0"
      },
      "execution_count": 38,
      "outputs": [
        {
          "output_type": "execute_result",
          "data": {
            "text/plain": [
              "<title>aviação AND brasil AND america AND destinos - Google 搜尋</title>"
            ]
          },
          "metadata": {},
          "execution_count": 38
        }
      ]
    },
    {
      "cell_type": "code",
      "source": [
        "head_tag = soup.head"
      ],
      "metadata": {
        "id": "iwTHZzIA6DxR"
      },
      "execution_count": 39,
      "outputs": []
    },
    {
      "cell_type": "code",
      "source": [
        "head_tag.contents"
      ],
      "metadata": {
        "colab": {
          "base_uri": "https://localhost:8080/"
        },
        "id": "Jy67P9Ta6G5H",
        "outputId": "4f5914b6-7c1c-48f7-8300-b284477351ca"
      },
      "execution_count": 40,
      "outputs": [
        {
          "output_type": "execute_result",
          "data": {
            "text/plain": [
              "[<meta charset=\"utf-8\"/>,\n",
              " <meta content=\"/images/branding/googleg/1x/googleg_standard_color_128dp.png\" itemprop=\"image\"/>,\n",
              " <title>aviação AND brasil AND america AND destinos - Google 搜尋</title>,\n",
              " <script nonce=\"_dZztetCjYLzOYfISKKTuw\">(function(){\n",
              " document.documentElement.addEventListener(\"submit\",function(b){var a;if(a=b.target){var c=a.getAttribute(\"data-submitfalse\");a=\"1\"===c||\"q\"===c&&!a.elements.q.value?!0:!1}else a=!1;a&&(b.preventDefault(),b.stopPropagation())},!0);document.documentElement.addEventListener(\"click\",function(b){var a;a:{for(a=b.target;a&&a!==document.documentElement;a=a.parentElement)if(\"A\"===a.tagName){a=\"1\"===a.getAttribute(\"data-nohref\");break a}a=!1}a&&b.preventDefault()},!0);}).call(this);(function(){\n",
              " var a=window.performance;window.start=Date.now();a:{var b=window;if(a){var c=a.timing;if(c){var d=c.navigationStart,f=c.responseStart;if(f>d&&f<=window.start){window.start=f;b.wsrt=f-d;break a}}a.now&&(b.wsrt=Math.floor(a.now()))}}window.google=window.google||{};var h=function(g){g&&g.target.setAttribute(\"data-iml\",Date.now())};document.documentElement.addEventListener(\"load\",h,!0);google.rglh=function(){document.documentElement.removeEventListener(\"load\",h,!0)};}).call(this);(function(){window._skwEvts=[];})();(function(){window.google.erd={jsr:1,bv:1667,de:true};})();(function(){var sdo=false;var mei=10;\n",
              " var h=this||self;var k,l=null!=(k=h.mei)?k:1,n,p=null!=(n=h.sdo)?n:!0,q=0,r,t=google.erd,v=t.jsr;google.ml=function(a,b,d,m,e){e=void 0===e?2:e;b&&(r=a&&a.message);if(google.dl)return google.dl(a,e,d),null;if(0>v){window.console&&console.error(a,d);if(-2===v)throw a;b=!1}else b=!a||!a.message||\"Error loading script\"===a.message||q>=l&&!m?!1:!0;if(!b)return null;q++;d=d||{};b=encodeURIComponent;var c=\"/gen_204?atyp=i&ei=\"+b(google.kEI);google.kEXPI&&(c+=\"&jexpid=\"+b(google.kEXPI));c+=\"&srcpg=\"+b(google.sn)+\"&jsr=\"+b(t.jsr)+\"&bver=\"+b(t.bv);var f=a.lineNumber;void 0!==f&&(c+=\"&line=\"+f);var g=\n",
              " a.fileName;g&&(0<g.indexOf(\"-extension:/\")&&(e=3),c+=\"&script=\"+b(g),f&&g===window.location.href&&(f=document.documentElement.outerHTML.split(\"\\n\")[f],c+=\"&cad=\"+b(f?f.substring(0,300):\"No script found.\")));c+=\"&jsel=\"+e;for(var u in d)c+=\"&\",c+=b(u),c+=\"=\",c+=b(d[u]);c=c+\"&emsg=\"+b(a.name+\": \"+a.message);c=c+\"&jsst=\"+b(a.stack||\"N/A\");12288<=c.length&&(c=c.substr(0,12288));a=c;m||google.log(0,\"\",a);return a};window.onerror=function(a,b,d,m,e){r!==a&&(a=e instanceof Error?e:Error(a),void 0===d||\"lineNumber\"in a||(a.lineNumber=d),void 0===b||\"fileName\"in a||(a.fileName=b),google.ml(a,!1,void 0,!1,\"SyntaxError\"===a.name||\"SyntaxError\"===a.message.substring(0,11)||-1!==a.message.indexOf(\"Script error\")?2:0));r=null;p&&q>=l&&(window.onerror=null)};})();(function(){\n",
              " var c=[],e=0;window.ping=function(b){-1==b.indexOf(\"&zx\")&&(b+=\"&zx=\"+Date.now());var a=new Image,d=e++;c[d]=a;a.onerror=a.onload=a.onabort=function(){delete c[d]};a.src=b};}).call(this);</script>,\n",
              " <style>a{color:#1a0dab;text-decoration:none;tap-highlight-color:rgba(0,0,0,.10)}a:visited{color:#4b11a8}a:hover{text-decoration:underline}img{border:0}html{font-family:arial,sans-serif;font-size:14px;line-height:20px;text-size-adjust:100%;color:#3c4043;word-wrap:break-word;background-color:#fff}.bRsWnc{background-color:#fff;border-top:1px solid #dadce0;height:39px;overflow:hidden}.N6RWV{height:51px;overflow-scrolling:touch;overflow-x:auto;overflow-y:hidden}.Uv67qb{box-pack:justify;font-size:12px;line-height:37px;justify-content:space-between;justify-content:space-between}.Uv67qb a,.Uv67qb span{color:#70757a;display:block;flex:none;padding:0 16px;text-align:center;text-transform:uppercase;}span.OXXup{border-bottom:2px solid #4285f4;color:#4285f4;font-weight:bold}a.eZt8xd:visited{color:#70757a}.FElbsf{border-left:1px solid rgba(0,0,0,.12)}header article{overflow:visible}.Pg70bf{height:39px;display:box;display:flex;display:flex;width:100%}.H0PQec{position:relative;flex:1}.sbc{display:flex;width:100%}.Pg70bf input{margin:2px 4px 2px 8px;}.x{width:26px;color:#70757a;font:27px/38px arial, sans-serif;line-height:40px;}#qdClwb{flex:0 0 auto;width:39px;height:39px;border-bottom:0;padding:0;border-top-right-radius:8px;background-color:#1a73e8;border:1px solid #1558d6;background-image:url(data:image/gif;base64,R0lGODdhJAAjAPIHAODr/nCk+MPZ/FmV96zK+/7+/5K5+kqL9iwAAAAAJAAjAEADani63P4wykmbKcQRXDscQAEMXmmeaLQVLCukzyC09AjfeK7v/MAajACLhPMVAgwjsUcEiZa8xgAYrVqv2Kx2iwsIAAABknfBBAKrTE4IcMyot8ur8datqIbQfJdnAfo2WE6BV05wXIiJigkAOw==);}.sc{font-size:16px;position:absolute;top:39px;left:0;right:0;box-shadow:0 2px 5px rgba(0,0,0,.2);z-index:2;background-color:#fff}.sc>div{padding:10px 10px;padding-left:16px;padding-left:14px;border-top:1px solid #dfe1e5;}.scs{background-color:#fafafa;}.noHIxc{display:block;font-size:16px;padding:0 0 0 8px;flex:1;height:35px;outline:none;border:none;width:100%;-webkit-tap-highlight-color:rgba(0,0,0,0);overflow:hidden;}.sbc input[type=text]{background:none}.bz1lBb{background-color:#fff;border-radius:8px 8px 0 0;box-shadow:0 0 0 1px #dfe1e5;margin-top:24px;}.KP7LCb{border-radius:0 0 8px 8px;box-shadow:0px 1px 0px 1px #dfe1e5;margin-bottom:30px;overflow:hidden}html{background-color:#fff}body{margin:0 auto 0 156px;max-width:652px;min-width:652px;padding:0 8px}.cOl4Id{letter-spacing:-1px;text-align:center;font:22pt Futura, Arial, sans-serif;height:37px;font-smoothing:antialiased;padding:32px 28px 0 24px;position:absolute;left:0;top:0}.cOl4Id span{display:inline-block}.V6gwVd{color:#4285f4}.iWkuvd{color:#ea4335}.cDrQ7{color:#fcc934}.ntlR9{color:#34a853}.tJ3Myc{-webkit-transform:rotate(-20deg);position:relative;left:-1px;display:inline-block}footer{text-align:center;margin-top:18px}footer a,footer a:visited,.smiUbb{color:#70757a}.xeDNfc{margin:0 13px;white-space:nowrap}#EOlPnc{margin-top:36px}#EOlPnc>div{margin:20px}.Srfpq{color:#70757a}</style>]"
            ]
          },
          "metadata": {},
          "execution_count": 40
        }
      ]
    },
    {
      "cell_type": "code",
      "source": [
        "title_tag = head_tag.contents[2]"
      ],
      "metadata": {
        "id": "An12GrND6R8z"
      },
      "execution_count": 41,
      "outputs": []
    },
    {
      "cell_type": "code",
      "source": [
        "title_tag"
      ],
      "metadata": {
        "colab": {
          "base_uri": "https://localhost:8080/"
        },
        "id": "zwjEH7N56Sgr",
        "outputId": "985f2e91-4d16-4cef-aa93-f15918ac95fc"
      },
      "execution_count": 42,
      "outputs": [
        {
          "output_type": "execute_result",
          "data": {
            "text/plain": [
              "<title>aviação AND brasil AND america AND destinos - Google 搜尋</title>"
            ]
          },
          "metadata": {},
          "execution_count": 42
        }
      ]
    },
    {
      "cell_type": "code",
      "source": [
        "title_tag.contents"
      ],
      "metadata": {
        "colab": {
          "base_uri": "https://localhost:8080/"
        },
        "id": "bHRwf_gF6VhS",
        "outputId": "854ddc69-aa49-4bc1-f881-b201da36d5d5"
      },
      "execution_count": 43,
      "outputs": [
        {
          "output_type": "execute_result",
          "data": {
            "text/plain": [
              "['aviação AND brasil AND america AND destinos - Google 搜尋']"
            ]
          },
          "metadata": {},
          "execution_count": 43
        }
      ]
    },
    {
      "cell_type": "code",
      "source": [
        "for child in title_tag.children:\n",
        "    print(child)"
      ],
      "metadata": {
        "colab": {
          "base_uri": "https://localhost:8080/"
        },
        "id": "kf5mnybc6Yqq",
        "outputId": "c3417215-5e37-4821-cb94-b7d623e50783"
      },
      "execution_count": 44,
      "outputs": [
        {
          "output_type": "stream",
          "name": "stdout",
          "text": [
            "aviação AND brasil AND america AND destinos - Google 搜尋\n"
          ]
        }
      ]
    },
    {
      "cell_type": "code",
      "source": [
        "#primeiro_paragrafo=soup.find('p')"
      ],
      "metadata": {
        "id": "US_nGVvxkADp"
      },
      "execution_count": 45,
      "outputs": []
    },
    {
      "cell_type": "code",
      "source": [
        "#primeiro_paragrafo"
      ],
      "metadata": {
        "id": "u5g_RwUR6roF"
      },
      "execution_count": 46,
      "outputs": []
    },
    {
      "cell_type": "code",
      "source": [
        "#primeiro_paragrafo.text"
      ],
      "metadata": {
        "id": "zcbhsXF7kWKx"
      },
      "execution_count": 47,
      "outputs": []
    },
    {
      "cell_type": "code",
      "source": [
        "#todos_paragrafos=soup.find_all('p')\n",
        "#todos_paragrafos"
      ],
      "metadata": {
        "id": "dhwV9W1Ykuty"
      },
      "execution_count": 48,
      "outputs": []
    },
    {
      "cell_type": "code",
      "source": [
        "#todos_paragrafos[1]"
      ],
      "metadata": {
        "id": "FqlQ9auck5e_"
      },
      "execution_count": 49,
      "outputs": []
    },
    {
      "cell_type": "code",
      "source": [
        "todos_links=soup.find_all('a')\n",
        "todos_links"
      ],
      "metadata": {
        "colab": {
          "base_uri": "https://localhost:8080/"
        },
        "id": "sOxN2AYolCJP",
        "outputId": "6b2984e4-9579-49e8-946d-fe49001f9d57"
      },
      "execution_count": 50,
      "outputs": [
        {
          "output_type": "execute_result",
          "data": {
            "text/plain": [
              "[<a href=\"/?sa=X&amp;ved=0ahUKEwi579rnrM_6AhWXpVYBHVm8AoM4ChA7CAI\"><span class=\"V6gwVd\">G</span><span class=\"iWkuvd\">o</span><span class=\"cDrQ7\">o</span><span class=\"V6gwVd\">g</span><span class=\"ntlR9\">l</span><span class=\"iWkuvd tJ3Myc\">e</span></a>,\n",
              " <a href=\"/search?q=avia%C3%A7%C3%A3o+AND+brasil+AND+america+AND+destinos&amp;start=10&amp;tbs=qdr:w&amp;sa=N&amp;biw=1536&amp;bih=718&amp;ie=UTF-8&amp;gbv=1&amp;sei=vcBAY_mcC5fL2roP2fiKmAg\">這裡</a>,\n",
              " <a class=\"eZt8xd\" href=\"/search?q=avia%C3%A7%C3%A3o+AND+brasil+AND+america+AND+destinos&amp;biw=1536&amp;bih=718&amp;ie=UTF-8&amp;source=lnms&amp;tbm=nws&amp;tbs=qdr:w&amp;sa=X&amp;ved=0ahUKEwi579rnrM_6AhWXpVYBHVm8AoM4ChD8BQgGKAE\">新聞</a>,\n",
              " <a class=\"eZt8xd\" href=\"/search?q=avia%C3%A7%C3%A3o+AND+brasil+AND+america+AND+destinos&amp;biw=1536&amp;bih=718&amp;ie=UTF-8&amp;source=lnms&amp;tbm=isch&amp;tbs=qdr:w&amp;sa=X&amp;ved=0ahUKEwi579rnrM_6AhWXpVYBHVm8AoM4ChD8BQgHKAI\">圖片</a>,\n",
              " <a class=\"eZt8xd\" href=\"/search?q=avia%C3%A7%C3%A3o+AND+brasil+AND+america+AND+destinos&amp;biw=1536&amp;bih=718&amp;ie=UTF-8&amp;source=lnms&amp;tbm=vid&amp;tbs=qdr:w&amp;sa=X&amp;ved=0ahUKEwi579rnrM_6AhWXpVYBHVm8AoM4ChD8BQgIKAM\">影片</a>,\n",
              " <a href=\"https://maps.google.com/maps?q=avia%C3%A7%C3%A3o+AND+brasil+AND+america+AND+destinos&amp;sxsrf=ALiCzsZ5Wp-ZLHBN4qxayIhVMrgNzNaPVg:1665187135810&amp;biw=1536&amp;bih=718&amp;dpr=1.25&amp;um=1&amp;ie=UTF-8&amp;sa=X&amp;ved=0ahUKEwi579rnrM_6AhWXpVYBHVm8AoM4ChD8BQgJKAQ\">地圖</a>,\n",
              " <a href=\"/search?q=avia%C3%A7%C3%A3o+AND+brasil+AND+america+AND+destinos&amp;biw=1536&amp;bih=718&amp;ie=UTF-8&amp;source=lnms&amp;tbm=shop&amp;sa=X&amp;ved=0ahUKEwi579rnrM_6AhWXpVYBHVm8AoM4ChD8BQgKKAU\">購物</a>,\n",
              " <a href=\"/search?q=avia%C3%A7%C3%A3o+AND+brasil+AND+america+AND+destinos&amp;biw=1536&amp;bih=718&amp;ie=UTF-8&amp;source=lnms&amp;tbm=bks&amp;sa=X&amp;ved=0ahUKEwi579rnrM_6AhWXpVYBHVm8AoM4ChD8BQgLKAY\">書籍</a>,\n",
              " <a href=\"/advanced_search\" id=\"st-toggle\" role=\"button\" style=\"white-space:nowrap\">搜尋工具</a>,\n",
              " <a href=\"/search?q=avia%C3%A7%C3%A3o+AND+brasil+AND+america+AND+destinos&amp;biw=1536&amp;bih=718&amp;ie=UTF-8&amp;tbs=qdr:w,lr:lang_1zh-CN%7Clang_1zh-TW&amp;source=lnt&amp;lr=lang_zh-CN%7Clang_zh-TW&amp;sa=X&amp;ved=0ahUKEwi579rnrM_6AhWXpVYBHVm8AoM4ChCnBQgN\">搜尋所有中文網頁</a>,\n",
              " <a href=\"/search?q=avia%C3%A7%C3%A3o+AND+brasil+AND+america+AND+destinos&amp;biw=1536&amp;bih=718&amp;ie=UTF-8&amp;tbs=qdr:w,lr:lang_1zh-TW&amp;source=lnt&amp;lr=lang_zh-TW&amp;sa=X&amp;ved=0ahUKEwi579rnrM_6AhWXpVYBHVm8AoM4ChCnBQgO\">搜尋繁體中文網頁</a>,\n",
              " <a href=\"/search?q=avia%C3%A7%C3%A3o+AND+brasil+AND+america+AND+destinos&amp;biw=1536&amp;bih=718&amp;ie=UTF-8&amp;tbas=0&amp;source=lnt&amp;sa=X&amp;ved=0ahUKEwi579rnrM_6AhWXpVYBHVm8AoM4ChCnBQgP\">不限時間</a>,\n",
              " <a href=\"/search?q=avia%C3%A7%C3%A3o+AND+brasil+AND+america+AND+destinos&amp;biw=1536&amp;bih=718&amp;ie=UTF-8&amp;source=lnt&amp;tbs=qdr:h&amp;sa=X&amp;ved=0ahUKEwi579rnrM_6AhWXpVYBHVm8AoM4ChCnBQgQ\"> 過去 1 小時</a>,\n",
              " <a href=\"/search?q=avia%C3%A7%C3%A3o+AND+brasil+AND+america+AND+destinos&amp;biw=1536&amp;bih=718&amp;ie=UTF-8&amp;source=lnt&amp;tbs=qdr:d&amp;sa=X&amp;ved=0ahUKEwi579rnrM_6AhWXpVYBHVm8AoM4ChCnBQgR\"> 過去 24 小時</a>,\n",
              " <a href=\"/search?q=avia%C3%A7%C3%A3o+AND+brasil+AND+america+AND+destinos&amp;biw=1536&amp;bih=718&amp;ie=UTF-8&amp;source=lnt&amp;tbs=qdr:m&amp;sa=X&amp;ved=0ahUKEwi579rnrM_6AhWXpVYBHVm8AoM4ChCnBQgT\"> 過去 1 個月</a>,\n",
              " <a href=\"/search?q=avia%C3%A7%C3%A3o+AND+brasil+AND+america+AND+destinos&amp;biw=1536&amp;bih=718&amp;ie=UTF-8&amp;source=lnt&amp;tbs=qdr:y&amp;sa=X&amp;ved=0ahUKEwi579rnrM_6AhWXpVYBHVm8AoM4ChCnBQgU\"> 過去 1 年</a>,\n",
              " <a href=\"/search?q=avia%C3%A7%C3%A3o+AND+brasil+AND+america+AND+destinos&amp;biw=1536&amp;bih=718&amp;ie=UTF-8&amp;tbs=li:1&amp;source=lnt&amp;sa=X&amp;ved=0ahUKEwi579rnrM_6AhWXpVYBHVm8AoM4ChCnBQgW\">一字不差</a>,\n",
              " <a href=\"/url?q=https://www.melhoresdestinos.com.br/&amp;sa=U&amp;ved=2ahUKEwi579rnrM_6AhWXpVYBHVm8AoM4ChAWegQICBAC&amp;usg=AOvVaw3H4ApswRe92U2t7C3aawJD\"><h3 class=\"zBAuLc l97dzf\"><div class=\"BNeawe vvjwJb AP7Wnd\">Melhores Destinos - Passagens aéreas baratas</div></h3><div class=\"BNeawe UPmit AP7Wnd\">www.melhoresdestinos.com.br</div></a>,\n",
              " <a href=\"/search?sa=N&amp;biw=1536&amp;bih=718&amp;ie=UTF-8&amp;tbs=qdr:w&amp;q=avia%C3%A7%C3%A3o+AND+brasil+AND+%22america%22+AND+destinos&amp;ved=2ahUKEwi579rnrM_6AhWXpVYBHVm8AoM4ChDm3gJ6BAgIEAY\"><span class=\"XLloXe AP7Wnd\">america</span></a>,\n",
              " <a href=\"/url?q=https://jc.ne10.uol.com.br/economia/2022/10/15091704-aeroportos-da-america-latina-mais-perto-do-nivel-pre-pandemia.html&amp;sa=U&amp;ved=2ahUKEwi579rnrM_6AhWXpVYBHVm8AoM4ChAWegQICRAC&amp;usg=AOvVaw0Y3DKlG-LCU6ECNE7apHbL\"><h3 class=\"zBAuLc l97dzf\"><div class=\"BNeawe vvjwJb AP7Wnd\">Aeroportos da América Latina mais perto do nível pré-pandemia</div></h3><div class=\"BNeawe UPmit AP7Wnd\">jc.ne10.uol.com.br › economia › 2022/10 › 15091704-aer...</div></a>,\n",
              " <a href=\"/url?q=https://valor.globo.com/empresas/noticia/2022/10/03/venda-avulsa-de-assento-cria-novo-negocio-para-a-aviacao-executiva.ghtml&amp;sa=U&amp;ved=2ahUKEwi579rnrM_6AhWXpVYBHVm8AoM4ChAWegQIBRAC&amp;usg=AOvVaw3ekENzlwfJiBNgYXfTT6Sm\"><h3 class=\"zBAuLc l97dzf\"><div class=\"BNeawe vvjwJb AP7Wnd\">Venda avulsa de assento cria novo negócio para a aviação executiva</div></h3><div class=\"BNeawe UPmit AP7Wnd\">valor.globo.com › empresas › noticia › 2022/10/03 › venda-avulsa-de-asse...</div></a>,\n",
              " <a href=\"/url?q=https://viagemempauta.com.br/&amp;sa=U&amp;ved=2ahUKEwi579rnrM_6AhWXpVYBHVm8AoM4ChAWegQIARAC&amp;usg=AOvVaw1i3j3BqD6i1J56dcT28_Ej\"><h3 class=\"zBAuLc l97dzf\"><div class=\"BNeawe vvjwJb AP7Wnd\">Viagem em Pauta - Experiências inusitadas em lugares conhecidos</div></h3><div class=\"BNeawe UPmit AP7Wnd\">viagemempauta.com.br</div></a>,\n",
              " <a href=\"/url?q=https://www.kayak.com.br/voos/Brasil-BR0/Brasil-BR0&amp;sa=U&amp;ved=2ahUKEwi579rnrM_6AhWXpVYBHVm8AoM4ChAWegQIAhAC&amp;usg=AOvVaw1oyvlt0DBzBARiu8hf-j1f\"><h3 class=\"zBAuLc l97dzf\"><div class=\"BNeawe vvjwJb AP7Wnd\">Passagens baratas para o Brasil a partir de R$ 228 - KAYAK</div></h3><div class=\"BNeawe UPmit AP7Wnd\">www.kayak.com.br › ... › Todo o mundo › América do Sul</div></a>,\n",
              " <a href=\"/url?q=https://www.copaair.com/pt/web/gs&amp;sa=U&amp;ved=2ahUKEwi579rnrM_6AhWXpVYBHVm8AoM4ChAWegQIAxAC&amp;usg=AOvVaw2MdxWSn8ICb14lBNXReB4n\"><h3 class=\"zBAuLc l97dzf\"><div class=\"BNeawe vvjwJb AP7Wnd\">Passagens Aéreas e Voos baratos para América - Copa Airlines</div></h3><div class=\"BNeawe UPmit AP7Wnd\">www.copaair.com › web</div></a>,\n",
              " <a href=\"/url?q=https://aeromagazine.uol.com.br/tags/eua&amp;sa=U&amp;ved=2ahUKEwi579rnrM_6AhWXpVYBHVm8AoM4ChAWegQIBxAC&amp;usg=AOvVaw3m_oM1ENbQIiP3ScD-8hG0\"><h3 class=\"zBAuLc l97dzf\"><div class=\"BNeawe vvjwJb AP7Wnd\">Busca: EUA - AERO Magazine</div></h3><div class=\"BNeawe UPmit AP7Wnd\">aeromagazine.uol.com.br › tags › eua</div></a>,\n",
              " <a href=\"/url?q=https://www.bloomberglinea.com.br/tags/gol/&amp;sa=U&amp;ved=2ahUKEwi579rnrM_6AhWXpVYBHVm8AoM4ChAWegQIBhAC&amp;usg=AOvVaw1Ux0sPqjtLPZuuw-zM1VoO\"><h3 class=\"zBAuLc l97dzf\"><div class=\"BNeawe vvjwJb AP7Wnd\">Notícias de Gol - Bloomberg Línea Brasil</div></h3><div class=\"BNeawe UPmit AP7Wnd\">www.bloomberglinea.com.br › tags › gol</div></a>,\n",
              " <a href=\"/url?q=https://www.terra.com.br/amp/economia/dinheiro-em-acao/congonhas-podera-voltar-a-ter-voos-internacionais-diz-secretario-do-ministerio-da-infraestrutura,ffeb86c9432d64c4c9668441bf94ab1dtcx1qsl5.html&amp;sa=U&amp;ved=2ahUKEwi579rnrM_6AhWXpVYBHVm8AoM4ChAWegQIBBAC&amp;usg=AOvVaw0SbBUtdT-m0AIef1EOOSQu\"><h3 class=\"zBAuLc l97dzf\"><div class=\"BNeawe vvjwJb AP7Wnd\">Congonhas poderá voltar a ter voos internacionais, diz secretário do ...</div></h3><div class=\"BNeawe UPmit AP7Wnd\">www.terra.com.br › Economia › Dinheiro em Ação</div></a>,\n",
              " <a href=\"/url?q=https://gooutside.com.br/categoria/viagem/&amp;sa=U&amp;ved=2ahUKEwi579rnrM_6AhWXpVYBHVm8AoM4ChAWegQIABAC&amp;usg=AOvVaw0yYfrfDEi1IWrSqDDwmMfl\"><h3 class=\"zBAuLc l97dzf\"><div class=\"BNeawe vvjwJb AP7Wnd\">Viagem Arquivos - Go Outside</div></h3><div class=\"BNeawe UPmit AP7Wnd\">gooutside.com.br › categoria › viagem</div></a>,\n",
              " <a aria-label=\"上一頁\" class=\"nBDE1b G5eFlf\" href=\"/search?q=avia%C3%A7%C3%A3o+AND+brasil+AND+america+AND+destinos&amp;biw=1536&amp;bih=718&amp;ie=UTF-8&amp;tbs=qdr:w&amp;ei=vcBAY_mcC5fL2roP2fiKmAg&amp;start=0&amp;sa=N\" style=\"text-align:right\"><span class=\"qFvlD\">&lt;</span></a>,\n",
              " <a aria-label=\"下一頁\" class=\"nBDE1b G5eFlf\" href=\"/search?q=avia%C3%A7%C3%A3o+AND+brasil+AND+america+AND+destinos&amp;biw=1536&amp;bih=718&amp;ie=UTF-8&amp;tbs=qdr:w&amp;ei=vcBAY_mcC5fL2roP2fiKmAg&amp;start=20&amp;sa=N\" style=\"text-align:left\"><span class=\"qFvlD\">&gt;</span></a>,\n",
              " <a href=\"/url?q=https://support.google.com/websearch%3Fp%3Dws_settings_location%26hl%3Dzh-TW&amp;sa=U&amp;ved=0ahUKEwi579rnrM_6AhWXpVYBHVm8AoM4ChC3LghN&amp;usg=AOvVaw1rJk5FeNmOxkub4M00ZE-C\">瞭解詳情</a>,\n",
              " <a href=\"/url?q=https://accounts.google.com/ServiceLogin%3Fcontinue%3Dhttps://www.google.com/search%253Fq%253Davia%2525C3%2525A7%2525C3%2525A3o%252BAND%252Bbrasil%252BAND%252Bamerica%252BAND%252Bdestinos%2526tbs%253Dqdr:w%2526sxsrf%253DALiCzsZ5Wp-ZLHBN4qxayIhVMrgNzNaPVg:1665187135810%2526ei%253DP71AY9H_MLby1sQPuZ-dgAE%2526start%253D10%2526sa%253DN%2526ved%253D2ahUKEwiRm9u9qc_6AhU2uZUCHblPBxAQ8tMDegQIARAE%2526biw%253D1536%2526bih%253D718%2526dpr%253D1.25%26hl%3Dzh-TW&amp;sa=U&amp;ved=0ahUKEwi579rnrM_6AhWXpVYBHVm8AoM4ChDGzwIITg&amp;usg=AOvVaw0kC3YTXQP5u6TIHGaCa1ZQ\">登入</a>,\n",
              " <a class=\"xeDNfc\" href=\"https://www.google.com/preferences?hl=zh-TW&amp;fg=1&amp;sa=X&amp;ved=0ahUKEwi579rnrM_6AhWXpVYBHVm8AoM4ChDl9QIITw\">設定</a>,\n",
              " <a class=\"xeDNfc\" href=\"https://policies.google.com/privacy?hl=zh-TW&amp;fg=1\">隱私權</a>,\n",
              " <a class=\"xeDNfc\" href=\"https://policies.google.com/terms?hl=zh-TW&amp;fg=1\">服務條款</a>]"
            ]
          },
          "metadata": {},
          "execution_count": 50
        }
      ]
    },
    {
      "cell_type": "code",
      "source": [
        "titulos=soup.find_all('h3')"
      ],
      "metadata": {
        "id": "mJKuMMYy7UZn"
      },
      "execution_count": 51,
      "outputs": []
    },
    {
      "cell_type": "code",
      "source": [
        "titulos"
      ],
      "metadata": {
        "colab": {
          "base_uri": "https://localhost:8080/"
        },
        "id": "1FfkvXL37VOP",
        "outputId": "7e0b9103-02df-4e4a-cb36-d94148f41331"
      },
      "execution_count": 52,
      "outputs": [
        {
          "output_type": "execute_result",
          "data": {
            "text/plain": [
              "[<h3 class=\"zBAuLc l97dzf\"><div class=\"BNeawe vvjwJb AP7Wnd\">Melhores Destinos - Passagens aéreas baratas</div></h3>,\n",
              " <h3 class=\"zBAuLc l97dzf\"><div class=\"BNeawe vvjwJb AP7Wnd\">Aeroportos da América Latina mais perto do nível pré-pandemia</div></h3>,\n",
              " <h3 class=\"zBAuLc l97dzf\"><div class=\"BNeawe vvjwJb AP7Wnd\">Venda avulsa de assento cria novo negócio para a aviação executiva</div></h3>,\n",
              " <h3 class=\"zBAuLc l97dzf\"><div class=\"BNeawe vvjwJb AP7Wnd\">Viagem em Pauta - Experiências inusitadas em lugares conhecidos</div></h3>,\n",
              " <h3 class=\"zBAuLc l97dzf\"><div class=\"BNeawe vvjwJb AP7Wnd\">Passagens baratas para o Brasil a partir de R$ 228 - KAYAK</div></h3>,\n",
              " <h3 class=\"zBAuLc l97dzf\"><div class=\"BNeawe vvjwJb AP7Wnd\">Passagens Aéreas e Voos baratos para América - Copa Airlines</div></h3>,\n",
              " <h3 class=\"zBAuLc l97dzf\"><div class=\"BNeawe vvjwJb AP7Wnd\">Busca: EUA - AERO Magazine</div></h3>,\n",
              " <h3 class=\"zBAuLc l97dzf\"><div class=\"BNeawe vvjwJb AP7Wnd\">Notícias de Gol - Bloomberg Línea Brasil</div></h3>,\n",
              " <h3 class=\"zBAuLc l97dzf\"><div class=\"BNeawe vvjwJb AP7Wnd\">Congonhas poderá voltar a ter voos internacionais, diz secretário do ...</div></h3>,\n",
              " <h3 class=\"zBAuLc l97dzf\"><div class=\"BNeawe vvjwJb AP7Wnd\">Viagem Arquivos - Go Outside</div></h3>]"
            ]
          },
          "metadata": {},
          "execution_count": 52
        }
      ]
    },
    {
      "cell_type": "code",
      "source": [
        "titulos[0]"
      ],
      "metadata": {
        "colab": {
          "base_uri": "https://localhost:8080/"
        },
        "id": "vSRyJVdP7XUI",
        "outputId": "e6a83ae4-a45d-4dcb-d7ad-8dec082ec201"
      },
      "execution_count": 30,
      "outputs": [
        {
          "output_type": "execute_result",
          "data": {
            "text/plain": [
              "<h3 class=\"zBAuLc l97dzf\"><div class=\"BNeawe vvjwJb AP7Wnd\">Tráfego aéreo global cresce 67% e mais do que dobra na América ...</div></h3>"
            ]
          },
          "metadata": {},
          "execution_count": 30
        }
      ]
    },
    {
      "cell_type": "code",
      "source": [
        "noticias=[]\n",
        "for row in titulos:\n",
        "  dado=row.find_all('div')\n",
        "  noticias.append(dado[0].text)\n",
        "print(noticias)"
      ],
      "metadata": {
        "colab": {
          "base_uri": "https://localhost:8080/"
        },
        "id": "cbs421Jd7orr",
        "outputId": "72f52472-44c9-4b3d-c0da-a566470f5cac"
      },
      "execution_count": 31,
      "outputs": [
        {
          "output_type": "stream",
          "name": "stdout",
          "text": [
            "['Tráfego aéreo global cresce 67% e mais do que dobra na América ...', 'Malha aérea internacional do Brasil está recuperada, diz Embratur', 'Tráfego aéreo na América Latina chega próximo de pré-pandemia', 'Delta e Latam são liberadas para planos de desenvolvimento ...', 'LATAM Brasil anuncia boa recuperação (80%) nas rotas para os EUA', 'KLM terá cinco voos diários para Lisboa e Porto na próxima ...', 'Congonhas pode voltar a ter voos internacionais, diz secretário da ...', 'Aeroporto de Congonhas pode virar \"Aeroparque brasileiro ... - Airway', 'AEROIN | Notícias de Aviação']\n"
          ]
        }
      ]
    },
    {
      "cell_type": "code",
      "source": [
        "dados=pd.DataFrame(noticias, columns=['noticias'])\n",
        "dados #busquei dados a partir da inspeção do html, ferramenta de mineração de dados. "
      ],
      "metadata": {
        "colab": {
          "base_uri": "https://localhost:8080/",
          "height": 301
        },
        "id": "intZs1lN7xU4",
        "outputId": "d86547ae-ac97-46d4-edb2-5249406ab2b9"
      },
      "execution_count": 32,
      "outputs": [
        {
          "output_type": "execute_result",
          "data": {
            "text/plain": [
              "                                            noticias\n",
              "0  Tráfego aéreo global cresce 67% e mais do que ...\n",
              "1  Malha aérea internacional do Brasil está recup...\n",
              "2  Tráfego aéreo na América Latina chega próximo ...\n",
              "3  Delta e Latam são liberadas para planos de des...\n",
              "4  LATAM Brasil anuncia boa recuperação (80%) nas...\n",
              "5  KLM terá cinco voos diários para Lisboa e Port...\n",
              "6  Congonhas pode voltar a ter voos internacionai...\n",
              "7  Aeroporto de Congonhas pode virar \"Aeroparque ...\n",
              "8                       AEROIN | Notícias de Aviação"
            ],
            "text/html": [
              "\n",
              "  <div id=\"df-1eb61fe5-293d-4e06-aa8a-6dc4fd60621f\">\n",
              "    <div class=\"colab-df-container\">\n",
              "      <div>\n",
              "<style scoped>\n",
              "    .dataframe tbody tr th:only-of-type {\n",
              "        vertical-align: middle;\n",
              "    }\n",
              "\n",
              "    .dataframe tbody tr th {\n",
              "        vertical-align: top;\n",
              "    }\n",
              "\n",
              "    .dataframe thead th {\n",
              "        text-align: right;\n",
              "    }\n",
              "</style>\n",
              "<table border=\"1\" class=\"dataframe\">\n",
              "  <thead>\n",
              "    <tr style=\"text-align: right;\">\n",
              "      <th></th>\n",
              "      <th>noticias</th>\n",
              "    </tr>\n",
              "  </thead>\n",
              "  <tbody>\n",
              "    <tr>\n",
              "      <th>0</th>\n",
              "      <td>Tráfego aéreo global cresce 67% e mais do que ...</td>\n",
              "    </tr>\n",
              "    <tr>\n",
              "      <th>1</th>\n",
              "      <td>Malha aérea internacional do Brasil está recup...</td>\n",
              "    </tr>\n",
              "    <tr>\n",
              "      <th>2</th>\n",
              "      <td>Tráfego aéreo na América Latina chega próximo ...</td>\n",
              "    </tr>\n",
              "    <tr>\n",
              "      <th>3</th>\n",
              "      <td>Delta e Latam são liberadas para planos de des...</td>\n",
              "    </tr>\n",
              "    <tr>\n",
              "      <th>4</th>\n",
              "      <td>LATAM Brasil anuncia boa recuperação (80%) nas...</td>\n",
              "    </tr>\n",
              "    <tr>\n",
              "      <th>5</th>\n",
              "      <td>KLM terá cinco voos diários para Lisboa e Port...</td>\n",
              "    </tr>\n",
              "    <tr>\n",
              "      <th>6</th>\n",
              "      <td>Congonhas pode voltar a ter voos internacionai...</td>\n",
              "    </tr>\n",
              "    <tr>\n",
              "      <th>7</th>\n",
              "      <td>Aeroporto de Congonhas pode virar \"Aeroparque ...</td>\n",
              "    </tr>\n",
              "    <tr>\n",
              "      <th>8</th>\n",
              "      <td>AEROIN | Notícias de Aviação</td>\n",
              "    </tr>\n",
              "  </tbody>\n",
              "</table>\n",
              "</div>\n",
              "      <button class=\"colab-df-convert\" onclick=\"convertToInteractive('df-1eb61fe5-293d-4e06-aa8a-6dc4fd60621f')\"\n",
              "              title=\"Convert this dataframe to an interactive table.\"\n",
              "              style=\"display:none;\">\n",
              "        \n",
              "  <svg xmlns=\"http://www.w3.org/2000/svg\" height=\"24px\"viewBox=\"0 0 24 24\"\n",
              "       width=\"24px\">\n",
              "    <path d=\"M0 0h24v24H0V0z\" fill=\"none\"/>\n",
              "    <path d=\"M18.56 5.44l.94 2.06.94-2.06 2.06-.94-2.06-.94-.94-2.06-.94 2.06-2.06.94zm-11 1L8.5 8.5l.94-2.06 2.06-.94-2.06-.94L8.5 2.5l-.94 2.06-2.06.94zm10 10l.94 2.06.94-2.06 2.06-.94-2.06-.94-.94-2.06-.94 2.06-2.06.94z\"/><path d=\"M17.41 7.96l-1.37-1.37c-.4-.4-.92-.59-1.43-.59-.52 0-1.04.2-1.43.59L10.3 9.45l-7.72 7.72c-.78.78-.78 2.05 0 2.83L4 21.41c.39.39.9.59 1.41.59.51 0 1.02-.2 1.41-.59l7.78-7.78 2.81-2.81c.8-.78.8-2.07 0-2.86zM5.41 20L4 18.59l7.72-7.72 1.47 1.35L5.41 20z\"/>\n",
              "  </svg>\n",
              "      </button>\n",
              "      \n",
              "  <style>\n",
              "    .colab-df-container {\n",
              "      display:flex;\n",
              "      flex-wrap:wrap;\n",
              "      gap: 12px;\n",
              "    }\n",
              "\n",
              "    .colab-df-convert {\n",
              "      background-color: #E8F0FE;\n",
              "      border: none;\n",
              "      border-radius: 50%;\n",
              "      cursor: pointer;\n",
              "      display: none;\n",
              "      fill: #1967D2;\n",
              "      height: 32px;\n",
              "      padding: 0 0 0 0;\n",
              "      width: 32px;\n",
              "    }\n",
              "\n",
              "    .colab-df-convert:hover {\n",
              "      background-color: #E2EBFA;\n",
              "      box-shadow: 0px 1px 2px rgba(60, 64, 67, 0.3), 0px 1px 3px 1px rgba(60, 64, 67, 0.15);\n",
              "      fill: #174EA6;\n",
              "    }\n",
              "\n",
              "    [theme=dark] .colab-df-convert {\n",
              "      background-color: #3B4455;\n",
              "      fill: #D2E3FC;\n",
              "    }\n",
              "\n",
              "    [theme=dark] .colab-df-convert:hover {\n",
              "      background-color: #434B5C;\n",
              "      box-shadow: 0px 1px 3px 1px rgba(0, 0, 0, 0.15);\n",
              "      filter: drop-shadow(0px 1px 2px rgba(0, 0, 0, 0.3));\n",
              "      fill: #FFFFFF;\n",
              "    }\n",
              "  </style>\n",
              "\n",
              "      <script>\n",
              "        const buttonEl =\n",
              "          document.querySelector('#df-1eb61fe5-293d-4e06-aa8a-6dc4fd60621f button.colab-df-convert');\n",
              "        buttonEl.style.display =\n",
              "          google.colab.kernel.accessAllowed ? 'block' : 'none';\n",
              "\n",
              "        async function convertToInteractive(key) {\n",
              "          const element = document.querySelector('#df-1eb61fe5-293d-4e06-aa8a-6dc4fd60621f');\n",
              "          const dataTable =\n",
              "            await google.colab.kernel.invokeFunction('convertToInteractive',\n",
              "                                                     [key], {});\n",
              "          if (!dataTable) return;\n",
              "\n",
              "          const docLinkHtml = 'Like what you see? Visit the ' +\n",
              "            '<a target=\"_blank\" href=https://colab.research.google.com/notebooks/data_table.ipynb>data table notebook</a>'\n",
              "            + ' to learn more about interactive tables.';\n",
              "          element.innerHTML = '';\n",
              "          dataTable['output_type'] = 'display_data';\n",
              "          await google.colab.output.renderOutput(dataTable, element);\n",
              "          const docLink = document.createElement('div');\n",
              "          docLink.innerHTML = docLinkHtml;\n",
              "          element.appendChild(docLink);\n",
              "        }\n",
              "      </script>\n",
              "    </div>\n",
              "  </div>\n",
              "  "
            ]
          },
          "metadata": {},
          "execution_count": 32
        }
      ]
    }
  ]
}