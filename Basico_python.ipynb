{
  "cells": [
    {
      "cell_type": "markdown",
      "metadata": {
        "id": "view-in-github",
        "colab_type": "text"
      },
      "source": [
        "<a href=\"https://colab.research.google.com/github/Latamila/Latamila/blob/main/Basico_python.ipynb\" target=\"_parent\"><img src=\"https://colab.research.google.com/assets/colab-badge.svg\" alt=\"Open In Colab\"/></a>"
      ]
    },
    {
      "cell_type": "markdown",
      "metadata": {
        "id": "2Ckjp-TvkFWz"
      },
      "source": [
        "# <font color='blue'>Data Science Academy</font>\n",
        "\n",
        "## <font color='blue'>Fundamentos de Linguagem Python Para Análise de Dados e Data Science</font>\n",
        "\n",
        "## <font color='blue'>Capítulo 4 - Exercícios</font>"
      ]
    },
    {
      "cell_type": "code",
      "execution_count": null,
      "metadata": {
        "id": "d2uERG9ukFW4",
        "outputId": "66717d57-c054-4e43-a5b1-c0821dfb767a"
      },
      "outputs": [
        {
          "name": "stdout",
          "output_type": "stream",
          "text": [
            "Versão da Linguagem Python Usada Neste Jupyter Notebook: 3.8.8\n"
          ]
        }
      ],
      "source": [
        "# Versão da Linguagem Python\n",
        "from platform import python_version\n",
        "print('Versão da Linguagem Python Usada Neste Jupyter Notebook:', python_version())"
      ]
    },
    {
      "cell_type": "markdown",
      "metadata": {
        "id": "mcZe2-jXkFW7"
      },
      "source": [
        "## Exercícios"
      ]
    },
    {
      "cell_type": "code",
      "execution_count": 2,
      "metadata": {
        "colab": {
          "base_uri": "https://localhost:8080/"
        },
        "id": "Lf25YPYzkFW7",
        "outputId": "11e97798-a64e-448d-977a-7681bdf4da1a"
      },
      "outputs": [
        {
          "output_type": "stream",
          "name": "stdout",
          "text": [
            "[1, 2, 3, 4, 5, 6, 7, 8, 9, 10]\n"
          ]
        }
      ],
      "source": [
        "# Exercício 1 - Imprima na tela os números de 1 a 10. Use uma lista para armazenar os números.\n",
        "lista=[]\n",
        "for i in range(1,11,1):\n",
        "  lista.append(i)\n",
        "\n",
        "print(lista)"
      ]
    },
    {
      "cell_type": "code",
      "execution_count": 3,
      "metadata": {
        "colab": {
          "base_uri": "https://localhost:8080/"
        },
        "id": "rjIZGz3ckFW7",
        "outputId": "22cd5846-a1c9-427b-e8d8-cb543005dece"
      },
      "outputs": [
        {
          "output_type": "stream",
          "name": "stdout",
          "text": [
            "[1, 2, 3, 4, 5]\n"
          ]
        }
      ],
      "source": [
        "# Exercício 2 - Crie uma lista de 5 objetos e imprima na tela\n",
        "lista=[1,2,3,4,5]\n",
        "print (lista)"
      ]
    },
    {
      "cell_type": "code",
      "execution_count": 5,
      "metadata": {
        "colab": {
          "base_uri": "https://localhost:8080/"
        },
        "id": "FZ8NHrcDkFW8",
        "outputId": "adb26318-fdab-4391-d2dc-dcc7efca43a8"
      },
      "outputs": [
        {
          "output_type": "stream",
          "name": "stdout",
          "text": [
            "camila veloso\n"
          ]
        }
      ],
      "source": [
        "# Exercício 3 - Crie duas strings e concatene as duas em uma terceira string\n",
        "a= 'camila'\n",
        "b= 'veloso'\n",
        "ab=a+' '+b\n",
        "print(ab)"
      ]
    },
    {
      "cell_type": "code",
      "execution_count": 6,
      "metadata": {
        "colab": {
          "base_uri": "https://localhost:8080/"
        },
        "id": "WNKhHUABkFW8",
        "outputId": "d025852c-63c7-46b6-cd6b-cec879d7a364"
      },
      "outputs": [
        {
          "output_type": "execute_result",
          "data": {
            "text/plain": [
              "3"
            ]
          },
          "metadata": {},
          "execution_count": 6
        }
      ],
      "source": [
        "# Exercício 4 - Crie uma tupla com os seguintes elementos: 1, 2, 2, 3, 4, 4, 4, 5 e depois utilize a função count do\n",
        "# objeto tupla para verificar quantas vezes o número 4 aparece na tupla\n",
        "rep =(1,2,2,3,4,4,4,5)\n",
        "rep.count(4)"
      ]
    },
    {
      "cell_type": "code",
      "execution_count": 7,
      "metadata": {
        "colab": {
          "base_uri": "https://localhost:8080/"
        },
        "id": "2aVTJXp_kFW8",
        "outputId": "484b7672-2214-43e0-a3db-fefc16594ab1"
      },
      "outputs": [
        {
          "output_type": "stream",
          "name": "stdout",
          "text": [
            "{}\n"
          ]
        }
      ],
      "source": [
        "# Exercício 5 - Crie um dicionário vazio e imprima na tela\n",
        "dicio={}\n",
        "print(dicio)"
      ]
    },
    {
      "cell_type": "code",
      "execution_count": 8,
      "metadata": {
        "colab": {
          "base_uri": "https://localhost:8080/"
        },
        "id": "26_tBMf_kFW9",
        "outputId": "dca4eb9b-fdd4-4bce-fb7b-df6d8fd5fff8"
      },
      "outputs": [
        {
          "output_type": "stream",
          "name": "stdout",
          "text": [
            "{'mae': 'camila', 'pai': 'alex', 'filhos': 'joao e mateus'}\n"
          ]
        }
      ],
      "source": [
        "# Exercício 6 - Crie um dicionário com 3 chaves e 3 valores e imprima na tela\n",
        "familia ={'mae':'camila','pai':'alex','filhos':'joao e mateus' }\n",
        "print(familia)"
      ]
    },
    {
      "cell_type": "code",
      "execution_count": 12,
      "metadata": {
        "colab": {
          "base_uri": "https://localhost:8080/"
        },
        "id": "wx4P6OPEkFW9",
        "outputId": "15169a0c-93cb-4a04-87cb-b688a84b30a8"
      },
      "outputs": [
        {
          "output_type": "stream",
          "name": "stdout",
          "text": [
            "{'mae': 'camila', 'pai': 'alex', 'filhos': 'joao e mateus', 'avó': 'odete'}\n"
          ]
        }
      ],
      "source": [
        "familia.update({'avó':'odete'})\n",
        "print(familia)\n",
        "# Exercício 7 - Adicione mais um elemento ao dicionário criado no exercício anterior e imprima na tela"
      ]
    },
    {
      "cell_type": "code",
      "execution_count": 13,
      "metadata": {
        "colab": {
          "base_uri": "https://localhost:8080/"
        },
        "id": "qDJqU-8ckFW-",
        "outputId": "df57072f-0fee-49d4-d832-fdfb6434d9e4"
      },
      "outputs": [
        {
          "output_type": "stream",
          "name": "stdout",
          "text": [
            "{'rua': 'monte alverne', 'numero': [36, 42], 'bairro': 'campinho'}\n"
          ]
        }
      ],
      "source": [
        "# Exercício 8 - Crie um dicionário com 3 chaves e 3 valores.\n",
        "# Um dos valores deve ser uma lista de 2 elementos numéricos.\n",
        "# Imprima o dicionário na tela.\n",
        "dicio={'rua':'monte alverne', 'numero': [36,42], 'bairro':'campinho'}\n",
        "print(dicio)"
      ]
    },
    {
      "cell_type": "code",
      "execution_count": 16,
      "metadata": {
        "colab": {
          "base_uri": "https://localhost:8080/"
        },
        "id": "MYt_poifkFW-",
        "outputId": "8282da22-e9ad-45b7-fa43-0244dd9f57d0"
      },
      "outputs": [
        {
          "output_type": "stream",
          "name": "stdout",
          "text": [
            "['camila', (2, 4), {'arroz': 17.5, 'feijao': 6.9}, 6.78]\n"
          ]
        }
      ],
      "source": [
        "# Exercício 9 - Crie uma lista de 4 elementos. O primeiro elemento deve ser uma string,\n",
        "# o segundo uma tupla de 2 elementos, o terceiro um dcionário com 2 chaves e 2 valores e\n",
        "# o quarto elemento um valor do tipo float.\n",
        "# Imprima a lista.\n",
        "lista = ['camila',(2,4),{'arroz':17.50,'feijao':6.90},6.78]\n",
        "print(lista)"
      ]
    },
    {
      "cell_type": "code",
      "execution_count": 17,
      "metadata": {
        "colab": {
          "base_uri": "https://localhost:8080/",
          "height": 35
        },
        "id": "iu-2ytVSkFW_",
        "outputId": "d7167793-fa0b-4329-a816-0e31f022cb8f"
      },
      "outputs": [
        {
          "output_type": "execute_result",
          "data": {
            "text/plain": [
              "'ientista de Dados'"
            ],
            "application/vnd.google.colaboratory.intrinsic+json": {
              "type": "string"
            }
          },
          "metadata": {},
          "execution_count": 17
        }
      ],
      "source": [
        "# Exercício 10 - Considere a string abaixo. Imprima na tela apenas os caracteres da posição 1 a 18.\n",
        "frase = 'Cientista de Dados é o profissional mais sexy do século XXI'\n",
        "frase[1:18]"
      ]
    },
    {
      "cell_type": "markdown",
      "source": [],
      "metadata": {
        "id": "XUzhzWPWpJeo"
      }
    },
    {
      "cell_type": "markdown",
      "metadata": {
        "id": "R0qCVseekFW_"
      },
      "source": [
        "# Fim"
      ]
    },
    {
      "cell_type": "markdown",
      "metadata": {
        "id": "IUA5cJVSkFW_"
      },
      "source": [
        "### Obrigado\n",
        "\n",
        "### Visite o Blog da Data Science Academy - <a href=\"http://blog.dsacademy.com.br\">Blog DSA</a>"
      ]
    }
  ],
  "metadata": {
    "kernelspec": {
      "display_name": "Python 3 (ipykernel)",
      "language": "python",
      "name": "python3"
    },
    "language_info": {
      "codemirror_mode": {
        "name": "ipython",
        "version": 3
      },
      "file_extension": ".py",
      "mimetype": "text/x-python",
      "name": "python",
      "nbconvert_exporter": "python",
      "pygments_lexer": "ipython3",
      "version": "3.9.13"
    },
    "colab": {
      "provenance": [],
      "include_colab_link": true
    }
  },
  "nbformat": 4,
  "nbformat_minor": 0
}