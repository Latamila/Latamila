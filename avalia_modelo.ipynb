{
  "nbformat": 4,
  "nbformat_minor": 0,
  "metadata": {
    "colab": {
      "provenance": [],
      "authorship_tag": "ABX9TyNi5ha0qUhixiJ7uvJ3h/CY",
      "include_colab_link": true
    },
    "kernelspec": {
      "name": "python3",
      "display_name": "Python 3"
    },
    "language_info": {
      "name": "python"
    }
  },
  "cells": [
    {
      "cell_type": "markdown",
      "metadata": {
        "id": "view-in-github",
        "colab_type": "text"
      },
      "source": [
        "<a href=\"https://colab.research.google.com/github/Latamila/Latamila/blob/main/avalia_modelo.ipynb\" target=\"_parent\"><img src=\"https://colab.research.google.com/assets/colab-badge.svg\" alt=\"Open In Colab\"/></a>"
      ]
    },
    {
      "cell_type": "markdown",
      "source": [
        "# MODELAGEM PREDITIVA\n",
        "\n",
        "Vamos construir 6 versoes do modelo de machine learining usando 6 diferentes algoritmos. ao final, vamos compara-las e entao selecionar a melhor versao do modelo\n",
        "\n",
        "**formulas das metricas de avaliação dos modelos**\n",
        "\n",
        "acuracy = (TP + TN)/(TP + TN + FP + FN)\n",
        "\n",
        "Precision = TP /(TP + FP)\n",
        "\n",
        "recall = TP / (TP + FN)\n",
        "\n",
        "F1-SCORE = 2 x (PRECISION * RECALL)/(PRECISION + RECALL)\n",
        "\n",
        "\n",
        "\n"
      ],
      "metadata": {
        "id": "LW0OAdpBLcOy"
      }
    },
    {
      "cell_type": "code",
      "execution_count": null,
      "metadata": {
        "id": "b6BqP9ThLNhJ"
      },
      "outputs": [],
      "source": [
        "def avalia_modelo(model_pred, model_name:str, y_test = y_teste):\n",
        "  confusion = confusion_matrix(y_teste, model_pred)\n",
        "\n",
        "  TP = confusion[1,1] #true positive\n",
        "  TN = confusion[0,0] #true negative\n",
        "  FP = confusion[1,0] #FALSE POSITIVE\n",
        "  FN = confusion[0,1] #FALSE NEGATIVE\n",
        "\n",
        "  acuracy = (TP + TN)/(TP + TN + FP + FN)\n",
        "  precision = TP /(TP + FP)\n",
        "  recall = TP / (TP + FN)\n",
        "  f1_score = 2*(precision * recall)/(precision + recall)\n",
        "\n",
        "  print(f\"Avaliação do modelo de {model_name}\")\n",
        "  print(f\"-------------------------------------\")\n",
        "  print(f\"Accuracy: {accuracy}\")\n",
        "  print(f\"Precision: {precision}\")\n",
        "  print(f\"Recall: {recall}\")\n",
        "  print(f\"F1-score: {f1_score}\")\n",
        "  print(f\"--------------------------------------\")\n",
        "\n"
      ]
    }
  ]
}