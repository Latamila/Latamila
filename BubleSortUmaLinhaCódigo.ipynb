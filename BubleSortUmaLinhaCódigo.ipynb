{
  "nbformat": 4,
  "nbformat_minor": 0,
  "metadata": {
    "colab": {
      "provenance": [],
      "authorship_tag": "ABX9TyP7nNGf3RDpU7LlIv5o0JXt",
      "include_colab_link": true
    },
    "kernelspec": {
      "name": "python3",
      "display_name": "Python 3"
    },
    "language_info": {
      "name": "python"
    }
  },
  "cells": [
    {
      "cell_type": "markdown",
      "metadata": {
        "id": "view-in-github",
        "colab_type": "text"
      },
      "source": [
        "<a href=\"https://colab.research.google.com/github/Latamila/Latamila/blob/main/BubleSortUmaLinhaC%C3%B3digo.ipynb\" target=\"_parent\"><img src=\"https://colab.research.google.com/assets/colab-badge.svg\" alt=\"Open In Colab\"/></a>"
      ]
    },
    {
      "cell_type": "code",
      "execution_count": 8,
      "metadata": {
        "colab": {
          "base_uri": "https://localhost:8080/"
        },
        "id": "zy1gPKOXdPZO",
        "outputId": "fbdb2925-7b27-4ba7-bfbc-f0b91e331ed1"
      },
      "outputs": [
        {
          "output_type": "stream",
          "name": "stdout",
          "text": [
            "[0, 1, 3, 4, 6, 7, 8, 10, 11, 12, 16, 17, 19, 21, 29, 30, 34, 39, 43, 56, 61, 67, 82]\n"
          ]
        }
      ],
      "source": [
        "lista = [6,7,8,3,10,19,4,1,0,61,30,16,17,82,29,34,43,21,11,39,56,67,12]\n",
        "\n",
        "lista_ordenada = sorted(lista, key=lambda x: (x, lista.remove(x)))\n",
        "print(lista_ordenada)\n"
      ]
    },
    {
      "cell_type": "markdown",
      "source": [
        "Para este codigo de buble sort"
      ],
      "metadata": {
        "id": "h59ff0QDeD7J"
      }
    },
    {
      "cell_type": "markdown",
      "source": [
        "A função remove é uma função de lista em Python que remove a primeira ocorrência de um valor específico da lista. No entanto, é importante notar que o uso de remove dentro da função lambda está sendo utilizado para criar uma chave de ordenação personalizada para a função sorted.\n",
        "\n",
        "A função sorted tem um argumento opcional chamado key, que é uma função que é chamada para extrair uma chave de comparação para cada elemento na lista. No exemplo, a função lambda lambda x: (x, lista.remove(x)) é usada como a chave.\n",
        "\n",
        "Essa função lambda retorna uma tupla com dois elementos para cada elemento x na lista. O primeiro elemento da tupla é o próprio valor x, e o segundo elemento é o resultado de lista.remove(x). A chamada a lista.remove(x) remove a primeira ocorrência de x da lista, então o segundo elemento da tupla será a posição onde x estava originalmente na lista.\n",
        "\n",
        "Esta abordagem cria uma chave de ordenação composta. Se dois elementos tiverem valores diferentes, eles serão ordenados pelo valor diretamente. Se tiverem o mesmo valor, serão ordenados pelo índice original na lista.\n",
        "\n",
        "No entanto, é importante observar que esse método pode ter comportamento inesperado em alguns casos e não é a forma recomendada de usar a função sorted para realizar um Bubble Sort. O Bubble Sort clássico usa comparações diretas e trocas de elementos adjacentes, enquanto este método está explorando características específicas da implementação interna do remove na lista.\n",
        "\n",
        "\n",
        "\n",
        "\n",
        "\n",
        "\n"
      ],
      "metadata": {
        "id": "n3-BFp_se2OA"
      }
    },
    {
      "cell_type": "markdown",
      "source": [
        "O uso da função remove na chave key do sorted pode levar a comportamentos inesperados em vários cenários, especialmente porque a remoção de elementos de uma lista enquanto ela está sendo iterada pode causar resultados indesejados. Aqui estão alguns pontos a serem considerados:\n",
        "\n",
        "##Alteração da lista original durante a iteração:\n",
        "\n",
        "A função remove modifica a lista enquanto ela está sendo percorrida pela função sorted, o que pode causar problemas inesperados, incluindo loops infinitos ou resultados imprevisíveis.\n",
        "\n",
        "##Comportamento indefinido em valores repetidos:\n",
        "\n",
        "Se houver valores repetidos na lista, o comportamento da função remove não é garantido, pois ela remove a primeira ocorrência encontrada. Isso pode resultar em ordens imprevisíveis para elementos iguais.\n",
        "\n",
        "##Eficiência:\n",
        "\n",
        "O uso de remove dentro de um loop pode resultar em uma complexidade de tempo quadrática (O(n²)), o que é ineficiente para grandes conjuntos de dados. O Bubble Sort clássico, por si só, já não é a abordagem mais eficiente para ordenação.\n",
        "\n",
        "##Portabilidade:\n",
        "\n",
        "O código pode depender da implementação específica da função remove em uma determinada versão do Python. Mudanças futuras na implementação podem afetar o comportamento do código.\n",
        "\n",
        "Em resumo, enquanto é interessante explorar truques e técnicas em Python, usar remove para criar uma chave de ordenação no contexto do sorted pode não ser a abordagem mais clara, previsível ou eficiente. Em situações reais, é aconselhável usar métodos de ordenação mais convencionais e compreensíveis, como o Bubble Sort clássico ou algoritmos de ordenação mais eficientes, dependendo dos requisitos específicos.\n",
        "\n",
        "\n",
        "\n",
        "\n",
        "\n"
      ],
      "metadata": {
        "id": "RNs9tgkJgFeK"
      }
    },
    {
      "cell_type": "markdown",
      "source": [
        "##BUBLE SORT CLASSICO\n",
        "\n"
      ],
      "metadata": {
        "id": "FgNjoWnVgdjP"
      }
    },
    {
      "cell_type": "code",
      "source": [
        "lista = [6,7,8,3,10,19,4,1,0,61,30,16,17,82,29,34,43,21,11,39,56,67,12]"
      ],
      "metadata": {
        "id": "SzW0W0OyivxG"
      },
      "execution_count": 22,
      "outputs": []
    },
    {
      "cell_type": "code",
      "source": [
        "def bubble_sort(lista):\n",
        "  n = len(lista)\n",
        "\n",
        "  #para cada elemento i do array\n",
        "  for i in range(n):\n",
        "\n",
        "    #para cada elemento j do array\n",
        "    for j in range(0, n-i-1):\n",
        "\n",
        "      #se o elemento i for maior que o valor j\n",
        "      if lista[j] > lista[j+1]:\n",
        "        #troque os elementos i e j\n",
        "        lista[j], lista[j+1] = lista[j+1], lista[j]\n",
        "\n",
        "  return lista"
      ],
      "metadata": {
        "id": "DcdzI4OxdoIm"
      },
      "execution_count": 23,
      "outputs": []
    },
    {
      "cell_type": "code",
      "source": [
        "print(bubble_sort(lista))"
      ],
      "metadata": {
        "colab": {
          "base_uri": "https://localhost:8080/"
        },
        "id": "p5ueSr0Mhbbn",
        "outputId": "5a915aba-9321-4564-c27e-d66ac31730f3"
      },
      "execution_count": 24,
      "outputs": [
        {
          "output_type": "stream",
          "name": "stdout",
          "text": [
            "[0, 1, 3, 4, 6, 7, 8, 10, 11, 12, 16, 17, 19, 21, 29, 30, 34, 39, 43, 56, 61, 67, 82]\n"
          ]
        }
      ]
    },
    {
      "cell_type": "code",
      "source": [],
      "metadata": {
        "id": "l0E80Kc0hfor"
      },
      "execution_count": null,
      "outputs": []
    }
  ]
}